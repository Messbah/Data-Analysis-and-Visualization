{
 "cells": [
  {
   "cell_type": "code",
   "execution_count": 2,
   "metadata": {},
   "outputs": [],
   "source": [
    "import pandas as pd\n",
    "import numpy as np\n",
    "from datetime import datetime\n",
    "import matplotlib.pyplot as plt\n",
    "\n",
    "%matplotlib inline\n",
    "table  = pd.read_csv(\"D:\\Lectures\\England\\DAV\\Report\\dataset\\sensing\\phonecharge\\phonecharge_u01.csv\")"
   ]
  },
  {
   "cell_type": "code",
   "execution_count": 3,
   "metadata": {},
   "outputs": [
    {
     "data": {
      "text/html": [
       "<div>\n",
       "<style scoped>\n",
       "    .dataframe tbody tr th:only-of-type {\n",
       "        vertical-align: middle;\n",
       "    }\n",
       "\n",
       "    .dataframe tbody tr th {\n",
       "        vertical-align: top;\n",
       "    }\n",
       "\n",
       "    .dataframe thead th {\n",
       "        text-align: right;\n",
       "    }\n",
       "</style>\n",
       "<table border=\"1\" class=\"dataframe\">\n",
       "  <thead>\n",
       "    <tr style=\"text-align: right;\">\n",
       "      <th></th>\n",
       "      <th>start</th>\n",
       "      <th>end</th>\n",
       "    </tr>\n",
       "  </thead>\n",
       "  <tbody>\n",
       "    <tr>\n",
       "      <th>0</th>\n",
       "      <td>1364359041</td>\n",
       "      <td>1364387080</td>\n",
       "    </tr>\n",
       "    <tr>\n",
       "      <th>1</th>\n",
       "      <td>1364531150</td>\n",
       "      <td>1364560331</td>\n",
       "    </tr>\n",
       "    <tr>\n",
       "      <th>2</th>\n",
       "      <td>1364622533</td>\n",
       "      <td>1364657458</td>\n",
       "    </tr>\n",
       "    <tr>\n",
       "      <th>3</th>\n",
       "      <td>1364703563</td>\n",
       "      <td>1364739262</td>\n",
       "    </tr>\n",
       "    <tr>\n",
       "      <th>4</th>\n",
       "      <td>1364746373</td>\n",
       "      <td>1364750694</td>\n",
       "    </tr>\n",
       "  </tbody>\n",
       "</table>\n",
       "</div>"
      ],
      "text/plain": [
       "        start         end\n",
       "0  1364359041  1364387080\n",
       "1  1364531150  1364560331\n",
       "2  1364622533  1364657458\n",
       "3  1364703563  1364739262\n",
       "4  1364746373  1364750694"
      ]
     },
     "execution_count": 3,
     "metadata": {},
     "output_type": "execute_result"
    }
   ],
   "source": [
    "table.head()"
   ]
  },
  {
   "cell_type": "code",
   "execution_count": 4,
   "metadata": {},
   "outputs": [],
   "source": [
    "for row in table.iterrows():\n",
    "    table['start'] = table['start'].replace(row[1][0],datetime.fromtimestamp(row[1][0]))\n",
    "    "
   ]
  },
  {
   "cell_type": "code",
   "execution_count": 5,
   "metadata": {},
   "outputs": [],
   "source": [
    "for row in table.iterrows():\n",
    "    table['end'] = table['end'].replace(row[1][1],datetime.fromtimestamp(row[1][1]))"
   ]
  },
  {
   "cell_type": "code",
   "execution_count": 6,
   "metadata": {},
   "outputs": [],
   "source": [
    "table['Charge Duration']= table['end']- table['start']"
   ]
  },
  {
   "cell_type": "code",
   "execution_count": 7,
   "metadata": {},
   "outputs": [
    {
     "data": {
      "text/plain": [
       "count                           44\n",
       "mean     0 days 06:17:24.977272727\n",
       "std      0 days 02:58:27.917458675\n",
       "min                0 days 01:07:10\n",
       "25%         0 days 03:09:38.500000\n",
       "50%                0 days 07:11:16\n",
       "75%         0 days 08:23:18.500000\n",
       "max                0 days 09:54:59\n",
       "Name: Charge Duration, dtype: object"
      ]
     },
     "execution_count": 7,
     "metadata": {},
     "output_type": "execute_result"
    }
   ],
   "source": [
    "table['Charge Duration'].describe()"
   ]
  },
  {
   "cell_type": "code",
   "execution_count": 644,
   "metadata": {},
   "outputs": [
    {
     "data": {
      "image/png": "[encoded data removed]",
      "text/plain": [
       "<Figure size 432x288 with 1 Axes>"
      ]
     },
     "metadata": {
      "needs_background": "light"
     },
     "output_type": "display_data"
    }
   ],
   "source": [
    "plt.scatter(table['start'],table['end'])\n",
    "plt.show()\n"
   ]
  },
  {
   "cell_type": "code",
   "execution_count": 8,
   "metadata": {},
   "outputs": [
    {
     "data": {
      "text/html": [
       "<div>\n",
       "<style scoped>\n",
       "    .dataframe tbody tr th:only-of-type {\n",
       "        vertical-align: middle;\n",
       "    }\n",
       "\n",
       "    .dataframe tbody tr th {\n",
       "        vertical-align: top;\n",
       "    }\n",
       "\n",
       "    .dataframe thead th {\n",
       "        text-align: right;\n",
       "    }\n",
       "</style>\n",
       "<table border=\"1\" class=\"dataframe\">\n",
       "  <thead>\n",
       "    <tr style=\"text-align: right;\">\n",
       "      <th></th>\n",
       "      <th>start</th>\n",
       "      <th>end</th>\n",
       "      <th>Charge Duration</th>\n",
       "    </tr>\n",
       "  </thead>\n",
       "  <tbody>\n",
       "    <tr>\n",
       "      <th>0</th>\n",
       "      <td>2013-03-27 04:37:21</td>\n",
       "      <td>2013-03-27 12:24:40</td>\n",
       "      <td>0 days 07:47:19</td>\n",
       "    </tr>\n",
       "    <tr>\n",
       "      <th>1</th>\n",
       "      <td>2013-03-29 04:25:50</td>\n",
       "      <td>2013-03-29 12:32:11</td>\n",
       "      <td>0 days 08:06:21</td>\n",
       "    </tr>\n",
       "    <tr>\n",
       "      <th>2</th>\n",
       "      <td>2013-03-30 05:48:53</td>\n",
       "      <td>2013-03-30 15:30:58</td>\n",
       "      <td>0 days 09:42:05</td>\n",
       "    </tr>\n",
       "    <tr>\n",
       "      <th>3</th>\n",
       "      <td>2013-03-31 05:19:23</td>\n",
       "      <td>2013-03-31 15:14:22</td>\n",
       "      <td>0 days 09:54:59</td>\n",
       "    </tr>\n",
       "    <tr>\n",
       "      <th>4</th>\n",
       "      <td>2013-03-31 17:12:53</td>\n",
       "      <td>2013-03-31 18:24:54</td>\n",
       "      <td>0 days 01:12:01</td>\n",
       "    </tr>\n",
       "  </tbody>\n",
       "</table>\n",
       "</div>"
      ],
      "text/plain": [
       "                start                 end Charge Duration\n",
       "0 2013-03-27 04:37:21 2013-03-27 12:24:40 0 days 07:47:19\n",
       "1 2013-03-29 04:25:50 2013-03-29 12:32:11 0 days 08:06:21\n",
       "2 2013-03-30 05:48:53 2013-03-30 15:30:58 0 days 09:42:05\n",
       "3 2013-03-31 05:19:23 2013-03-31 15:14:22 0 days 09:54:59\n",
       "4 2013-03-31 17:12:53 2013-03-31 18:24:54 0 days 01:12:01"
      ]
     },
     "execution_count": 8,
     "metadata": {},
     "output_type": "execute_result"
    }
   ],
   "source": [
    "table.head()"
   ]
  },
  {
   "cell_type": "code",
   "execution_count": 646,
   "metadata": {},
   "outputs": [
    {
     "data": {
      "text/html": [
       "<div>\n",
       "<style scoped>\n",
       "    .dataframe tbody tr th:only-of-type {\n",
       "        vertical-align: middle;\n",
       "    }\n",
       "\n",
       "    .dataframe tbody tr th {\n",
       "        vertical-align: top;\n",
       "    }\n",
       "\n",
       "    .dataframe thead th {\n",
       "        text-align: right;\n",
       "    }\n",
       "</style>\n",
       "<table border=\"1\" class=\"dataframe\">\n",
       "  <thead>\n",
       "    <tr style=\"text-align: right;\">\n",
       "      <th></th>\n",
       "      <th>end</th>\n",
       "      <th>Charge Duration</th>\n",
       "    </tr>\n",
       "    <tr>\n",
       "      <th>start</th>\n",
       "      <th></th>\n",
       "      <th></th>\n",
       "    </tr>\n",
       "  </thead>\n",
       "  <tbody>\n",
       "    <tr>\n",
       "      <th>2013-03-27 04:40:36</th>\n",
       "      <td>2013-03-27 05:53:33</td>\n",
       "      <td>0 days 01:12:57</td>\n",
       "    </tr>\n",
       "    <tr>\n",
       "      <th>2013-03-27 06:21:15</th>\n",
       "      <td>2013-03-27 11:56:36</td>\n",
       "      <td>0 days 05:35:21</td>\n",
       "    </tr>\n",
       "    <tr>\n",
       "      <th>2013-03-28 05:53:22</th>\n",
       "      <td>2013-03-28 08:00:28</td>\n",
       "      <td>0 days 02:07:06</td>\n",
       "    </tr>\n",
       "    <tr>\n",
       "      <th>2013-03-29 05:54:51</th>\n",
       "      <td>2013-03-29 11:58:29</td>\n",
       "      <td>0 days 06:03:38</td>\n",
       "    </tr>\n",
       "    <tr>\n",
       "      <th>2013-03-29 15:22:36</th>\n",
       "      <td>2013-03-29 17:04:06</td>\n",
       "      <td>0 days 01:41:30</td>\n",
       "    </tr>\n",
       "    <tr>\n",
       "      <th>...</th>\n",
       "      <td>...</td>\n",
       "      <td>...</td>\n",
       "    </tr>\n",
       "    <tr>\n",
       "      <th>2013-05-30 05:47:00</th>\n",
       "      <td>2013-05-30 12:25:27</td>\n",
       "      <td>0 days 06:38:27</td>\n",
       "    </tr>\n",
       "    <tr>\n",
       "      <th>2013-05-31 01:37:30</th>\n",
       "      <td>2013-05-31 02:43:44</td>\n",
       "      <td>0 days 01:06:14</td>\n",
       "    </tr>\n",
       "    <tr>\n",
       "      <th>2013-05-31 08:19:43</th>\n",
       "      <td>2013-05-31 15:18:58</td>\n",
       "      <td>0 days 06:59:15</td>\n",
       "    </tr>\n",
       "    <tr>\n",
       "      <th>2013-05-31 19:38:08</th>\n",
       "      <td>2013-05-31 22:43:50</td>\n",
       "      <td>0 days 03:05:42</td>\n",
       "    </tr>\n",
       "    <tr>\n",
       "      <th>2013-05-31 23:12:34</th>\n",
       "      <td>2013-06-01 01:04:11</td>\n",
       "      <td>0 days 01:51:37</td>\n",
       "    </tr>\n",
       "  </tbody>\n",
       "</table>\n",
       "<p>154 rows × 2 columns</p>\n",
       "</div>"
      ],
      "text/plain": [
       "                                    end Charge Duration\n",
       "start                                                  \n",
       "2013-03-27 04:40:36 2013-03-27 05:53:33 0 days 01:12:57\n",
       "2013-03-27 06:21:15 2013-03-27 11:56:36 0 days 05:35:21\n",
       "2013-03-28 05:53:22 2013-03-28 08:00:28 0 days 02:07:06\n",
       "2013-03-29 05:54:51 2013-03-29 11:58:29 0 days 06:03:38\n",
       "2013-03-29 15:22:36 2013-03-29 17:04:06 0 days 01:41:30\n",
       "...                                 ...             ...\n",
       "2013-05-30 05:47:00 2013-05-30 12:25:27 0 days 06:38:27\n",
       "2013-05-31 01:37:30 2013-05-31 02:43:44 0 days 01:06:14\n",
       "2013-05-31 08:19:43 2013-05-31 15:18:58 0 days 06:59:15\n",
       "2013-05-31 19:38:08 2013-05-31 22:43:50 0 days 03:05:42\n",
       "2013-05-31 23:12:34 2013-06-01 01:04:11 0 days 01:51:37\n",
       "\n",
       "[154 rows x 2 columns]"
      ]
     },
     "execution_count": 646,
     "metadata": {},
     "output_type": "execute_result"
    }
   ],
   "source": [
    "table.set_index('start')"
   ]
  },
  {
   "cell_type": "code",
   "execution_count": 647,
   "metadata": {},
   "outputs": [],
   "source": [
    "df=table\n",
    "df=df.drop(['end'], 1)"
   ]
  },
  {
   "cell_type": "code",
   "execution_count": 648,
   "metadata": {},
   "outputs": [
    {
     "data": {
      "text/plain": [
       "[<matplotlib.lines.Line2D at 0x1eb104bdaf0>]"
      ]
     },
     "execution_count": 648,
     "metadata": {},
     "output_type": "execute_result"
    },
    {
     "data": {
      "image/png": "[encoded data removed]",
      "text/plain": [
       "<Figure size 432x288 with 1 Axes>"
      ]
     },
     "metadata": {
      "needs_background": "light"
     },
     "output_type": "display_data"
    }
   ],
   "source": [
    "plt.plot_date(df['start'],df['Charge Duration'])"
   ]
  },
  {
   "cell_type": "code",
   "execution_count": 649,
   "metadata": {},
   "outputs": [],
   "source": [
    "df.to_csv('user50_charge.csv')"
   ]
  },
  {
   "cell_type": "code",
   "execution_count": 9,
   "metadata": {},
   "outputs": [
    {
     "data": {
      "text/html": [
       "<div>\n",
       "<style scoped>\n",
       "    .dataframe tbody tr th:only-of-type {\n",
       "        vertical-align: middle;\n",
       "    }\n",
       "\n",
       "    .dataframe tbody tr th {\n",
       "        vertical-align: top;\n",
       "    }\n",
       "\n",
       "    .dataframe thead th {\n",
       "        text-align: right;\n",
       "    }\n",
       "</style>\n",
       "<table border=\"1\" class=\"dataframe\">\n",
       "  <thead>\n",
       "    <tr style=\"text-align: right;\">\n",
       "      <th></th>\n",
       "      <th>index</th>\n",
       "      <th>start</th>\n",
       "      <th>Charge Duration</th>\n",
       "      <th>User</th>\n",
       "    </tr>\n",
       "  </thead>\n",
       "  <tbody>\n",
       "    <tr>\n",
       "      <th>0</th>\n",
       "      <td>0.0</td>\n",
       "      <td>3/27/2013 20:36</td>\n",
       "      <td>0 days 04:53:57</td>\n",
       "      <td>1</td>\n",
       "    </tr>\n",
       "    <tr>\n",
       "      <th>1</th>\n",
       "      <td>1.0</td>\n",
       "      <td>3/28/2013 21:20</td>\n",
       "      <td>0 days 01:00:06</td>\n",
       "      <td>1</td>\n",
       "    </tr>\n",
       "    <tr>\n",
       "      <th>2</th>\n",
       "      <td>2.0</td>\n",
       "      <td>3/28/2013 23:44</td>\n",
       "      <td>0 days 02:03:12</td>\n",
       "      <td>1</td>\n",
       "    </tr>\n",
       "    <tr>\n",
       "      <th>3</th>\n",
       "      <td>3.0</td>\n",
       "      <td>3/29/2013 18:41</td>\n",
       "      <td>0 days 02:32:17</td>\n",
       "      <td>1</td>\n",
       "    </tr>\n",
       "    <tr>\n",
       "      <th>4</th>\n",
       "      <td>4.0</td>\n",
       "      <td>3/29/2013 22:05</td>\n",
       "      <td>0 days 03:42:18</td>\n",
       "      <td>1</td>\n",
       "    </tr>\n",
       "  </tbody>\n",
       "</table>\n",
       "</div>"
      ],
      "text/plain": [
       "   index            start  Charge Duration  User\n",
       "0    0.0  3/27/2013 20:36  0 days 04:53:57     1\n",
       "1    1.0  3/28/2013 21:20  0 days 01:00:06     1\n",
       "2    2.0  3/28/2013 23:44  0 days 02:03:12     1\n",
       "3    3.0  3/29/2013 18:41  0 days 02:32:17     1\n",
       "4    4.0  3/29/2013 22:05  0 days 03:42:18     1"
      ]
     },
     "execution_count": 9,
     "metadata": {},
     "output_type": "execute_result"
    }
   ],
   "source": [
    "import pandas as pd\n",
    "import numpy as np\n",
    "from datetime import datetime\n",
    "import matplotlib.pyplot as plt\n",
    "\n",
    "%matplotlib inline\n",
    "table  = pd.read_csv(r\"C:\\Users\\muhad\\DAV\\charge_combined.csv\")\n",
    "table.head()"
   ]
  },
  {
   "cell_type": "code",
   "execution_count": 24,
   "metadata": {},
   "outputs": [],
   "source": [
    "table['Charge Duration'] = pd.to_timedelta(table['Charge Duration'])\n",
    "#total_charge= table.groupby('User')['Charge Duration'].sum()\n",
    "table['Charge Duration in Seconds'] = table['Charge Duration'].dt.total_seconds()"
   ]
  },
  {
   "cell_type": "code",
   "execution_count": 36,
   "metadata": {},
   "outputs": [],
   "source": [
    "charge_time = table.groupby(by=[\"User\"], dropna=False).sum()\n"
   ]
  },
  {
   "cell_type": "code",
   "execution_count": 40,
   "metadata": {},
   "outputs": [],
   "source": [
    "charge_time['Charge Duration in Minutes'] = charge_time['Charge Duration in Seconds']/60"
   ]
  },
  {
   "cell_type": "code",
   "execution_count": 48,
   "metadata": {},
   "outputs": [],
   "source": [
    "charge_time['User ID']= charge_time.index"
   ]
  },
  {
   "cell_type": "code",
   "execution_count": 50,
   "metadata": {},
   "outputs": [
    {
     "data": {
      "image/png": "[encoded data removed]",
      "text/plain": [
       "<Figure size 720x576 with 1 Axes>"
      ]
     },
     "metadata": {
      "needs_background": "light"
     },
     "output_type": "display_data"
    }
   ],
   "source": [
    "charge_time.plot(kind='bar', x='User ID', y='Charge Duration in Minutes', \n",
    "        figsize=(10, 8), legend=True, color='green', rot=0);\n",
    "plt.title(\"Charge Duration in Minutes for 10 Weeks\", fontsize=20)\n",
    "plt.xlabel(\"Student ID\", labelpad=10, fontsize=15)\n",
    "plt.ylabel(\"Time Phones put in Charge\", labelpad=10, fontsize=15)\n",
    "plt.show()"
   ]
  },
  {
   "cell_type": "code",
   "execution_count": 51,
   "metadata": {},
   "outputs": [
    {
     "data": {
      "text/plain": [
       "16385.005208333332"
      ]
     },
     "execution_count": 51,
     "metadata": {},
     "output_type": "execute_result"
    }
   ],
   "source": [
    "charge_time['Charge Duration in Minutes'].mean()"
   ]
  },
  {
   "cell_type": "code",
   "execution_count": null,
   "metadata": {},
   "outputs": [],
   "source": []
  }
 ],
 "metadata": {
  "kernelspec": {
   "display_name": "Python 3",
   "language": "python",
   "name": "python3"
  },
  "language_info": {
   "codemirror_mode": {
    "name": "ipython",
    "version": 3
   },
   "file_extension": ".py",
   "mimetype": "text/x-python",
   "name": "python",
   "nbconvert_exporter": "python",
   "pygments_lexer": "ipython3",
   "version": "3.8.5"
  }
 },
 "nbformat": 4,
 "nbformat_minor": 4
}
