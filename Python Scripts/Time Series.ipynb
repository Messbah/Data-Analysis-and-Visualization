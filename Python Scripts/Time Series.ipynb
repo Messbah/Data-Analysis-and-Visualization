{
 "cells": [
  {
   "cell_type": "code",
   "execution_count": 86,
   "metadata": {},
   "outputs": [
    {
     "data": {
      "text/html": [
       "        <script type=\"text/javascript\">\n",
       "        window.PlotlyConfig = {MathJaxConfig: 'local'};\n",
       "        if (window.MathJax) {MathJax.Hub.Config({SVG: {font: \"STIX-Web\"}});}\n",
       "        if (typeof require !== 'undefined') {\n",
       "        require.undef(\"plotly\");\n",
       "        requirejs.config({\n",
       "            paths: {\n",
       "                'plotly': ['https://cdn.plot.ly/plotly-latest.min']\n",
       "            }\n",
       "        });\n",
       "        require(['plotly'], function(Plotly) {\n",
       "            window._Plotly = Plotly;\n",
       "        });\n",
       "        }\n",
       "        </script>\n",
       "        "
      ]
     },
     "metadata": {},
     "output_type": "display_data"
    }
   ],
   "source": [
    "import numpy as np\n",
    "import pandas as pd\n",
    "from pandas.tseries.offsets import DateOffset\n",
    "from sklearn.preprocessing import MinMaxScaler\n",
    "\n",
    "import tensorflow as tf\n",
    "from tensorflow import keras\n",
    "\n",
    "from tensorflow.keras.preprocessing.sequence import TimeseriesGenerator\n",
    "from tensorflow.keras.models import Sequential\n",
    "from tensorflow.keras.layers import Dense\n",
    "from tensorflow.keras.layers import LSTM\n",
    "from tensorflow.keras.layers import Dropout\n",
    "import warnings\n",
    "warnings.filterwarnings(\"ignore\")\n",
    "\n",
    "import chart_studio.plotly as py\n",
    "import plotly.offline as pyoff\n",
    "import plotly.graph_objs as go\n",
    "pyoff.init_notebook_mode(connected=True)"
   ]
  },
  {
   "cell_type": "code",
   "execution_count": 63,
   "metadata": {},
   "outputs": [
    {
     "data": {
      "text/html": [
       "<div>\n",
       "<style scoped>\n",
       "    .dataframe tbody tr th:only-of-type {\n",
       "        vertical-align: middle;\n",
       "    }\n",
       "\n",
       "    .dataframe tbody tr th {\n",
       "        vertical-align: top;\n",
       "    }\n",
       "\n",
       "    .dataframe thead th {\n",
       "        text-align: right;\n",
       "    }\n",
       "</style>\n",
       "<table border=\"1\" class=\"dataframe\">\n",
       "  <thead>\n",
       "    <tr style=\"text-align: right;\">\n",
       "      <th></th>\n",
       "      <th>timestamp</th>\n",
       "      <th>CALLS_date</th>\n",
       "      <th>CALLS_duration</th>\n",
       "      <th>User</th>\n",
       "    </tr>\n",
       "  </thead>\n",
       "  <tbody>\n",
       "    <tr>\n",
       "      <th>0</th>\n",
       "      <td>3/23/2013 22:24</td>\n",
       "      <td>3/23/2013</td>\n",
       "      <td>10</td>\n",
       "      <td>1</td>\n",
       "    </tr>\n",
       "    <tr>\n",
       "      <th>1</th>\n",
       "      <td>3/23/2013 22:24</td>\n",
       "      <td>3/23/2013</td>\n",
       "      <td>13</td>\n",
       "      <td>1</td>\n",
       "    </tr>\n",
       "    <tr>\n",
       "      <th>2</th>\n",
       "      <td>3/23/2013 22:24</td>\n",
       "      <td>3/23/2013</td>\n",
       "      <td>18</td>\n",
       "      <td>1</td>\n",
       "    </tr>\n",
       "    <tr>\n",
       "      <th>3</th>\n",
       "      <td>3/23/2013 22:24</td>\n",
       "      <td>3/23/2013</td>\n",
       "      <td>438</td>\n",
       "      <td>1</td>\n",
       "    </tr>\n",
       "    <tr>\n",
       "      <th>4</th>\n",
       "      <td>3/23/2013 22:24</td>\n",
       "      <td>3/22/2013</td>\n",
       "      <td>22</td>\n",
       "      <td>1</td>\n",
       "    </tr>\n",
       "  </tbody>\n",
       "</table>\n",
       "</div>"
      ],
      "text/plain": [
       "         timestamp CALLS_date  CALLS_duration  User\n",
       "0  3/23/2013 22:24  3/23/2013              10     1\n",
       "1  3/23/2013 22:24  3/23/2013              13     1\n",
       "2  3/23/2013 22:24  3/23/2013              18     1\n",
       "3  3/23/2013 22:24  3/23/2013             438     1\n",
       "4  3/23/2013 22:24  3/22/2013              22     1"
      ]
     },
     "execution_count": 63,
     "metadata": {},
     "output_type": "execute_result"
    }
   ],
   "source": [
    "\n",
    "df = pd.read_csv(r\"C:\\Users\\muhad\\DAV\\formerge\\Call_duration\\Call_Combined.csv\")\n",
    "df.head()"
   ]
  },
  {
   "cell_type": "code",
   "execution_count": 64,
   "metadata": {},
   "outputs": [],
   "source": [
    "from datetime import datetime\n",
    "from dateutil.parser import parse\n",
    "import pandas as pd\n",
    "#datetime.datetime.strptime(df[['CALLS_date']], '%m/%d/%Y')\n",
    "#df['CALLS_date']\n",
    "new=pd.to_datetime(df['CALLS_date'])"
   ]
  },
  {
   "cell_type": "code",
   "execution_count": 65,
   "metadata": {},
   "outputs": [],
   "source": [
    "df= df.drop(['timestamp', 'User'], axis=1)"
   ]
  },
  {
   "cell_type": "code",
   "execution_count": 69,
   "metadata": {},
   "outputs": [
    {
     "data": {
      "text/html": [
       "<div>\n",
       "<style scoped>\n",
       "    .dataframe tbody tr th:only-of-type {\n",
       "        vertical-align: middle;\n",
       "    }\n",
       "\n",
       "    .dataframe tbody tr th {\n",
       "        vertical-align: top;\n",
       "    }\n",
       "\n",
       "    .dataframe thead th {\n",
       "        text-align: right;\n",
       "    }\n",
       "</style>\n",
       "<table border=\"1\" class=\"dataframe\">\n",
       "  <thead>\n",
       "    <tr style=\"text-align: right;\">\n",
       "      <th></th>\n",
       "      <th>CALLS_date</th>\n",
       "      <th>CALLS_duration</th>\n",
       "    </tr>\n",
       "  </thead>\n",
       "  <tbody>\n",
       "    <tr>\n",
       "      <th>0</th>\n",
       "      <td>3/23/2013</td>\n",
       "      <td>10</td>\n",
       "    </tr>\n",
       "    <tr>\n",
       "      <th>1</th>\n",
       "      <td>3/23/2013</td>\n",
       "      <td>13</td>\n",
       "    </tr>\n",
       "    <tr>\n",
       "      <th>2</th>\n",
       "      <td>3/23/2013</td>\n",
       "      <td>18</td>\n",
       "    </tr>\n",
       "    <tr>\n",
       "      <th>3</th>\n",
       "      <td>3/23/2013</td>\n",
       "      <td>438</td>\n",
       "    </tr>\n",
       "    <tr>\n",
       "      <th>4</th>\n",
       "      <td>3/22/2013</td>\n",
       "      <td>22</td>\n",
       "    </tr>\n",
       "    <tr>\n",
       "      <th>...</th>\n",
       "      <td>...</td>\n",
       "      <td>...</td>\n",
       "    </tr>\n",
       "    <tr>\n",
       "      <th>6382</th>\n",
       "      <td>6/6/2013</td>\n",
       "      <td>0</td>\n",
       "    </tr>\n",
       "    <tr>\n",
       "      <th>6383</th>\n",
       "      <td>6/6/2013</td>\n",
       "      <td>30</td>\n",
       "    </tr>\n",
       "    <tr>\n",
       "      <th>6384</th>\n",
       "      <td>6/6/2013</td>\n",
       "      <td>241</td>\n",
       "    </tr>\n",
       "    <tr>\n",
       "      <th>6385</th>\n",
       "      <td>6/6/2013</td>\n",
       "      <td>13</td>\n",
       "    </tr>\n",
       "    <tr>\n",
       "      <th>6386</th>\n",
       "      <td>6/7/2013</td>\n",
       "      <td>0</td>\n",
       "    </tr>\n",
       "  </tbody>\n",
       "</table>\n",
       "<p>6387 rows × 2 columns</p>\n",
       "</div>"
      ],
      "text/plain": [
       "     CALLS_date  CALLS_duration\n",
       "0     3/23/2013              10\n",
       "1     3/23/2013              13\n",
       "2     3/23/2013              18\n",
       "3     3/23/2013             438\n",
       "4     3/22/2013              22\n",
       "...         ...             ...\n",
       "6382   6/6/2013               0\n",
       "6383   6/6/2013              30\n",
       "6384   6/6/2013             241\n",
       "6385   6/6/2013              13\n",
       "6386   6/7/2013               0\n",
       "\n",
       "[6387 rows x 2 columns]"
      ]
     },
     "execution_count": 69,
     "metadata": {},
     "output_type": "execute_result"
    }
   ],
   "source": [
    "df"
   ]
  },
  {
   "cell_type": "code",
   "execution_count": 70,
   "metadata": {},
   "outputs": [
    {
     "name": "stdout",
     "output_type": "stream",
     "text": [
      "     CALLS_date  CALLS_duration       Date\n",
      "0     3/23/2013              10 2013-03-20\n",
      "1     3/23/2013              13 2013-03-17\n",
      "2     3/23/2013              18 2013-03-15\n",
      "3     3/23/2013             438 2013-05-27\n",
      "4     3/22/2013              22 2013-03-14\n",
      "...         ...             ...        ...\n",
      "6382   6/6/2013               0 2013-03-23\n",
      "6383   6/6/2013              30 2013-03-13\n",
      "6384   6/6/2013             241 2013-04-12\n",
      "6385   6/6/2013              13 2013-03-17\n",
      "6386   6/7/2013               0 2013-03-23\n",
      "\n",
      "[6387 rows x 3 columns]\n"
     ]
    }
   ],
   "source": [
    "df['Date'] = df['CALLS_duration'].map(new)\n",
    "print (df)"
   ]
  },
  {
   "cell_type": "code",
   "execution_count": 71,
   "metadata": {},
   "outputs": [
    {
     "data": {
      "text/html": [
       "<div>\n",
       "<style scoped>\n",
       "    .dataframe tbody tr th:only-of-type {\n",
       "        vertical-align: middle;\n",
       "    }\n",
       "\n",
       "    .dataframe tbody tr th {\n",
       "        vertical-align: top;\n",
       "    }\n",
       "\n",
       "    .dataframe thead th {\n",
       "        text-align: right;\n",
       "    }\n",
       "</style>\n",
       "<table border=\"1\" class=\"dataframe\">\n",
       "  <thead>\n",
       "    <tr style=\"text-align: right;\">\n",
       "      <th></th>\n",
       "      <th>CALLS_date</th>\n",
       "      <th>CALLS_duration</th>\n",
       "      <th>Date</th>\n",
       "    </tr>\n",
       "  </thead>\n",
       "  <tbody>\n",
       "    <tr>\n",
       "      <th>0</th>\n",
       "      <td>3/23/2013</td>\n",
       "      <td>10</td>\n",
       "      <td>2013-03-20</td>\n",
       "    </tr>\n",
       "    <tr>\n",
       "      <th>1</th>\n",
       "      <td>3/23/2013</td>\n",
       "      <td>13</td>\n",
       "      <td>2013-03-17</td>\n",
       "    </tr>\n",
       "    <tr>\n",
       "      <th>2</th>\n",
       "      <td>3/23/2013</td>\n",
       "      <td>18</td>\n",
       "      <td>2013-03-15</td>\n",
       "    </tr>\n",
       "    <tr>\n",
       "      <th>3</th>\n",
       "      <td>3/23/2013</td>\n",
       "      <td>438</td>\n",
       "      <td>2013-05-27</td>\n",
       "    </tr>\n",
       "    <tr>\n",
       "      <th>4</th>\n",
       "      <td>3/22/2013</td>\n",
       "      <td>22</td>\n",
       "      <td>2013-03-14</td>\n",
       "    </tr>\n",
       "    <tr>\n",
       "      <th>...</th>\n",
       "      <td>...</td>\n",
       "      <td>...</td>\n",
       "      <td>...</td>\n",
       "    </tr>\n",
       "    <tr>\n",
       "      <th>6382</th>\n",
       "      <td>6/6/2013</td>\n",
       "      <td>0</td>\n",
       "      <td>2013-03-23</td>\n",
       "    </tr>\n",
       "    <tr>\n",
       "      <th>6383</th>\n",
       "      <td>6/6/2013</td>\n",
       "      <td>30</td>\n",
       "      <td>2013-03-13</td>\n",
       "    </tr>\n",
       "    <tr>\n",
       "      <th>6384</th>\n",
       "      <td>6/6/2013</td>\n",
       "      <td>241</td>\n",
       "      <td>2013-04-12</td>\n",
       "    </tr>\n",
       "    <tr>\n",
       "      <th>6385</th>\n",
       "      <td>6/6/2013</td>\n",
       "      <td>13</td>\n",
       "      <td>2013-03-17</td>\n",
       "    </tr>\n",
       "    <tr>\n",
       "      <th>6386</th>\n",
       "      <td>6/7/2013</td>\n",
       "      <td>0</td>\n",
       "      <td>2013-03-23</td>\n",
       "    </tr>\n",
       "  </tbody>\n",
       "</table>\n",
       "<p>6387 rows × 3 columns</p>\n",
       "</div>"
      ],
      "text/plain": [
       "     CALLS_date  CALLS_duration       Date\n",
       "0     3/23/2013              10 2013-03-20\n",
       "1     3/23/2013              13 2013-03-17\n",
       "2     3/23/2013              18 2013-03-15\n",
       "3     3/23/2013             438 2013-05-27\n",
       "4     3/22/2013              22 2013-03-14\n",
       "...         ...             ...        ...\n",
       "6382   6/6/2013               0 2013-03-23\n",
       "6383   6/6/2013              30 2013-03-13\n",
       "6384   6/6/2013             241 2013-04-12\n",
       "6385   6/6/2013              13 2013-03-17\n",
       "6386   6/7/2013               0 2013-03-23\n",
       "\n",
       "[6387 rows x 3 columns]"
      ]
     },
     "execution_count": 71,
     "metadata": {},
     "output_type": "execute_result"
    }
   ],
   "source": [
    "df"
   ]
  },
  {
   "cell_type": "code",
   "execution_count": 72,
   "metadata": {},
   "outputs": [
    {
     "data": {
      "text/html": [
       "<div>\n",
       "<style scoped>\n",
       "    .dataframe tbody tr th:only-of-type {\n",
       "        vertical-align: middle;\n",
       "    }\n",
       "\n",
       "    .dataframe tbody tr th {\n",
       "        vertical-align: top;\n",
       "    }\n",
       "\n",
       "    .dataframe thead th {\n",
       "        text-align: right;\n",
       "    }\n",
       "</style>\n",
       "<table border=\"1\" class=\"dataframe\">\n",
       "  <thead>\n",
       "    <tr style=\"text-align: right;\">\n",
       "      <th></th>\n",
       "      <th>CALLS_date</th>\n",
       "      <th>CALLS_duration</th>\n",
       "    </tr>\n",
       "  </thead>\n",
       "  <tbody>\n",
       "    <tr>\n",
       "      <th>0</th>\n",
       "      <td>3/23/2013</td>\n",
       "      <td>10</td>\n",
       "    </tr>\n",
       "    <tr>\n",
       "      <th>1</th>\n",
       "      <td>3/23/2013</td>\n",
       "      <td>13</td>\n",
       "    </tr>\n",
       "    <tr>\n",
       "      <th>2</th>\n",
       "      <td>3/23/2013</td>\n",
       "      <td>18</td>\n",
       "    </tr>\n",
       "    <tr>\n",
       "      <th>3</th>\n",
       "      <td>3/23/2013</td>\n",
       "      <td>438</td>\n",
       "    </tr>\n",
       "    <tr>\n",
       "      <th>4</th>\n",
       "      <td>3/22/2013</td>\n",
       "      <td>22</td>\n",
       "    </tr>\n",
       "    <tr>\n",
       "      <th>...</th>\n",
       "      <td>...</td>\n",
       "      <td>...</td>\n",
       "    </tr>\n",
       "    <tr>\n",
       "      <th>518</th>\n",
       "      <td>6/14/2013</td>\n",
       "      <td>8</td>\n",
       "    </tr>\n",
       "    <tr>\n",
       "      <th>519</th>\n",
       "      <td>6/14/2013</td>\n",
       "      <td>6</td>\n",
       "    </tr>\n",
       "    <tr>\n",
       "      <th>520</th>\n",
       "      <td>6/14/2013</td>\n",
       "      <td>0</td>\n",
       "    </tr>\n",
       "    <tr>\n",
       "      <th>521</th>\n",
       "      <td>6/14/2013</td>\n",
       "      <td>0</td>\n",
       "    </tr>\n",
       "    <tr>\n",
       "      <th>522</th>\n",
       "      <td>6/14/2013</td>\n",
       "      <td>0</td>\n",
       "    </tr>\n",
       "  </tbody>\n",
       "</table>\n",
       "<p>523 rows × 2 columns</p>\n",
       "</div>"
      ],
      "text/plain": [
       "    CALLS_date  CALLS_duration\n",
       "0    3/23/2013              10\n",
       "1    3/23/2013              13\n",
       "2    3/23/2013              18\n",
       "3    3/23/2013             438\n",
       "4    3/22/2013              22\n",
       "..         ...             ...\n",
       "518  6/14/2013               8\n",
       "519  6/14/2013               6\n",
       "520  6/14/2013               0\n",
       "521  6/14/2013               0\n",
       "522  6/14/2013               0\n",
       "\n",
       "[523 rows x 2 columns]"
      ]
     },
     "execution_count": 72,
     "metadata": {},
     "output_type": "execute_result"
    }
   ],
   "source": [
    "tab = pd.read_csv(r'C:\\Users\\muhad\\DAV\\Level_2\\Book1.csv')\n",
    "tab "
   ]
  },
  {
   "cell_type": "code",
   "execution_count": 73,
   "metadata": {},
   "outputs": [],
   "source": [
    "new=pd.to_datetime(tab['CALLS_date'])"
   ]
  },
  {
   "cell_type": "code",
   "execution_count": 74,
   "metadata": {},
   "outputs": [
    {
     "data": {
      "text/plain": [
       "0     2013-03-23\n",
       "1     2013-03-23\n",
       "2     2013-03-23\n",
       "3     2013-03-23\n",
       "4     2013-03-22\n",
       "         ...    \n",
       "518   2013-06-14\n",
       "519   2013-06-14\n",
       "520   2013-06-14\n",
       "521   2013-06-14\n",
       "522   2013-06-14\n",
       "Name: CALLS_date, Length: 523, dtype: datetime64[ns]"
      ]
     },
     "execution_count": 74,
     "metadata": {},
     "output_type": "execute_result"
    }
   ],
   "source": [
    "new"
   ]
  },
  {
   "cell_type": "code",
   "execution_count": 76,
   "metadata": {},
   "outputs": [],
   "source": [
    "tab['Date'] = new"
   ]
  },
  {
   "cell_type": "code",
   "execution_count": 79,
   "metadata": {},
   "outputs": [],
   "source": [
    "tab=tab.drop(['CALLS_date'], axis=1)"
   ]
  },
  {
   "cell_type": "code",
   "execution_count": 80,
   "metadata": {
    "scrolled": true
   },
   "outputs": [
    {
     "data": {
      "text/html": [
       "<div>\n",
       "<style scoped>\n",
       "    .dataframe tbody tr th:only-of-type {\n",
       "        vertical-align: middle;\n",
       "    }\n",
       "\n",
       "    .dataframe tbody tr th {\n",
       "        vertical-align: top;\n",
       "    }\n",
       "\n",
       "    .dataframe thead th {\n",
       "        text-align: right;\n",
       "    }\n",
       "</style>\n",
       "<table border=\"1\" class=\"dataframe\">\n",
       "  <thead>\n",
       "    <tr style=\"text-align: right;\">\n",
       "      <th></th>\n",
       "      <th>CALLS_duration</th>\n",
       "      <th>Date</th>\n",
       "    </tr>\n",
       "  </thead>\n",
       "  <tbody>\n",
       "    <tr>\n",
       "      <th>0</th>\n",
       "      <td>10</td>\n",
       "      <td>2013-03-23</td>\n",
       "    </tr>\n",
       "    <tr>\n",
       "      <th>1</th>\n",
       "      <td>13</td>\n",
       "      <td>2013-03-23</td>\n",
       "    </tr>\n",
       "    <tr>\n",
       "      <th>2</th>\n",
       "      <td>18</td>\n",
       "      <td>2013-03-23</td>\n",
       "    </tr>\n",
       "    <tr>\n",
       "      <th>3</th>\n",
       "      <td>438</td>\n",
       "      <td>2013-03-23</td>\n",
       "    </tr>\n",
       "    <tr>\n",
       "      <th>4</th>\n",
       "      <td>22</td>\n",
       "      <td>2013-03-22</td>\n",
       "    </tr>\n",
       "    <tr>\n",
       "      <th>...</th>\n",
       "      <td>...</td>\n",
       "      <td>...</td>\n",
       "    </tr>\n",
       "    <tr>\n",
       "      <th>518</th>\n",
       "      <td>8</td>\n",
       "      <td>2013-06-14</td>\n",
       "    </tr>\n",
       "    <tr>\n",
       "      <th>519</th>\n",
       "      <td>6</td>\n",
       "      <td>2013-06-14</td>\n",
       "    </tr>\n",
       "    <tr>\n",
       "      <th>520</th>\n",
       "      <td>0</td>\n",
       "      <td>2013-06-14</td>\n",
       "    </tr>\n",
       "    <tr>\n",
       "      <th>521</th>\n",
       "      <td>0</td>\n",
       "      <td>2013-06-14</td>\n",
       "    </tr>\n",
       "    <tr>\n",
       "      <th>522</th>\n",
       "      <td>0</td>\n",
       "      <td>2013-06-14</td>\n",
       "    </tr>\n",
       "  </tbody>\n",
       "</table>\n",
       "<p>523 rows × 2 columns</p>\n",
       "</div>"
      ],
      "text/plain": [
       "     CALLS_duration       Date\n",
       "0                10 2013-03-23\n",
       "1                13 2013-03-23\n",
       "2                18 2013-03-23\n",
       "3               438 2013-03-23\n",
       "4                22 2013-03-22\n",
       "..              ...        ...\n",
       "518               8 2013-06-14\n",
       "519               6 2013-06-14\n",
       "520               0 2013-06-14\n",
       "521               0 2013-06-14\n",
       "522               0 2013-06-14\n",
       "\n",
       "[523 rows x 2 columns]"
      ]
     },
     "execution_count": 80,
     "metadata": {},
     "output_type": "execute_result"
    }
   ],
   "source": [
    "tab."
   ]
  },
  {
   "cell_type": "code",
   "execution_count": 84,
   "metadata": {},
   "outputs": [
    {
     "data": {
      "text/html": [
       "<div>\n",
       "<style scoped>\n",
       "    .dataframe tbody tr th:only-of-type {\n",
       "        vertical-align: middle;\n",
       "    }\n",
       "\n",
       "    .dataframe tbody tr th {\n",
       "        vertical-align: top;\n",
       "    }\n",
       "\n",
       "    .dataframe thead th {\n",
       "        text-align: right;\n",
       "    }\n",
       "</style>\n",
       "<table border=\"1\" class=\"dataframe\">\n",
       "  <thead>\n",
       "    <tr style=\"text-align: right;\">\n",
       "      <th></th>\n",
       "      <th>CALLS_duration</th>\n",
       "    </tr>\n",
       "    <tr>\n",
       "      <th>Date</th>\n",
       "      <th></th>\n",
       "    </tr>\n",
       "  </thead>\n",
       "  <tbody>\n",
       "    <tr>\n",
       "      <th>2013-03-23</th>\n",
       "      <td>10</td>\n",
       "    </tr>\n",
       "    <tr>\n",
       "      <th>2013-03-23</th>\n",
       "      <td>13</td>\n",
       "    </tr>\n",
       "    <tr>\n",
       "      <th>2013-03-23</th>\n",
       "      <td>18</td>\n",
       "    </tr>\n",
       "    <tr>\n",
       "      <th>2013-03-23</th>\n",
       "      <td>438</td>\n",
       "    </tr>\n",
       "    <tr>\n",
       "      <th>2013-03-22</th>\n",
       "      <td>22</td>\n",
       "    </tr>\n",
       "    <tr>\n",
       "      <th>...</th>\n",
       "      <td>...</td>\n",
       "    </tr>\n",
       "    <tr>\n",
       "      <th>2013-06-14</th>\n",
       "      <td>8</td>\n",
       "    </tr>\n",
       "    <tr>\n",
       "      <th>2013-06-14</th>\n",
       "      <td>6</td>\n",
       "    </tr>\n",
       "    <tr>\n",
       "      <th>2013-06-14</th>\n",
       "      <td>0</td>\n",
       "    </tr>\n",
       "    <tr>\n",
       "      <th>2013-06-14</th>\n",
       "      <td>0</td>\n",
       "    </tr>\n",
       "    <tr>\n",
       "      <th>2013-06-14</th>\n",
       "      <td>0</td>\n",
       "    </tr>\n",
       "  </tbody>\n",
       "</table>\n",
       "<p>523 rows × 1 columns</p>\n",
       "</div>"
      ],
      "text/plain": [
       "            CALLS_duration\n",
       "Date                      \n",
       "2013-03-23              10\n",
       "2013-03-23              13\n",
       "2013-03-23              18\n",
       "2013-03-23             438\n",
       "2013-03-22              22\n",
       "...                    ...\n",
       "2013-06-14               8\n",
       "2013-06-14               6\n",
       "2013-06-14               0\n",
       "2013-06-14               0\n",
       "2013-06-14               0\n",
       "\n",
       "[523 rows x 1 columns]"
      ]
     },
     "execution_count": 84,
     "metadata": {},
     "output_type": "execute_result"
    }
   ],
   "source": [
    "tab.set_index('Date')"
   ]
  },
  {
   "cell_type": "code",
   "execution_count": 111,
   "metadata": {},
   "outputs": [
    {
     "data": {
      "text/html": [
       "<div>\n",
       "<style scoped>\n",
       "    .dataframe tbody tr th:only-of-type {\n",
       "        vertical-align: middle;\n",
       "    }\n",
       "\n",
       "    .dataframe tbody tr th {\n",
       "        vertical-align: top;\n",
       "    }\n",
       "\n",
       "    .dataframe thead th {\n",
       "        text-align: right;\n",
       "    }\n",
       "</style>\n",
       "<table border=\"1\" class=\"dataframe\">\n",
       "  <thead>\n",
       "    <tr style=\"text-align: right;\">\n",
       "      <th></th>\n",
       "      <th>CALLS_duration</th>\n",
       "    </tr>\n",
       "    <tr>\n",
       "      <th>CALLS_date</th>\n",
       "      <th></th>\n",
       "    </tr>\n",
       "  </thead>\n",
       "  <tbody>\n",
       "    <tr>\n",
       "      <th>2013-06-14</th>\n",
       "      <td>8</td>\n",
       "    </tr>\n",
       "    <tr>\n",
       "      <th>2013-06-14</th>\n",
       "      <td>6</td>\n",
       "    </tr>\n",
       "    <tr>\n",
       "      <th>2013-06-14</th>\n",
       "      <td>0</td>\n",
       "    </tr>\n",
       "    <tr>\n",
       "      <th>2013-06-14</th>\n",
       "      <td>0</td>\n",
       "    </tr>\n",
       "    <tr>\n",
       "      <th>2013-06-14</th>\n",
       "      <td>0</td>\n",
       "    </tr>\n",
       "  </tbody>\n",
       "</table>\n",
       "</div>"
      ],
      "text/plain": [
       "            CALLS_duration\n",
       "CALLS_date                \n",
       "2013-06-14               8\n",
       "2013-06-14               6\n",
       "2013-06-14               0\n",
       "2013-06-14               0\n",
       "2013-06-14               0"
      ]
     },
     "execution_count": 111,
     "metadata": {},
     "output_type": "execute_result"
    }
   ],
   "source": [
    "def parser(x):\n",
    "    return pd.datetime.strptime(''+x,'%m/%d/%Y')\n",
    "\n",
    "df = pd.read_csv(r'C:\\Users\\muhad\\DAV\\Level_2\\Book1.csv', parse_dates=[0], index_col=0, date_parser=parser)\n",
    "df.tail()"
   ]
  },
  {
   "cell_type": "code",
   "execution_count": 112,
   "metadata": {},
   "outputs": [],
   "source": [
    "train = df\n",
    "\n",
    "scaler = MinMaxScaler()\n",
    "scaler.fit(train)\n",
    "train = scaler.transform(train)"
   ]
  },
  {
   "cell_type": "code",
   "execution_count": 113,
   "metadata": {},
   "outputs": [],
   "source": [
    "n_input = 12\n",
    "n_features = 1\n",
    "generator = TimeseriesGenerator(train, train, length=n_input, batch_size=6)"
   ]
  },
  {
   "cell_type": "code",
   "execution_count": 114,
   "metadata": {},
   "outputs": [],
   "source": [
    "model = Sequential()\n",
    "model.add(LSTM(200, activation='relu', input_shape=(n_input, n_features)))\n",
    "model.add(Dropout(0.15))\n",
    "model.add(Dense(1))\n",
    "\n",
    "optimizer = keras.optimizers.Adam(learning_rate=0.001)\n",
    "model.compile(optimizer=optimizer, loss='mse')"
   ]
  },
  {
   "cell_type": "code",
   "execution_count": 115,
   "metadata": {},
   "outputs": [
    {
     "name": "stdout",
     "output_type": "stream",
     "text": [
      "Epoch 1/100\n",
      "86/86 [==============================] - 3s 7ms/step - loss: 0.0067\n",
      "Epoch 2/100\n",
      "86/86 [==============================] - 1s 7ms/step - loss: 0.0065\n",
      "Epoch 3/100\n",
      "86/86 [==============================] - 1s 7ms/step - loss: 0.0065\n",
      "Epoch 4/100\n",
      "86/86 [==============================] - 1s 7ms/step - loss: 0.0065\n",
      "Epoch 5/100\n",
      "86/86 [==============================] - 1s 7ms/step - loss: 0.0065\n",
      "Epoch 6/100\n",
      "86/86 [==============================] - 1s 7ms/step - loss: 0.0065\n",
      "Epoch 7/100\n",
      "86/86 [==============================] - 1s 7ms/step - loss: 0.0065\n",
      "Epoch 8/100\n",
      "86/86 [==============================] - 1s 7ms/step - loss: 0.0065\n",
      "Epoch 9/100\n",
      "86/86 [==============================] - 1s 7ms/step - loss: 0.0064\n",
      "Epoch 10/100\n",
      "86/86 [==============================] - 1s 7ms/step - loss: 0.0065\n",
      "Epoch 11/100\n",
      "86/86 [==============================] - 1s 11ms/step - loss: 0.0064\n",
      "Epoch 12/100\n",
      "86/86 [==============================] - 1s 11ms/step - loss: 0.0065\n",
      "Epoch 13/100\n",
      "86/86 [==============================] - 1s 11ms/step - loss: 0.0064\n",
      "Epoch 14/100\n",
      "86/86 [==============================] - 1s 9ms/step - loss: 0.0065\n",
      "Epoch 15/100\n",
      "86/86 [==============================] - 1s 9ms/step - loss: 0.0064\n",
      "Epoch 16/100\n",
      "86/86 [==============================] - 1s 8ms/step - loss: 0.0064\n",
      "Epoch 17/100\n",
      "86/86 [==============================] - 1s 8ms/step - loss: 0.0064\n",
      "Epoch 18/100\n",
      "86/86 [==============================] - 1s 9ms/step - loss: 0.0064\n",
      "Epoch 19/100\n",
      "86/86 [==============================] - 1s 9ms/step - loss: 0.0064\n",
      "Epoch 20/100\n",
      "86/86 [==============================] - 1s 8ms/step - loss: 0.0064\n",
      "Epoch 21/100\n",
      "86/86 [==============================] - 1s 7ms/step - loss: 0.0064\n",
      "Epoch 22/100\n",
      "86/86 [==============================] - 1s 7ms/step - loss: 0.0064\n",
      "Epoch 23/100\n",
      "86/86 [==============================] - 1s 7ms/step - loss: 0.0064\n",
      "Epoch 24/100\n",
      "86/86 [==============================] - 1s 7ms/step - loss: 0.0063\n",
      "Epoch 25/100\n",
      "86/86 [==============================] - 1s 6ms/step - loss: 0.0063\n",
      "Epoch 26/100\n",
      "86/86 [==============================] - 1s 7ms/step - loss: 0.0064\n",
      "Epoch 27/100\n",
      "86/86 [==============================] - 0s 5ms/step - loss: 0.0064\n",
      "Epoch 28/100\n",
      "86/86 [==============================] - 0s 5ms/step - loss: 0.0064\n",
      "Epoch 29/100\n",
      "86/86 [==============================] - 0s 5ms/step - loss: 0.0063\n",
      "Epoch 30/100\n",
      "86/86 [==============================] - 0s 5ms/step - loss: 0.0063\n",
      "Epoch 31/100\n",
      "86/86 [==============================] - 0s 5ms/step - loss: 0.0063\n",
      "Epoch 32/100\n",
      "86/86 [==============================] - 0s 5ms/step - loss: 0.0063\n",
      "Epoch 33/100\n",
      "86/86 [==============================] - 0s 5ms/step - loss: 0.0064\n",
      "Epoch 34/100\n",
      "86/86 [==============================] - 0s 4ms/step - loss: 0.0063\n",
      "Epoch 35/100\n",
      "86/86 [==============================] - 0s 5ms/step - loss: 0.0063\n",
      "Epoch 36/100\n",
      "86/86 [==============================] - 0s 5ms/step - loss: 0.0063\n",
      "Epoch 37/100\n",
      "86/86 [==============================] - 0s 5ms/step - loss: 0.0063\n",
      "Epoch 38/100\n",
      "86/86 [==============================] - 0s 5ms/step - loss: 0.0063\n",
      "Epoch 39/100\n",
      "86/86 [==============================] - 0s 5ms/step - loss: 0.0063\n",
      "Epoch 40/100\n",
      "86/86 [==============================] - 0s 5ms/step - loss: 0.0063\n",
      "Epoch 41/100\n",
      "86/86 [==============================] - 0s 5ms/step - loss: 0.0063\n",
      "Epoch 42/100\n",
      "86/86 [==============================] - 0s 5ms/step - loss: 0.0063\n",
      "Epoch 43/100\n",
      "86/86 [==============================] - 0s 5ms/step - loss: 0.0063\n",
      "Epoch 44/100\n",
      "86/86 [==============================] - 0s 5ms/step - loss: 0.0063\n",
      "Epoch 45/100\n",
      "86/86 [==============================] - 0s 5ms/step - loss: 0.0063\n",
      "Epoch 46/100\n",
      "86/86 [==============================] - 0s 5ms/step - loss: 0.0063\n",
      "Epoch 47/100\n",
      "86/86 [==============================] - 0s 5ms/step - loss: 0.0063\n",
      "Epoch 48/100\n",
      "86/86 [==============================] - 1s 6ms/step - loss: 0.0063\n",
      "Epoch 49/100\n",
      "86/86 [==============================] - 1s 7ms/step - loss: 0.0063\n",
      "Epoch 50/100\n",
      "86/86 [==============================] - 0s 5ms/step - loss: 0.0062\n",
      "Epoch 51/100\n",
      "86/86 [==============================] - 0s 5ms/step - loss: 0.0063\n",
      "Epoch 52/100\n",
      "86/86 [==============================] - 0s 5ms/step - loss: 0.0063\n",
      "Epoch 53/100\n",
      "86/86 [==============================] - 0s 5ms/step - loss: 0.0063\n",
      "Epoch 54/100\n",
      "86/86 [==============================] - 0s 5ms/step - loss: 0.0063\n",
      "Epoch 55/100\n",
      "86/86 [==============================] - 0s 5ms/step - loss: 0.0063\n",
      "Epoch 56/100\n",
      "86/86 [==============================] - 0s 5ms/step - loss: 0.0063\n",
      "Epoch 57/100\n",
      "86/86 [==============================] - 0s 5ms/step - loss: 0.0063\n",
      "Epoch 58/100\n",
      "86/86 [==============================] - 0s 5ms/step - loss: 0.0062\n",
      "Epoch 59/100\n",
      "86/86 [==============================] - 0s 5ms/step - loss: 0.0063\n",
      "Epoch 60/100\n",
      "86/86 [==============================] - 0s 5ms/step - loss: 0.0062\n",
      "Epoch 61/100\n",
      "86/86 [==============================] - 0s 5ms/step - loss: 0.0063\n",
      "Epoch 62/100\n",
      "86/86 [==============================] - 0s 5ms/step - loss: 0.0062\n",
      "Epoch 63/100\n",
      "86/86 [==============================] - 0s 5ms/step - loss: 0.0062\n",
      "Epoch 64/100\n",
      "86/86 [==============================] - 0s 5ms/step - loss: 0.0062\n",
      "Epoch 65/100\n",
      "86/86 [==============================] - 0s 5ms/step - loss: 0.0062\n",
      "Epoch 66/100\n",
      "86/86 [==============================] - 0s 4ms/step - loss: 0.0063\n",
      "Epoch 67/100\n",
      "86/86 [==============================] - 0s 5ms/step - loss: 0.0063\n",
      "Epoch 68/100\n",
      "86/86 [==============================] - 0s 6ms/step - loss: 0.0063\n",
      "Epoch 69/100\n",
      "86/86 [==============================] - 0s 6ms/step - loss: 0.0062\n",
      "Epoch 70/100\n",
      "86/86 [==============================] - 0s 6ms/step - loss: 0.0062\n",
      "Epoch 71/100\n",
      "86/86 [==============================] - 0s 5ms/step - loss: 0.0063\n",
      "Epoch 72/100\n",
      "86/86 [==============================] - 0s 5ms/step - loss: 0.0063\n",
      "Epoch 73/100\n",
      "86/86 [==============================] - 0s 6ms/step - loss: 0.0063\n",
      "Epoch 74/100\n",
      "86/86 [==============================] - 1s 6ms/step - loss: 0.0062\n",
      "Epoch 75/100\n",
      "86/86 [==============================] - 0s 5ms/step - loss: 0.0062\n",
      "Epoch 76/100\n",
      "86/86 [==============================] - 1s 6ms/step - loss: 0.0062\n",
      "Epoch 77/100\n",
      "86/86 [==============================] - 1s 6ms/step - loss: 0.0063\n",
      "Epoch 78/100\n",
      "86/86 [==============================] - 1s 7ms/step - loss: 0.0062\n",
      "Epoch 79/100\n",
      "86/86 [==============================] - 1s 6ms/step - loss: 0.0062\n",
      "Epoch 80/100\n",
      "86/86 [==============================] - 1s 6ms/step - loss: 0.0062\n",
      "Epoch 81/100\n",
      "86/86 [==============================] - 0s 6ms/step - loss: 0.0062\n",
      "Epoch 82/100\n",
      "86/86 [==============================] - 1s 6ms/step - loss: 0.0062\n",
      "Epoch 83/100\n",
      "86/86 [==============================] - 0s 5ms/step - loss: 0.0061\n",
      "Epoch 84/100\n",
      "86/86 [==============================] - 0s 5ms/step - loss: 0.0062\n",
      "Epoch 85/100\n",
      "86/86 [==============================] - 0s 5ms/step - loss: 0.0063\n",
      "Epoch 86/100\n",
      "86/86 [==============================] - 0s 5ms/step - loss: 0.0063\n",
      "Epoch 87/100\n",
      "86/86 [==============================] - 0s 5ms/step - loss: 0.0063\n",
      "Epoch 88/100\n",
      "86/86 [==============================] - 0s 5ms/step - loss: 0.0062\n",
      "Epoch 89/100\n",
      "86/86 [==============================] - 0s 5ms/step - loss: 0.0062\n",
      "Epoch 90/100\n",
      "86/86 [==============================] - 0s 5ms/step - loss: 0.0062\n",
      "Epoch 91/100\n",
      "86/86 [==============================] - 0s 5ms/step - loss: 0.0062\n",
      "Epoch 92/100\n",
      "86/86 [==============================] - 0s 5ms/step - loss: 0.0063\n",
      "Epoch 93/100\n",
      "86/86 [==============================] - 0s 5ms/step - loss: 0.0062\n",
      "Epoch 94/100\n",
      "86/86 [==============================] - 0s 5ms/step - loss: 0.0062\n",
      "Epoch 95/100\n",
      "86/86 [==============================] - 0s 5ms/step - loss: 0.0062\n",
      "Epoch 96/100\n",
      "86/86 [==============================] - 0s 5ms/step - loss: 0.0062\n",
      "Epoch 97/100\n",
      "86/86 [==============================] - 0s 5ms/step - loss: 0.0062\n",
      "Epoch 98/100\n",
      "86/86 [==============================] - 0s 5ms/step - loss: 0.0062\n",
      "Epoch 99/100\n",
      "86/86 [==============================] - 0s 5ms/step - loss: 0.0062\n",
      "Epoch 100/100\n",
      "86/86 [==============================] - 0s 5ms/step - loss: 0.0062\n"
     ]
    }
   ],
   "source": [
    "history = model.fit_generator(generator,epochs=100,verbose=1)"
   ]
  },
  {
   "cell_type": "code",
   "execution_count": 116,
   "metadata": {},
   "outputs": [
    {
     "data": {
      "application/vnd.plotly.v1+json": {
       "config": {
        "linkText": "Export to plot.ly",
        "plotlyServerURL": "https://plot.ly",
        "showLink": false
       },
       "data": [
        {
         "name": "loss",
         "type": "scatter",
         "x": [
          0,
          1,
          2,
          3,
          4,
          5,
          6,
          7,
          8,
          9,
          10,
          11,
          12,
          13,
          14,
          15,
          16,
          17,
          18,
          19,
          20,
          21,
          22,
          23,
          24,
          25,
          26,
          27,
          28,
          29,
          30,
          31,
          32,
          33,
          34,
          35,
          36,
          37,
          38,
          39,
          40,
          41,
          42,
          43,
          44,
          45,
          46,
          47,
          48,
          49,
          50,
          51,
          52,
          53,
          54,
          55,
          56,
          57,
          58,
          59,
          60,
          61,
          62,
          63,
          64,
          65,
          66,
          67,
          68,
          69,
          70,
          71,
          72,
          73,
          74,
          75,
          76,
          77,
          78,
          79,
          80,
          81,
          82,
          83,
          84,
          85,
          86,
          87,
          88,
          89,
          90,
          91,
          92,
          93,
          94,
          95,
          96,
          97,
          98,
          99
         ],
         "y": [
          0.006653392221778631,
          0.00649613980203867,
          0.006456226576119661,
          0.006546406541019678,
          0.00651097996160388,
          0.006499678827822208,
          0.006475903559476137,
          0.006476756185293198,
          0.006447876337915659,
          0.006544382777065039,
          0.006428159773349762,
          0.006533358246088028,
          0.006386646069586277,
          0.006503928918391466,
          0.006438360549509525,
          0.0064318436197936535,
          0.0064220307394862175,
          0.006365552544593811,
          0.006434689741581678,
          0.006371827330440283,
          0.006373848766088486,
          0.006360615137964487,
          0.006406571250408888,
          0.006339035462588072,
          0.006310372147709131,
          0.006435450632125139,
          0.006379715166985989,
          0.006393324583768845,
          0.006321650929749012,
          0.006317472085356712,
          0.006331511773169041,
          0.006264943163841963,
          0.006389569956809282,
          0.006335689686238766,
          0.00629465701058507,
          0.006311289966106415,
          0.006262668874114752,
          0.006292648613452911,
          0.006310180760920048,
          0.006280170287936926,
          0.006329557858407497,
          0.006254546344280243,
          0.006286115851253271,
          0.006303585134446621,
          0.006336970254778862,
          0.006291593890637159,
          0.006250029429793358,
          0.006276900414377451,
          0.00630952650681138,
          0.006226229947060347,
          0.006297530140727758,
          0.006317750085145235,
          0.0063008530996739864,
          0.006301444489508867,
          0.006290685851126909,
          0.00627285847440362,
          0.00629989430308342,
          0.006194719113409519,
          0.0063452222384512424,
          0.006206833757460117,
          0.006287565920501947,
          0.00622178940102458,
          0.006219147704541683,
          0.006225550081580877,
          0.00617402046918869,
          0.00627610320225358,
          0.006295901723206043,
          0.006292678881436586,
          0.0062323142774403095,
          0.006230100989341736,
          0.006304631941020489,
          0.006325481925159693,
          0.006265947129577398,
          0.006191415246576071,
          0.006167855113744736,
          0.006199422758072615,
          0.006251764018088579,
          0.006165209226310253,
          0.006198355928063393,
          0.006182558834552765,
          0.006199315190315247,
          0.0061854212544858456,
          0.006137324031442404,
          0.006210956256836653,
          0.006339255254715681,
          0.006251655053347349,
          0.006324038375169039,
          0.006216626148670912,
          0.00615994818508625,
          0.006161997560411692,
          0.0061794756911695,
          0.006265731528401375,
          0.006155270617455244,
          0.006176447495818138,
          0.006190682295709848,
          0.006215027533471584,
          0.0062206643633544445,
          0.0061885095201432705,
          0.006168838124722242,
          0.006152943708002567
         ]
        }
       ],
       "layout": {
        "template": {
         "data": {
          "bar": [
           {
            "error_x": {
             "color": "#2a3f5f"
            },
            "error_y": {
             "color": "#2a3f5f"
            },
            "marker": {
             "line": {
              "color": "#E5ECF6",
              "width": 0.5
             }
            },
            "type": "bar"
           }
          ],
          "barpolar": [
           {
            "marker": {
             "line": {
              "color": "#E5ECF6",
              "width": 0.5
             }
            },
            "type": "barpolar"
           }
          ],
          "carpet": [
           {
            "aaxis": {
             "endlinecolor": "#2a3f5f",
             "gridcolor": "white",
             "linecolor": "white",
             "minorgridcolor": "white",
             "startlinecolor": "#2a3f5f"
            },
            "baxis": {
             "endlinecolor": "#2a3f5f",
             "gridcolor": "white",
             "linecolor": "white",
             "minorgridcolor": "white",
             "startlinecolor": "#2a3f5f"
            },
            "type": "carpet"
           }
          ],
          "choropleth": [
           {
            "colorbar": {
             "outlinewidth": 0,
             "ticks": ""
            },
            "type": "choropleth"
           }
          ],
          "contour": [
           {
            "colorbar": {
             "outlinewidth": 0,
             "ticks": ""
            },
            "colorscale": [
             [
              0,
              "#0d0887"
             ],
             [
              0.1111111111111111,
              "#46039f"
             ],
             [
              0.2222222222222222,
              "#7201a8"
             ],
             [
              0.3333333333333333,
              "#9c179e"
             ],
             [
              0.4444444444444444,
              "#bd3786"
             ],
             [
              0.5555555555555556,
              "#d8576b"
             ],
             [
              0.6666666666666666,
              "#ed7953"
             ],
             [
              0.7777777777777778,
              "#fb9f3a"
             ],
             [
              0.8888888888888888,
              "#fdca26"
             ],
             [
              1,
              "#f0f921"
             ]
            ],
            "type": "contour"
           }
          ],
          "contourcarpet": [
           {
            "colorbar": {
             "outlinewidth": 0,
             "ticks": ""
            },
            "type": "contourcarpet"
           }
          ],
          "heatmap": [
           {
            "colorbar": {
             "outlinewidth": 0,
             "ticks": ""
            },
            "colorscale": [
             [
              0,
              "#0d0887"
             ],
             [
              0.1111111111111111,
              "#46039f"
             ],
             [
              0.2222222222222222,
              "#7201a8"
             ],
             [
              0.3333333333333333,
              "#9c179e"
             ],
             [
              0.4444444444444444,
              "#bd3786"
             ],
             [
              0.5555555555555556,
              "#d8576b"
             ],
             [
              0.6666666666666666,
              "#ed7953"
             ],
             [
              0.7777777777777778,
              "#fb9f3a"
             ],
             [
              0.8888888888888888,
              "#fdca26"
             ],
             [
              1,
              "#f0f921"
             ]
            ],
            "type": "heatmap"
           }
          ],
          "heatmapgl": [
           {
            "colorbar": {
             "outlinewidth": 0,
             "ticks": ""
            },
            "colorscale": [
             [
              0,
              "#0d0887"
             ],
             [
              0.1111111111111111,
              "#46039f"
             ],
             [
              0.2222222222222222,
              "#7201a8"
             ],
             [
              0.3333333333333333,
              "#9c179e"
             ],
             [
              0.4444444444444444,
              "#bd3786"
             ],
             [
              0.5555555555555556,
              "#d8576b"
             ],
             [
              0.6666666666666666,
              "#ed7953"
             ],
             [
              0.7777777777777778,
              "#fb9f3a"
             ],
             [
              0.8888888888888888,
              "#fdca26"
             ],
             [
              1,
              "#f0f921"
             ]
            ],
            "type": "heatmapgl"
           }
          ],
          "histogram": [
           {
            "marker": {
             "colorbar": {
              "outlinewidth": 0,
              "ticks": ""
             }
            },
            "type": "histogram"
           }
          ],
          "histogram2d": [
           {
            "colorbar": {
             "outlinewidth": 0,
             "ticks": ""
            },
            "colorscale": [
             [
              0,
              "#0d0887"
             ],
             [
              0.1111111111111111,
              "#46039f"
             ],
             [
              0.2222222222222222,
              "#7201a8"
             ],
             [
              0.3333333333333333,
              "#9c179e"
             ],
             [
              0.4444444444444444,
              "#bd3786"
             ],
             [
              0.5555555555555556,
              "#d8576b"
             ],
             [
              0.6666666666666666,
              "#ed7953"
             ],
             [
              0.7777777777777778,
              "#fb9f3a"
             ],
             [
              0.8888888888888888,
              "#fdca26"
             ],
             [
              1,
              "#f0f921"
             ]
            ],
            "type": "histogram2d"
           }
          ],
          "histogram2dcontour": [
           {
            "colorbar": {
             "outlinewidth": 0,
             "ticks": ""
            },
            "colorscale": [
             [
              0,
              "#0d0887"
             ],
             [
              0.1111111111111111,
              "#46039f"
             ],
             [
              0.2222222222222222,
              "#7201a8"
             ],
             [
              0.3333333333333333,
              "#9c179e"
             ],
             [
              0.4444444444444444,
              "#bd3786"
             ],
             [
              0.5555555555555556,
              "#d8576b"
             ],
             [
              0.6666666666666666,
              "#ed7953"
             ],
             [
              0.7777777777777778,
              "#fb9f3a"
             ],
             [
              0.8888888888888888,
              "#fdca26"
             ],
             [
              1,
              "#f0f921"
             ]
            ],
            "type": "histogram2dcontour"
           }
          ],
          "mesh3d": [
           {
            "colorbar": {
             "outlinewidth": 0,
             "ticks": ""
            },
            "type": "mesh3d"
           }
          ],
          "parcoords": [
           {
            "line": {
             "colorbar": {
              "outlinewidth": 0,
              "ticks": ""
             }
            },
            "type": "parcoords"
           }
          ],
          "pie": [
           {
            "automargin": true,
            "type": "pie"
           }
          ],
          "scatter": [
           {
            "marker": {
             "colorbar": {
              "outlinewidth": 0,
              "ticks": ""
             }
            },
            "type": "scatter"
           }
          ],
          "scatter3d": [
           {
            "line": {
             "colorbar": {
              "outlinewidth": 0,
              "ticks": ""
             }
            },
            "marker": {
             "colorbar": {
              "outlinewidth": 0,
              "ticks": ""
             }
            },
            "type": "scatter3d"
           }
          ],
          "scattercarpet": [
           {
            "marker": {
             "colorbar": {
              "outlinewidth": 0,
              "ticks": ""
             }
            },
            "type": "scattercarpet"
           }
          ],
          "scattergeo": [
           {
            "marker": {
             "colorbar": {
              "outlinewidth": 0,
              "ticks": ""
             }
            },
            "type": "scattergeo"
           }
          ],
          "scattergl": [
           {
            "marker": {
             "colorbar": {
              "outlinewidth": 0,
              "ticks": ""
             }
            },
            "type": "scattergl"
           }
          ],
          "scattermapbox": [
           {
            "marker": {
             "colorbar": {
              "outlinewidth": 0,
              "ticks": ""
             }
            },
            "type": "scattermapbox"
           }
          ],
          "scatterpolar": [
           {
            "marker": {
             "colorbar": {
              "outlinewidth": 0,
              "ticks": ""
             }
            },
            "type": "scatterpolar"
           }
          ],
          "scatterpolargl": [
           {
            "marker": {
             "colorbar": {
              "outlinewidth": 0,
              "ticks": ""
             }
            },
            "type": "scatterpolargl"
           }
          ],
          "scatterternary": [
           {
            "marker": {
             "colorbar": {
              "outlinewidth": 0,
              "ticks": ""
             }
            },
            "type": "scatterternary"
           }
          ],
          "surface": [
           {
            "colorbar": {
             "outlinewidth": 0,
             "ticks": ""
            },
            "colorscale": [
             [
              0,
              "#0d0887"
             ],
             [
              0.1111111111111111,
              "#46039f"
             ],
             [
              0.2222222222222222,
              "#7201a8"
             ],
             [
              0.3333333333333333,
              "#9c179e"
             ],
             [
              0.4444444444444444,
              "#bd3786"
             ],
             [
              0.5555555555555556,
              "#d8576b"
             ],
             [
              0.6666666666666666,
              "#ed7953"
             ],
             [
              0.7777777777777778,
              "#fb9f3a"
             ],
             [
              0.8888888888888888,
              "#fdca26"
             ],
             [
              1,
              "#f0f921"
             ]
            ],
            "type": "surface"
           }
          ],
          "table": [
           {
            "cells": {
             "fill": {
              "color": "#EBF0F8"
             },
             "line": {
              "color": "white"
             }
            },
            "header": {
             "fill": {
              "color": "#C8D4E3"
             },
             "line": {
              "color": "white"
             }
            },
            "type": "table"
           }
          ]
         },
         "layout": {
          "annotationdefaults": {
           "arrowcolor": "#2a3f5f",
           "arrowhead": 0,
           "arrowwidth": 1
          },
          "autotypenumbers": "strict",
          "coloraxis": {
           "colorbar": {
            "outlinewidth": 0,
            "ticks": ""
           }
          },
          "colorscale": {
           "diverging": [
            [
             0,
             "#8e0152"
            ],
            [
             0.1,
             "#c51b7d"
            ],
            [
             0.2,
             "#de77ae"
            ],
            [
             0.3,
             "#f1b6da"
            ],
            [
             0.4,
             "#fde0ef"
            ],
            [
             0.5,
             "#f7f7f7"
            ],
            [
             0.6,
             "#e6f5d0"
            ],
            [
             0.7,
             "#b8e186"
            ],
            [
             0.8,
             "#7fbc41"
            ],
            [
             0.9,
             "#4d9221"
            ],
            [
             1,
             "#276419"
            ]
           ],
           "sequential": [
            [
             0,
             "#0d0887"
            ],
            [
             0.1111111111111111,
             "#46039f"
            ],
            [
             0.2222222222222222,
             "#7201a8"
            ],
            [
             0.3333333333333333,
             "#9c179e"
            ],
            [
             0.4444444444444444,
             "#bd3786"
            ],
            [
             0.5555555555555556,
             "#d8576b"
            ],
            [
             0.6666666666666666,
             "#ed7953"
            ],
            [
             0.7777777777777778,
             "#fb9f3a"
            ],
            [
             0.8888888888888888,
             "#fdca26"
            ],
            [
             1,
             "#f0f921"
            ]
           ],
           "sequentialminus": [
            [
             0,
             "#0d0887"
            ],
            [
             0.1111111111111111,
             "#46039f"
            ],
            [
             0.2222222222222222,
             "#7201a8"
            ],
            [
             0.3333333333333333,
             "#9c179e"
            ],
            [
             0.4444444444444444,
             "#bd3786"
            ],
            [
             0.5555555555555556,
             "#d8576b"
            ],
            [
             0.6666666666666666,
             "#ed7953"
            ],
            [
             0.7777777777777778,
             "#fb9f3a"
            ],
            [
             0.8888888888888888,
             "#fdca26"
            ],
            [
             1,
             "#f0f921"
            ]
           ]
          },
          "colorway": [
           "#636efa",
           "#EF553B",
           "#00cc96",
           "#ab63fa",
           "#FFA15A",
           "#19d3f3",
           "#FF6692",
           "#B6E880",
           "#FF97FF",
           "#FECB52"
          ],
          "font": {
           "color": "#2a3f5f"
          },
          "geo": {
           "bgcolor": "white",
           "lakecolor": "white",
           "landcolor": "#E5ECF6",
           "showlakes": true,
           "showland": true,
           "subunitcolor": "white"
          },
          "hoverlabel": {
           "align": "left"
          },
          "hovermode": "closest",
          "mapbox": {
           "style": "light"
          },
          "paper_bgcolor": "white",
          "plot_bgcolor": "#E5ECF6",
          "polar": {
           "angularaxis": {
            "gridcolor": "white",
            "linecolor": "white",
            "ticks": ""
           },
           "bgcolor": "#E5ECF6",
           "radialaxis": {
            "gridcolor": "white",
            "linecolor": "white",
            "ticks": ""
           }
          },
          "scene": {
           "xaxis": {
            "backgroundcolor": "#E5ECF6",
            "gridcolor": "white",
            "gridwidth": 2,
            "linecolor": "white",
            "showbackground": true,
            "ticks": "",
            "zerolinecolor": "white"
           },
           "yaxis": {
            "backgroundcolor": "#E5ECF6",
            "gridcolor": "white",
            "gridwidth": 2,
            "linecolor": "white",
            "showbackground": true,
            "ticks": "",
            "zerolinecolor": "white"
           },
           "zaxis": {
            "backgroundcolor": "#E5ECF6",
            "gridcolor": "white",
            "gridwidth": 2,
            "linecolor": "white",
            "showbackground": true,
            "ticks": "",
            "zerolinecolor": "white"
           }
          },
          "shapedefaults": {
           "line": {
            "color": "#2a3f5f"
           }
          },
          "ternary": {
           "aaxis": {
            "gridcolor": "white",
            "linecolor": "white",
            "ticks": ""
           },
           "baxis": {
            "gridcolor": "white",
            "linecolor": "white",
            "ticks": ""
           },
           "bgcolor": "#E5ECF6",
           "caxis": {
            "gridcolor": "white",
            "linecolor": "white",
            "ticks": ""
           }
          },
          "title": {
           "x": 0.05
          },
          "xaxis": {
           "automargin": true,
           "gridcolor": "white",
           "linecolor": "white",
           "ticks": "",
           "title": {
            "standoff": 15
           },
           "zerolinecolor": "white",
           "zerolinewidth": 2
          },
          "yaxis": {
           "automargin": true,
           "gridcolor": "white",
           "linecolor": "white",
           "ticks": "",
           "title": {
            "standoff": 15
           },
           "zerolinecolor": "white",
           "zerolinewidth": 2
          }
         }
        },
        "title": {
         "text": "Training loss"
        }
       }
      },
      "text/html": [
       "<div>                            <div id=\"2b237eaa-f275-4a0b-95aa-3b79f2481206\" class=\"plotly-graph-div\" style=\"height:525px; width:100%;\"></div>            <script type=\"text/javascript\">                require([\"plotly\"], function(Plotly) {                    window.PLOTLYENV=window.PLOTLYENV || {};                                    if (document.getElementById(\"2b237eaa-f275-4a0b-95aa-3b79f2481206\")) {                    Plotly.newPlot(                        \"2b237eaa-f275-4a0b-95aa-3b79f2481206\",                        [{\"name\": \"loss\", \"type\": \"scatter\", \"x\": [0, 1, 2, 3, 4, 5, 6, 7, 8, 9, 10, 11, 12, 13, 14, 15, 16, 17, 18, 19, 20, 21, 22, 23, 24, 25, 26, 27, 28, 29, 30, 31, 32, 33, 34, 35, 36, 37, 38, 39, 40, 41, 42, 43, 44, 45, 46, 47, 48, 49, 50, 51, 52, 53, 54, 55, 56, 57, 58, 59, 60, 61, 62, 63, 64, 65, 66, 67, 68, 69, 70, 71, 72, 73, 74, 75, 76, 77, 78, 79, 80, 81, 82, 83, 84, 85, 86, 87, 88, 89, 90, 91, 92, 93, 94, 95, 96, 97, 98, 99], \"y\": [0.006653392221778631, 0.00649613980203867, 0.006456226576119661, 0.006546406541019678, 0.00651097996160388, 0.006499678827822208, 0.006475903559476137, 0.006476756185293198, 0.006447876337915659, 0.006544382777065039, 0.006428159773349762, 0.006533358246088028, 0.006386646069586277, 0.006503928918391466, 0.006438360549509525, 0.0064318436197936535, 0.0064220307394862175, 0.006365552544593811, 0.006434689741581678, 0.006371827330440283, 0.006373848766088486, 0.006360615137964487, 0.006406571250408888, 0.006339035462588072, 0.006310372147709131, 0.006435450632125139, 0.006379715166985989, 0.006393324583768845, 0.006321650929749012, 0.006317472085356712, 0.006331511773169041, 0.006264943163841963, 0.006389569956809282, 0.006335689686238766, 0.00629465701058507, 0.006311289966106415, 0.006262668874114752, 0.006292648613452911, 0.006310180760920048, 0.006280170287936926, 0.006329557858407497, 0.006254546344280243, 0.006286115851253271, 0.006303585134446621, 0.006336970254778862, 0.006291593890637159, 0.006250029429793358, 0.006276900414377451, 0.00630952650681138, 0.006226229947060347, 0.006297530140727758, 0.006317750085145235, 0.0063008530996739864, 0.006301444489508867, 0.006290685851126909, 0.00627285847440362, 0.00629989430308342, 0.006194719113409519, 0.0063452222384512424, 0.006206833757460117, 0.006287565920501947, 0.00622178940102458, 0.006219147704541683, 0.006225550081580877, 0.00617402046918869, 0.00627610320225358, 0.006295901723206043, 0.006292678881436586, 0.0062323142774403095, 0.006230100989341736, 0.006304631941020489, 0.006325481925159693, 0.006265947129577398, 0.006191415246576071, 0.006167855113744736, 0.006199422758072615, 0.006251764018088579, 0.006165209226310253, 0.006198355928063393, 0.006182558834552765, 0.006199315190315247, 0.0061854212544858456, 0.006137324031442404, 0.006210956256836653, 0.006339255254715681, 0.006251655053347349, 0.006324038375169039, 0.006216626148670912, 0.00615994818508625, 0.006161997560411692, 0.0061794756911695, 0.006265731528401375, 0.006155270617455244, 0.006176447495818138, 0.006190682295709848, 0.006215027533471584, 0.0062206643633544445, 0.0061885095201432705, 0.006168838124722242, 0.006152943708002567]}],                        {\"template\": {\"data\": {\"bar\": [{\"error_x\": {\"color\": \"#2a3f5f\"}, \"error_y\": {\"color\": \"#2a3f5f\"}, \"marker\": {\"line\": {\"color\": \"#E5ECF6\", \"width\": 0.5}}, \"type\": \"bar\"}], \"barpolar\": [{\"marker\": {\"line\": {\"color\": \"#E5ECF6\", \"width\": 0.5}}, \"type\": \"barpolar\"}], \"carpet\": [{\"aaxis\": {\"endlinecolor\": \"#2a3f5f\", \"gridcolor\": \"white\", \"linecolor\": \"white\", \"minorgridcolor\": \"white\", \"startlinecolor\": \"#2a3f5f\"}, \"baxis\": {\"endlinecolor\": \"#2a3f5f\", \"gridcolor\": \"white\", \"linecolor\": \"white\", \"minorgridcolor\": \"white\", \"startlinecolor\": \"#2a3f5f\"}, \"type\": \"carpet\"}], \"choropleth\": [{\"colorbar\": {\"outlinewidth\": 0, \"ticks\": \"\"}, \"type\": \"choropleth\"}], \"contour\": [{\"colorbar\": {\"outlinewidth\": 0, \"ticks\": \"\"}, \"colorscale\": [[0.0, \"#0d0887\"], [0.1111111111111111, \"#46039f\"], [0.2222222222222222, \"#7201a8\"], [0.3333333333333333, \"#9c179e\"], [0.4444444444444444, \"#bd3786\"], [0.5555555555555556, \"#d8576b\"], [0.6666666666666666, \"#ed7953\"], [0.7777777777777778, \"#fb9f3a\"], [0.8888888888888888, \"#fdca26\"], [1.0, \"#f0f921\"]], \"type\": \"contour\"}], \"contourcarpet\": [{\"colorbar\": {\"outlinewidth\": 0, \"ticks\": \"\"}, \"type\": \"contourcarpet\"}], \"heatmap\": [{\"colorbar\": {\"outlinewidth\": 0, \"ticks\": \"\"}, \"colorscale\": [[0.0, \"#0d0887\"], [0.1111111111111111, \"#46039f\"], [0.2222222222222222, \"#7201a8\"], [0.3333333333333333, \"#9c179e\"], [0.4444444444444444, \"#bd3786\"], [0.5555555555555556, \"#d8576b\"], [0.6666666666666666, \"#ed7953\"], [0.7777777777777778, \"#fb9f3a\"], [0.8888888888888888, \"#fdca26\"], [1.0, \"#f0f921\"]], \"type\": \"heatmap\"}], \"heatmapgl\": [{\"colorbar\": {\"outlinewidth\": 0, \"ticks\": \"\"}, \"colorscale\": [[0.0, \"#0d0887\"], [0.1111111111111111, \"#46039f\"], [0.2222222222222222, \"#7201a8\"], [0.3333333333333333, \"#9c179e\"], [0.4444444444444444, \"#bd3786\"], [0.5555555555555556, \"#d8576b\"], [0.6666666666666666, \"#ed7953\"], [0.7777777777777778, \"#fb9f3a\"], [0.8888888888888888, \"#fdca26\"], [1.0, \"#f0f921\"]], \"type\": \"heatmapgl\"}], \"histogram\": [{\"marker\": {\"colorbar\": {\"outlinewidth\": 0, \"ticks\": \"\"}}, \"type\": \"histogram\"}], \"histogram2d\": [{\"colorbar\": {\"outlinewidth\": 0, \"ticks\": \"\"}, \"colorscale\": [[0.0, \"#0d0887\"], [0.1111111111111111, \"#46039f\"], [0.2222222222222222, \"#7201a8\"], [0.3333333333333333, \"#9c179e\"], [0.4444444444444444, \"#bd3786\"], [0.5555555555555556, \"#d8576b\"], [0.6666666666666666, \"#ed7953\"], [0.7777777777777778, \"#fb9f3a\"], [0.8888888888888888, \"#fdca26\"], [1.0, \"#f0f921\"]], \"type\": \"histogram2d\"}], \"histogram2dcontour\": [{\"colorbar\": {\"outlinewidth\": 0, \"ticks\": \"\"}, \"colorscale\": [[0.0, \"#0d0887\"], [0.1111111111111111, \"#46039f\"], [0.2222222222222222, \"#7201a8\"], [0.3333333333333333, \"#9c179e\"], [0.4444444444444444, \"#bd3786\"], [0.5555555555555556, \"#d8576b\"], [0.6666666666666666, \"#ed7953\"], [0.7777777777777778, \"#fb9f3a\"], [0.8888888888888888, \"#fdca26\"], [1.0, \"#f0f921\"]], \"type\": \"histogram2dcontour\"}], \"mesh3d\": [{\"colorbar\": {\"outlinewidth\": 0, \"ticks\": \"\"}, \"type\": \"mesh3d\"}], \"parcoords\": [{\"line\": {\"colorbar\": {\"outlinewidth\": 0, \"ticks\": \"\"}}, \"type\": \"parcoords\"}], \"pie\": [{\"automargin\": true, \"type\": \"pie\"}], \"scatter\": [{\"marker\": {\"colorbar\": {\"outlinewidth\": 0, \"ticks\": \"\"}}, \"type\": \"scatter\"}], \"scatter3d\": [{\"line\": {\"colorbar\": {\"outlinewidth\": 0, \"ticks\": \"\"}}, \"marker\": {\"colorbar\": {\"outlinewidth\": 0, \"ticks\": \"\"}}, \"type\": \"scatter3d\"}], \"scattercarpet\": [{\"marker\": {\"colorbar\": {\"outlinewidth\": 0, \"ticks\": \"\"}}, \"type\": \"scattercarpet\"}], \"scattergeo\": [{\"marker\": {\"colorbar\": {\"outlinewidth\": 0, \"ticks\": \"\"}}, \"type\": \"scattergeo\"}], \"scattergl\": [{\"marker\": {\"colorbar\": {\"outlinewidth\": 0, \"ticks\": \"\"}}, \"type\": \"scattergl\"}], \"scattermapbox\": [{\"marker\": {\"colorbar\": {\"outlinewidth\": 0, \"ticks\": \"\"}}, \"type\": \"scattermapbox\"}], \"scatterpolar\": [{\"marker\": {\"colorbar\": {\"outlinewidth\": 0, \"ticks\": \"\"}}, \"type\": \"scatterpolar\"}], \"scatterpolargl\": [{\"marker\": {\"colorbar\": {\"outlinewidth\": 0, \"ticks\": \"\"}}, \"type\": \"scatterpolargl\"}], \"scatterternary\": [{\"marker\": {\"colorbar\": {\"outlinewidth\": 0, \"ticks\": \"\"}}, \"type\": \"scatterternary\"}], \"surface\": [{\"colorbar\": {\"outlinewidth\": 0, \"ticks\": \"\"}, \"colorscale\": [[0.0, \"#0d0887\"], [0.1111111111111111, \"#46039f\"], [0.2222222222222222, \"#7201a8\"], [0.3333333333333333, \"#9c179e\"], [0.4444444444444444, \"#bd3786\"], [0.5555555555555556, \"#d8576b\"], [0.6666666666666666, \"#ed7953\"], [0.7777777777777778, \"#fb9f3a\"], [0.8888888888888888, \"#fdca26\"], [1.0, \"#f0f921\"]], \"type\": \"surface\"}], \"table\": [{\"cells\": {\"fill\": {\"color\": \"#EBF0F8\"}, \"line\": {\"color\": \"white\"}}, \"header\": {\"fill\": {\"color\": \"#C8D4E3\"}, \"line\": {\"color\": \"white\"}}, \"type\": \"table\"}]}, \"layout\": {\"annotationdefaults\": {\"arrowcolor\": \"#2a3f5f\", \"arrowhead\": 0, \"arrowwidth\": 1}, \"autotypenumbers\": \"strict\", \"coloraxis\": {\"colorbar\": {\"outlinewidth\": 0, \"ticks\": \"\"}}, \"colorscale\": {\"diverging\": [[0, \"#8e0152\"], [0.1, \"#c51b7d\"], [0.2, \"#de77ae\"], [0.3, \"#f1b6da\"], [0.4, \"#fde0ef\"], [0.5, \"#f7f7f7\"], [0.6, \"#e6f5d0\"], [0.7, \"#b8e186\"], [0.8, \"#7fbc41\"], [0.9, \"#4d9221\"], [1, \"#276419\"]], \"sequential\": [[0.0, \"#0d0887\"], [0.1111111111111111, \"#46039f\"], [0.2222222222222222, \"#7201a8\"], [0.3333333333333333, \"#9c179e\"], [0.4444444444444444, \"#bd3786\"], [0.5555555555555556, \"#d8576b\"], [0.6666666666666666, \"#ed7953\"], [0.7777777777777778, \"#fb9f3a\"], [0.8888888888888888, \"#fdca26\"], [1.0, \"#f0f921\"]], \"sequentialminus\": [[0.0, \"#0d0887\"], [0.1111111111111111, \"#46039f\"], [0.2222222222222222, \"#7201a8\"], [0.3333333333333333, \"#9c179e\"], [0.4444444444444444, \"#bd3786\"], [0.5555555555555556, \"#d8576b\"], [0.6666666666666666, \"#ed7953\"], [0.7777777777777778, \"#fb9f3a\"], [0.8888888888888888, \"#fdca26\"], [1.0, \"#f0f921\"]]}, \"colorway\": [\"#636efa\", \"#EF553B\", \"#00cc96\", \"#ab63fa\", \"#FFA15A\", \"#19d3f3\", \"#FF6692\", \"#B6E880\", \"#FF97FF\", \"#FECB52\"], \"font\": {\"color\": \"#2a3f5f\"}, \"geo\": {\"bgcolor\": \"white\", \"lakecolor\": \"white\", \"landcolor\": \"#E5ECF6\", \"showlakes\": true, \"showland\": true, \"subunitcolor\": \"white\"}, \"hoverlabel\": {\"align\": \"left\"}, \"hovermode\": \"closest\", \"mapbox\": {\"style\": \"light\"}, \"paper_bgcolor\": \"white\", \"plot_bgcolor\": \"#E5ECF6\", \"polar\": {\"angularaxis\": {\"gridcolor\": \"white\", \"linecolor\": \"white\", \"ticks\": \"\"}, \"bgcolor\": \"#E5ECF6\", \"radialaxis\": {\"gridcolor\": \"white\", \"linecolor\": \"white\", \"ticks\": \"\"}}, \"scene\": {\"xaxis\": {\"backgroundcolor\": \"#E5ECF6\", \"gridcolor\": \"white\", \"gridwidth\": 2, \"linecolor\": \"white\", \"showbackground\": true, \"ticks\": \"\", \"zerolinecolor\": \"white\"}, \"yaxis\": {\"backgroundcolor\": \"#E5ECF6\", \"gridcolor\": \"white\", \"gridwidth\": 2, \"linecolor\": \"white\", \"showbackground\": true, \"ticks\": \"\", \"zerolinecolor\": \"white\"}, \"zaxis\": {\"backgroundcolor\": \"#E5ECF6\", \"gridcolor\": \"white\", \"gridwidth\": 2, \"linecolor\": \"white\", \"showbackground\": true, \"ticks\": \"\", \"zerolinecolor\": \"white\"}}, \"shapedefaults\": {\"line\": {\"color\": \"#2a3f5f\"}}, \"ternary\": {\"aaxis\": {\"gridcolor\": \"white\", \"linecolor\": \"white\", \"ticks\": \"\"}, \"baxis\": {\"gridcolor\": \"white\", \"linecolor\": \"white\", \"ticks\": \"\"}, \"bgcolor\": \"#E5ECF6\", \"caxis\": {\"gridcolor\": \"white\", \"linecolor\": \"white\", \"ticks\": \"\"}}, \"title\": {\"x\": 0.05}, \"xaxis\": {\"automargin\": true, \"gridcolor\": \"white\", \"linecolor\": \"white\", \"ticks\": \"\", \"title\": {\"standoff\": 15}, \"zerolinecolor\": \"white\", \"zerolinewidth\": 2}, \"yaxis\": {\"automargin\": true, \"gridcolor\": \"white\", \"linecolor\": \"white\", \"ticks\": \"\", \"title\": {\"standoff\": 15}, \"zerolinecolor\": \"white\", \"zerolinewidth\": 2}}}, \"title\": {\"text\": \"Training loss\"}},                        {\"responsive\": true}                    ).then(function(){\n",
       "                            \n",
       "var gd = document.getElementById('2b237eaa-f275-4a0b-95aa-3b79f2481206');\n",
       "var x = new MutationObserver(function (mutations, observer) {{\n",
       "        var display = window.getComputedStyle(gd).display;\n",
       "        if (!display || display === 'none') {{\n",
       "            console.log([gd, 'removed!']);\n",
       "            Plotly.purge(gd);\n",
       "            observer.disconnect();\n",
       "        }}\n",
       "}});\n",
       "\n",
       "// Listen for the removal of the full notebook cells\n",
       "var notebookContainer = gd.closest('#notebook-container');\n",
       "if (notebookContainer) {{\n",
       "    x.observe(notebookContainer, {childList: true});\n",
       "}}\n",
       "\n",
       "// Listen for the clearing of the current output cell\n",
       "var outputEl = gd.closest('.output');\n",
       "if (outputEl) {{\n",
       "    x.observe(outputEl, {childList: true});\n",
       "}}\n",
       "\n",
       "                        })                };                });            </script>        </div>"
      ]
     },
     "metadata": {},
     "output_type": "display_data"
    }
   ],
   "source": [
    "\n",
    "hist = pd.DataFrame(history.history)\n",
    "hist['epoch'] = history.epoch\n",
    "\n",
    "plot_data = [\n",
    "    go.Scatter(\n",
    "        x=hist['epoch'],\n",
    "        y=hist['loss'],\n",
    "        name='loss'\n",
    "    )\n",
    "    \n",
    "]\n",
    "\n",
    "plot_layout = go.Layout(\n",
    "        title='Training loss'\n",
    "    )\n",
    "fig = go.Figure(data=plot_data, layout=plot_layout)\n",
    "pyoff.iplot(fig)"
   ]
  },
  {
   "cell_type": "code",
   "execution_count": 117,
   "metadata": {},
   "outputs": [],
   "source": [
    "\n",
    "pred_list = []\n",
    "\n",
    "batch = train[-n_input:].reshape((1, n_input, n_features))\n",
    "\n",
    "for i in range(n_input):   \n",
    "    pred_list.append(model.predict(batch)[0]) \n",
    "    batch = np.append(batch[:,1:,:],[[pred_list[i]]],axis=1)"
   ]
  },
  {
   "cell_type": "code",
   "execution_count": 118,
   "metadata": {},
   "outputs": [],
   "source": [
    "add_dates = [df.index[-1] + DateOffset(months=x) for x in range(0,13) ]\n",
    "future_dates = pd.DataFrame(index=add_dates[1:],columns=df.columns)"
   ]
  },
  {
   "cell_type": "code",
   "execution_count": 128,
   "metadata": {},
   "outputs": [
    {
     "data": {
      "text/html": [
       "<div>\n",
       "<style scoped>\n",
       "    .dataframe tbody tr th:only-of-type {\n",
       "        vertical-align: middle;\n",
       "    }\n",
       "\n",
       "    .dataframe tbody tr th {\n",
       "        vertical-align: top;\n",
       "    }\n",
       "\n",
       "    .dataframe thead th {\n",
       "        text-align: right;\n",
       "    }\n",
       "</style>\n",
       "<table border=\"1\" class=\"dataframe\">\n",
       "  <thead>\n",
       "    <tr style=\"text-align: right;\">\n",
       "      <th></th>\n",
       "      <th>CALLS_duration</th>\n",
       "      <th>Prediction</th>\n",
       "    </tr>\n",
       "  </thead>\n",
       "  <tbody>\n",
       "    <tr>\n",
       "      <th>2013-07-14</th>\n",
       "      <td>NaN</td>\n",
       "      <td>80.539969</td>\n",
       "    </tr>\n",
       "    <tr>\n",
       "      <th>2013-08-14</th>\n",
       "      <td>NaN</td>\n",
       "      <td>87.791118</td>\n",
       "    </tr>\n",
       "    <tr>\n",
       "      <th>2013-09-14</th>\n",
       "      <td>NaN</td>\n",
       "      <td>89.790919</td>\n",
       "    </tr>\n",
       "    <tr>\n",
       "      <th>2013-10-14</th>\n",
       "      <td>NaN</td>\n",
       "      <td>90.311491</td>\n",
       "    </tr>\n",
       "    <tr>\n",
       "      <th>2013-11-14</th>\n",
       "      <td>NaN</td>\n",
       "      <td>89.597438</td>\n",
       "    </tr>\n",
       "    <tr>\n",
       "      <th>2013-12-14</th>\n",
       "      <td>NaN</td>\n",
       "      <td>88.838445</td>\n",
       "    </tr>\n",
       "    <tr>\n",
       "      <th>2014-01-14</th>\n",
       "      <td>NaN</td>\n",
       "      <td>88.287711</td>\n",
       "    </tr>\n",
       "    <tr>\n",
       "      <th>2014-02-14</th>\n",
       "      <td>NaN</td>\n",
       "      <td>87.975442</td>\n",
       "    </tr>\n",
       "    <tr>\n",
       "      <th>2014-03-14</th>\n",
       "      <td>NaN</td>\n",
       "      <td>87.841669</td>\n",
       "    </tr>\n",
       "    <tr>\n",
       "      <th>2014-04-14</th>\n",
       "      <td>NaN</td>\n",
       "      <td>87.821154</td>\n",
       "    </tr>\n",
       "    <tr>\n",
       "      <th>2014-05-14</th>\n",
       "      <td>NaN</td>\n",
       "      <td>87.854927</td>\n",
       "    </tr>\n",
       "    <tr>\n",
       "      <th>2014-06-14</th>\n",
       "      <td>NaN</td>\n",
       "      <td>87.905768</td>\n",
       "    </tr>\n",
       "  </tbody>\n",
       "</table>\n",
       "</div>"
      ],
      "text/plain": [
       "            CALLS_duration  Prediction\n",
       "2013-07-14             NaN   80.539969\n",
       "2013-08-14             NaN   87.791118\n",
       "2013-09-14             NaN   89.790919\n",
       "2013-10-14             NaN   90.311491\n",
       "2013-11-14             NaN   89.597438\n",
       "2013-12-14             NaN   88.838445\n",
       "2014-01-14             NaN   88.287711\n",
       "2014-02-14             NaN   87.975442\n",
       "2014-03-14             NaN   87.841669\n",
       "2014-04-14             NaN   87.821154\n",
       "2014-05-14             NaN   87.854927\n",
       "2014-06-14             NaN   87.905768"
      ]
     },
     "execution_count": 128,
     "metadata": {},
     "output_type": "execute_result"
    }
   ],
   "source": [
    "df_predict = pd.DataFrame(scaler.inverse_transform(pred_list),\n",
    "                          index=future_dates[-n_input:].index, columns=['Prediction'])\n",
    "\n",
    "df_proj = pd.concat([df,df_predict])\n",
    "\n",
    "df_proj.tail(12)"
   ]
  },
  {
   "cell_type": "code",
   "execution_count": 130,
   "metadata": {
    "scrolled": false
   },
   "outputs": [
    {
     "data": {
      "application/vnd.plotly.v1+json": {
       "config": {
        "linkText": "Export to plot.ly",
        "plotlyServerURL": "https://plot.ly",
        "showLink": false
       },
       "data": [
        {
         "name": "actual",
         "type": "scatter",
         "x": [
          "2013-03-23T00:00:00",
          "2013-03-23T00:00:00",
          "2013-03-23T00:00:00",
          "2013-03-23T00:00:00",
          "2013-03-22T00:00:00",
          "2013-03-22T00:00:00",
          "2013-03-22T00:00:00",
          "2013-03-22T00:00:00",
          "2013-03-22T00:00:00",
          "2013-03-22T00:00:00",
          "2013-03-20T00:00:00",
          "2013-03-19T00:00:00",
          "2013-03-18T00:00:00",
          "2013-03-17T00:00:00",
          "2013-03-16T00:00:00",
          "2013-03-15T00:00:00",
          "2013-03-15T00:00:00",
          "2013-03-15T00:00:00",
          "2013-03-15T00:00:00",
          "2013-03-15T00:00:00",
          "2013-03-15T00:00:00",
          "2013-03-15T00:00:00",
          "2013-03-14T00:00:00",
          "2013-03-13T00:00:00",
          "2013-03-13T00:00:00",
          "2013-03-13T00:00:00",
          "2013-03-13T00:00:00",
          "2013-03-13T00:00:00",
          "2013-03-13T00:00:00",
          "2013-03-13T00:00:00",
          "2013-03-13T00:00:00",
          "2013-03-12T00:00:00",
          "2013-03-12T00:00:00",
          "2013-03-12T00:00:00",
          "2013-03-12T00:00:00",
          "2013-03-12T00:00:00",
          "2013-03-11T00:00:00",
          "2013-03-11T00:00:00",
          "2013-03-11T00:00:00",
          "2013-03-10T00:00:00",
          "2013-03-10T00:00:00",
          "2013-03-10T00:00:00",
          "2013-03-10T00:00:00",
          "2013-03-10T00:00:00",
          "2013-03-10T00:00:00",
          "2013-03-10T00:00:00",
          "2013-03-10T00:00:00",
          "2013-03-10T00:00:00",
          "2013-03-09T00:00:00",
          "2013-03-09T00:00:00",
          "2013-03-09T00:00:00",
          "2013-03-09T00:00:00",
          "2013-03-08T00:00:00",
          "2013-03-08T00:00:00",
          "2013-03-08T00:00:00",
          "2013-03-08T00:00:00",
          "2013-03-08T00:00:00",
          "2013-03-08T00:00:00",
          "2013-03-08T00:00:00",
          "2013-03-08T00:00:00",
          "2013-03-08T00:00:00",
          "2013-03-08T00:00:00",
          "2013-03-08T00:00:00",
          "2013-03-08T00:00:00",
          "2013-03-08T00:00:00",
          "2013-03-07T00:00:00",
          "2013-03-06T00:00:00",
          "2013-03-06T00:00:00",
          "2013-03-06T00:00:00",
          "2013-03-06T00:00:00",
          "2013-03-06T00:00:00",
          "2013-03-06T00:00:00",
          "2013-03-06T00:00:00",
          "2013-03-06T00:00:00",
          "2013-03-06T00:00:00",
          "2013-03-06T00:00:00",
          "2013-03-06T00:00:00",
          "2013-03-06T00:00:00",
          "2013-03-06T00:00:00",
          "2013-03-06T00:00:00",
          "2013-03-06T00:00:00",
          "2013-03-06T00:00:00",
          "2013-03-06T00:00:00",
          "2013-03-05T00:00:00",
          "2013-03-02T00:00:00",
          "2013-03-02T00:00:00",
          "2013-03-02T00:00:00",
          "2013-03-02T00:00:00",
          "2013-03-02T00:00:00",
          "2013-03-02T00:00:00",
          "2013-03-02T00:00:00",
          "2013-03-02T00:00:00",
          "2013-03-02T00:00:00",
          "2013-03-01T00:00:00",
          "2013-03-01T00:00:00",
          "2013-03-01T00:00:00",
          "2013-03-01T00:00:00",
          "2013-03-01T00:00:00",
          "2013-03-01T00:00:00",
          "2013-03-01T00:00:00",
          "2013-03-01T00:00:00",
          "2013-03-01T00:00:00",
          "2013-03-01T00:00:00",
          "2013-03-01T00:00:00",
          "2013-03-01T00:00:00",
          "2013-03-01T00:00:00",
          "2013-03-01T00:00:00",
          "2013-02-28T00:00:00",
          "2013-02-26T00:00:00",
          "2013-02-26T00:00:00",
          "2013-02-26T00:00:00",
          "2013-02-26T00:00:00",
          "2013-02-26T00:00:00",
          "2013-02-26T00:00:00",
          "2013-02-26T00:00:00",
          "2013-02-26T00:00:00",
          "2013-02-26T00:00:00",
          "2013-02-25T00:00:00",
          "2013-02-25T00:00:00",
          "2013-02-25T00:00:00",
          "2013-02-25T00:00:00",
          "2013-02-25T00:00:00",
          "2013-02-25T00:00:00",
          "2013-02-25T00:00:00",
          "2013-02-25T00:00:00",
          "2013-02-25T00:00:00",
          "2013-02-25T00:00:00",
          "2013-02-25T00:00:00",
          "2013-02-25T00:00:00",
          "2013-02-25T00:00:00",
          "2013-02-23T00:00:00",
          "2013-02-23T00:00:00",
          "2013-02-23T00:00:00",
          "2013-02-21T00:00:00",
          "2013-02-21T00:00:00",
          "2013-02-21T00:00:00",
          "2013-02-21T00:00:00",
          "2013-02-21T00:00:00",
          "2013-02-21T00:00:00",
          "2013-02-20T00:00:00",
          "2013-02-20T00:00:00",
          "2013-02-16T00:00:00",
          "2013-02-16T00:00:00",
          "2013-02-16T00:00:00",
          "2013-02-16T00:00:00",
          "2013-02-15T00:00:00",
          "2013-02-15T00:00:00",
          "2013-02-15T00:00:00",
          "2013-02-15T00:00:00",
          "2013-02-15T00:00:00",
          "2013-02-15T00:00:00",
          "2013-02-15T00:00:00",
          "2013-02-15T00:00:00",
          "2013-02-15T00:00:00",
          "2013-02-14T00:00:00",
          "2013-02-14T00:00:00",
          "2013-02-14T00:00:00",
          "2013-02-14T00:00:00",
          "2013-02-14T00:00:00",
          "2013-02-14T00:00:00",
          "2013-02-14T00:00:00",
          "2013-02-14T00:00:00",
          "2013-02-14T00:00:00",
          "2013-02-14T00:00:00",
          "2013-02-14T00:00:00",
          "2013-02-14T00:00:00",
          "2013-02-14T00:00:00",
          "2013-02-13T00:00:00",
          "2013-02-13T00:00:00",
          "2013-02-11T00:00:00",
          "2013-02-11T00:00:00",
          "2013-03-24T00:00:00",
          "2013-03-24T00:00:00",
          "2013-03-25T00:00:00",
          "2013-03-25T00:00:00",
          "2013-03-26T00:00:00",
          "2013-03-26T00:00:00",
          "2013-03-26T00:00:00",
          "2013-03-26T00:00:00",
          "2013-03-26T00:00:00",
          "2013-03-27T00:00:00",
          "2013-03-27T00:00:00",
          "2013-03-27T00:00:00",
          "2013-03-27T00:00:00",
          "2013-03-27T00:00:00",
          "2013-03-28T00:00:00",
          "2013-03-28T00:00:00",
          "2013-03-28T00:00:00",
          "2013-03-28T00:00:00",
          "2013-03-28T00:00:00",
          "2013-03-28T00:00:00",
          "2013-03-28T00:00:00",
          "2013-03-28T00:00:00",
          "2013-03-29T00:00:00",
          "2013-03-30T00:00:00",
          "2013-03-30T00:00:00",
          "2013-04-01T00:00:00",
          "2013-04-01T00:00:00",
          "2013-04-01T00:00:00",
          "2013-04-01T00:00:00",
          "2013-04-01T00:00:00",
          "2013-04-01T00:00:00",
          "2013-04-03T00:00:00",
          "2013-04-03T00:00:00",
          "2013-04-03T00:00:00",
          "2013-04-03T00:00:00",
          "2013-04-04T00:00:00",
          "2013-04-05T00:00:00",
          "2013-04-05T00:00:00",
          "2013-04-05T00:00:00",
          "2013-04-05T00:00:00",
          "2013-04-05T00:00:00",
          "2013-04-05T00:00:00",
          "2013-04-06T00:00:00",
          "2013-04-06T00:00:00",
          "2013-04-08T00:00:00",
          "2013-04-08T00:00:00",
          "2013-04-08T00:00:00",
          "2013-04-08T00:00:00",
          "2013-04-08T00:00:00",
          "2013-04-08T00:00:00",
          "2013-04-08T00:00:00",
          "2013-04-09T00:00:00",
          "2013-04-09T00:00:00",
          "2013-04-09T00:00:00",
          "2013-04-09T00:00:00",
          "2013-04-09T00:00:00",
          "2013-04-09T00:00:00",
          "2013-04-09T00:00:00",
          "2013-04-10T00:00:00",
          "2013-04-10T00:00:00",
          "2013-04-10T00:00:00",
          "2013-04-10T00:00:00",
          "2013-04-10T00:00:00",
          "2013-04-10T00:00:00",
          "2013-04-10T00:00:00",
          "2013-04-10T00:00:00",
          "2013-04-11T00:00:00",
          "2013-04-11T00:00:00",
          "2013-04-11T00:00:00",
          "2013-04-12T00:00:00",
          "2013-04-12T00:00:00",
          "2013-04-12T00:00:00",
          "2013-04-12T00:00:00",
          "2013-04-12T00:00:00",
          "2013-04-12T00:00:00",
          "2013-04-15T00:00:00",
          "2013-04-15T00:00:00",
          "2013-04-15T00:00:00",
          "2013-04-15T00:00:00",
          "2013-04-15T00:00:00",
          "2013-04-15T00:00:00",
          "2013-04-15T00:00:00",
          "2013-04-15T00:00:00",
          "2013-04-15T00:00:00",
          "2013-04-15T00:00:00",
          "2013-04-15T00:00:00",
          "2013-04-15T00:00:00",
          "2013-04-16T00:00:00",
          "2013-04-16T00:00:00",
          "2013-04-16T00:00:00",
          "2013-04-16T00:00:00",
          "2013-04-17T00:00:00",
          "2013-04-17T00:00:00",
          "2013-04-17T00:00:00",
          "2013-04-17T00:00:00",
          "2013-04-17T00:00:00",
          "2013-04-17T00:00:00",
          "2013-04-17T00:00:00",
          "2013-04-17T00:00:00",
          "2013-04-18T00:00:00",
          "2013-04-18T00:00:00",
          "2013-04-18T00:00:00",
          "2013-04-18T00:00:00",
          "2013-04-19T00:00:00",
          "2013-04-19T00:00:00",
          "2013-04-19T00:00:00",
          "2013-04-19T00:00:00",
          "2013-04-19T00:00:00",
          "2013-04-19T00:00:00",
          "2013-04-19T00:00:00",
          "2013-04-21T00:00:00",
          "2013-04-20T00:00:00",
          "2013-04-20T00:00:00",
          "2013-04-22T00:00:00",
          "2013-04-22T00:00:00",
          "2013-04-22T00:00:00",
          "2013-04-22T00:00:00",
          "2013-04-22T00:00:00",
          "2013-04-22T00:00:00",
          "2013-04-23T00:00:00",
          "2013-04-23T00:00:00",
          "2013-04-24T00:00:00",
          "2013-04-25T00:00:00",
          "2013-04-25T00:00:00",
          "2013-04-26T00:00:00",
          "2013-04-26T00:00:00",
          "2013-04-26T00:00:00",
          "2013-04-26T00:00:00",
          "2013-04-26T00:00:00",
          "2013-04-26T00:00:00",
          "2013-04-26T00:00:00",
          "2013-04-26T00:00:00",
          "2013-04-26T00:00:00",
          "2013-04-26T00:00:00",
          "2013-04-26T00:00:00",
          "2013-04-26T00:00:00",
          "2013-04-28T00:00:00",
          "2013-04-28T00:00:00",
          "2013-04-28T00:00:00",
          "2013-04-28T00:00:00",
          "2013-04-27T00:00:00",
          "2013-04-27T00:00:00",
          "2013-04-29T00:00:00",
          "2013-04-29T00:00:00",
          "2013-04-30T00:00:00",
          "2013-04-30T00:00:00",
          "2013-04-30T00:00:00",
          "2013-04-30T00:00:00",
          "2013-05-01T00:00:00",
          "2013-05-01T00:00:00",
          "2013-05-01T00:00:00",
          "2013-05-01T00:00:00",
          "2013-05-02T00:00:00",
          "2013-05-01T00:00:00",
          "2013-05-01T00:00:00",
          "2013-05-01T00:00:00",
          "2013-05-01T00:00:00",
          "2013-05-02T00:00:00",
          "2013-05-02T00:00:00",
          "2013-05-02T00:00:00",
          "2013-05-02T00:00:00",
          "2013-05-02T00:00:00",
          "2013-05-02T00:00:00",
          "2013-05-01T00:00:00",
          "2013-05-01T00:00:00",
          "2013-05-01T00:00:00",
          "2013-05-01T00:00:00",
          "2013-05-01T00:00:00",
          "2013-05-01T00:00:00",
          "2013-05-03T00:00:00",
          "2013-05-03T00:00:00",
          "2013-05-03T00:00:00",
          "2013-05-03T00:00:00",
          "2013-05-03T00:00:00",
          "2013-05-04T00:00:00",
          "2013-05-04T00:00:00",
          "2013-05-05T00:00:00",
          "2013-05-05T00:00:00",
          "2013-05-05T00:00:00",
          "2013-05-05T00:00:00",
          "2013-05-06T00:00:00",
          "2013-05-06T00:00:00",
          "2013-05-06T00:00:00",
          "2013-05-06T00:00:00",
          "2013-05-06T00:00:00",
          "2013-05-06T00:00:00",
          "2013-05-07T00:00:00",
          "2013-05-07T00:00:00",
          "2013-05-07T00:00:00",
          "2013-05-09T00:00:00",
          "2013-05-09T00:00:00",
          "2013-05-09T00:00:00",
          "2013-05-09T00:00:00",
          "2013-05-09T00:00:00",
          "2013-05-09T00:00:00",
          "2013-05-09T00:00:00",
          "2013-05-08T00:00:00",
          "2013-05-08T00:00:00",
          "2013-05-09T00:00:00",
          "2013-05-09T00:00:00",
          "2013-05-10T00:00:00",
          "2013-05-10T00:00:00",
          "2013-05-10T00:00:00",
          "2013-05-10T00:00:00",
          "2013-05-10T00:00:00",
          "2013-05-10T00:00:00",
          "2013-05-10T00:00:00",
          "2013-05-11T00:00:00",
          "2013-05-11T00:00:00",
          "2013-05-12T00:00:00",
          "2013-05-12T00:00:00",
          "2013-05-12T00:00:00",
          "2013-05-12T00:00:00",
          "2013-05-12T00:00:00",
          "2013-05-12T00:00:00",
          "2013-05-11T00:00:00",
          "2013-05-11T00:00:00",
          "2013-05-12T00:00:00",
          "2013-05-12T00:00:00",
          "2013-05-12T00:00:00",
          "2013-05-12T00:00:00",
          "2013-05-13T00:00:00",
          "2013-05-13T00:00:00",
          "2013-05-13T00:00:00",
          "2013-05-13T00:00:00",
          "2013-05-13T00:00:00",
          "2013-05-13T00:00:00",
          "2013-05-13T00:00:00",
          "2013-05-13T00:00:00",
          "2013-05-13T00:00:00",
          "2013-05-13T00:00:00",
          "2013-05-15T00:00:00",
          "2013-05-15T00:00:00",
          "2013-05-15T00:00:00",
          "2013-05-15T00:00:00",
          "2013-05-15T00:00:00",
          "2013-05-15T00:00:00",
          "2013-05-15T00:00:00",
          "2013-05-15T00:00:00",
          "2013-05-15T00:00:00",
          "2013-05-15T00:00:00",
          "2013-05-16T00:00:00",
          "2013-05-17T00:00:00",
          "2013-05-17T00:00:00",
          "2013-05-17T00:00:00",
          "2013-05-22T00:00:00",
          "2013-05-21T00:00:00",
          "2013-05-23T00:00:00",
          "2013-05-23T00:00:00",
          "2013-05-22T00:00:00",
          "2013-05-18T00:00:00",
          "2013-05-18T00:00:00",
          "2013-05-23T00:00:00",
          "2013-05-23T00:00:00",
          "2013-05-24T00:00:00",
          "2013-05-24T00:00:00",
          "2013-05-26T00:00:00",
          "2013-05-26T00:00:00",
          "2013-05-26T00:00:00",
          "2013-05-26T00:00:00",
          "2013-05-26T00:00:00",
          "2013-05-26T00:00:00",
          "2013-05-26T00:00:00",
          "2013-05-26T00:00:00",
          "2013-05-26T00:00:00",
          "2013-05-27T00:00:00",
          "2013-05-27T00:00:00",
          "2013-05-27T00:00:00",
          "2013-05-28T00:00:00",
          "2013-05-28T00:00:00",
          "2013-05-28T00:00:00",
          "2013-05-28T00:00:00",
          "2013-05-28T00:00:00",
          "2013-05-28T00:00:00",
          "2013-05-28T00:00:00",
          "2013-05-28T00:00:00",
          "2013-05-29T00:00:00",
          "2013-05-29T00:00:00",
          "2013-05-29T00:00:00",
          "2013-05-29T00:00:00",
          "2013-05-29T00:00:00",
          "2013-05-30T00:00:00",
          "2013-05-30T00:00:00",
          "2013-05-30T00:00:00",
          "2013-05-30T00:00:00",
          "2013-05-30T00:00:00",
          "2013-05-30T00:00:00",
          "2013-05-30T00:00:00",
          "2013-05-30T00:00:00",
          "2013-05-30T00:00:00",
          "2013-05-30T00:00:00",
          "2013-05-30T00:00:00",
          "2013-05-31T00:00:00",
          "2013-05-31T00:00:00",
          "2013-06-03T00:00:00",
          "2013-06-03T00:00:00",
          "2013-06-03T00:00:00",
          "2013-06-03T00:00:00",
          "2013-06-03T00:00:00",
          "2013-06-03T00:00:00",
          "2013-06-03T00:00:00",
          "2013-06-04T00:00:00",
          "2013-06-04T00:00:00",
          "2013-06-04T00:00:00",
          "2013-06-05T00:00:00",
          "2013-06-05T00:00:00",
          "2013-06-05T00:00:00",
          "2013-06-05T00:00:00",
          "2013-06-06T00:00:00",
          "2013-06-06T00:00:00",
          "2013-06-06T00:00:00",
          "2013-06-06T00:00:00",
          "2013-06-06T00:00:00",
          "2013-06-06T00:00:00",
          "2013-06-06T00:00:00",
          "2013-06-06T00:00:00",
          "2013-06-06T00:00:00",
          "2013-06-06T00:00:00",
          "2013-06-06T00:00:00",
          "2013-06-07T00:00:00",
          "2013-06-07T00:00:00",
          "2013-06-07T00:00:00",
          "2013-06-07T00:00:00",
          "2013-06-07T00:00:00",
          "2013-06-07T00:00:00",
          "2013-06-07T00:00:00",
          "2013-06-08T00:00:00",
          "2013-06-08T00:00:00",
          "2013-06-10T00:00:00",
          "2013-06-10T00:00:00",
          "2013-06-10T00:00:00",
          "2013-06-10T00:00:00",
          "2013-06-10T00:00:00",
          "2013-06-11T00:00:00",
          "2013-06-11T00:00:00",
          "2013-06-11T00:00:00",
          "2013-06-11T00:00:00",
          "2013-06-11T00:00:00",
          "2013-06-11T00:00:00",
          "2013-06-11T00:00:00",
          "2013-06-13T00:00:00",
          "2013-06-13T00:00:00",
          "2013-06-14T00:00:00",
          "2013-06-14T00:00:00",
          "2013-06-15T00:00:00",
          "2013-06-15T00:00:00",
          "2013-06-14T00:00:00",
          "2013-06-14T00:00:00",
          "2013-06-14T00:00:00",
          "2013-06-14T00:00:00",
          "2013-06-14T00:00:00",
          "2013-06-14T00:00:00",
          "2013-07-14T00:00:00",
          "2013-08-14T00:00:00",
          "2013-09-14T00:00:00",
          "2013-10-14T00:00:00",
          "2013-11-14T00:00:00",
          "2013-12-14T00:00:00",
          "2014-01-14T00:00:00",
          "2014-02-14T00:00:00",
          "2014-03-14T00:00:00",
          "2014-04-14T00:00:00",
          "2014-05-14T00:00:00",
          "2014-06-14T00:00:00"
         ],
         "y": [
          10,
          13,
          18,
          438,
          22,
          68,
          51,
          0,
          45,
          13,
          51,
          34,
          82,
          46,
          28,
          22,
          91,
          235,
          23,
          183,
          53,
          102,
          58,
          0,
          0,
          68,
          31,
          19,
          0,
          0,
          343,
          59,
          19,
          41,
          50,
          34,
          0,
          0,
          469,
          416,
          0,
          67,
          0,
          338,
          12,
          0,
          78,
          38,
          10,
          21,
          32,
          0,
          18,
          0,
          10,
          0,
          4,
          72,
          4,
          4,
          0,
          20,
          0,
          13,
          21,
          14,
          23,
          21,
          377,
          18,
          21,
          21,
          14,
          0,
          0,
          5,
          0,
          0,
          2,
          3,
          101,
          2,
          28,
          263,
          221,
          2,
          2,
          3,
          473,
          3,
          0,
          257,
          3,
          65,
          3,
          0,
          0,
          55,
          1,
          3,
          72,
          0,
          48,
          332,
          0,
          1,
          0,
          13,
          28,
          205,
          38,
          0,
          33,
          0,
          6,
          18,
          12,
          40,
          79,
          3,
          3,
          0,
          12,
          142,
          0,
          2,
          0,
          240,
          4,
          1,
          50,
          23,
          38,
          68,
          0,
          5,
          13,
          110,
          165,
          406,
          77,
          16,
          22,
          0,
          39,
          174,
          52,
          1,
          3,
          387,
          71,
          0,
          25,
          206,
          0,
          0,
          1,
          1381,
          793,
          0,
          0,
          0,
          0,
          0,
          0,
          304,
          82,
          37,
          124,
          3,
          0,
          19,
          20,
          421,
          91,
          24,
          159,
          0,
          40,
          4,
          624,
          13,
          0,
          0,
          26,
          46,
          1,
          11,
          0,
          2,
          10,
          21,
          12,
          338,
          0,
          0,
          98,
          0,
          4,
          8,
          16,
          10,
          0,
          31,
          0,
          46,
          692,
          436,
          82,
          2,
          0,
          3,
          14,
          75,
          13,
          944,
          146,
          109,
          0,
          54,
          616,
          7,
          74,
          47,
          0,
          136,
          4,
          33,
          0,
          0,
          0,
          0,
          199,
          0,
          0,
          3,
          0,
          60,
          0,
          157,
          793,
          18,
          14,
          82,
          27,
          495,
          551,
          3,
          0,
          6,
          46,
          260,
          21,
          0,
          58,
          58,
          835,
          0,
          0,
          0,
          0,
          142,
          1240,
          147,
          3,
          40,
          21,
          7,
          0,
          1,
          171,
          75,
          0,
          0,
          173,
          43,
          0,
          0,
          0,
          11,
          0,
          0,
          15,
          1,
          55,
          0,
          3,
          229,
          3,
          94,
          165,
          0,
          0,
          54,
          87,
          4,
          0,
          0,
          3,
          3,
          0,
          0,
          0,
          0,
          0,
          2,
          39,
          0,
          0,
          0,
          0,
          372,
          0,
          0,
          546,
          23,
          0,
          24,
          0,
          14,
          0,
          0,
          110,
          0,
          0,
          30,
          179,
          672,
          114,
          0,
          20,
          128,
          113,
          110,
          120,
          4,
          146,
          0,
          0,
          0,
          283,
          229,
          352,
          105,
          46,
          85,
          0,
          269,
          4,
          2,
          26,
          24,
          63,
          207,
          6,
          0,
          0,
          471,
          0,
          0,
          307,
          107,
          28,
          0,
          0,
          13,
          4,
          53,
          121,
          293,
          18,
          268,
          393,
          148,
          2,
          17,
          0,
          3,
          31,
          0,
          151,
          3,
          0,
          0,
          29,
          0,
          23,
          0,
          8,
          5,
          12,
          33,
          740,
          59,
          339,
          0,
          0,
          0,
          669,
          0,
          0,
          16,
          25,
          36,
          3,
          13,
          0,
          220,
          165,
          0,
          25,
          0,
          0,
          26,
          248,
          5,
          18,
          15,
          86,
          4,
          82,
          284,
          654,
          13,
          4,
          129,
          31,
          17,
          26,
          82,
          176,
          0,
          0,
          32,
          0,
          0,
          2,
          16,
          0,
          57,
          0,
          16,
          68,
          10,
          4,
          4,
          0,
          0,
          0,
          155,
          17,
          16,
          2441,
          307,
          0,
          0,
          157,
          0,
          3,
          15,
          19,
          488,
          755,
          0,
          0,
          0,
          31,
          14,
          35,
          0,
          14,
          8,
          0,
          33,
          15,
          584,
          30,
          17,
          3,
          676,
          88,
          0,
          127,
          0,
          0,
          123,
          0,
          2,
          8,
          38,
          21,
          2,
          3,
          0,
          3,
          108,
          0,
          22,
          0,
          29,
          139,
          16,
          0,
          69,
          72,
          111,
          0,
          11,
          70,
          0,
          0,
          14,
          46,
          188,
          19,
          30,
          44,
          3,
          8,
          6,
          0,
          0,
          0,
          null,
          null,
          null,
          null,
          null,
          null,
          null,
          null,
          null,
          null,
          null,
          null
         ]
        },
        {
         "name": "prediction",
         "type": "scatter",
         "x": [
          "2013-03-23T00:00:00",
          "2013-03-23T00:00:00",
          "2013-03-23T00:00:00",
          "2013-03-23T00:00:00",
          "2013-03-22T00:00:00",
          "2013-03-22T00:00:00",
          "2013-03-22T00:00:00",
          "2013-03-22T00:00:00",
          "2013-03-22T00:00:00",
          "2013-03-22T00:00:00",
          "2013-03-20T00:00:00",
          "2013-03-19T00:00:00",
          "2013-03-18T00:00:00",
          "2013-03-17T00:00:00",
          "2013-03-16T00:00:00",
          "2013-03-15T00:00:00",
          "2013-03-15T00:00:00",
          "2013-03-15T00:00:00",
          "2013-03-15T00:00:00",
          "2013-03-15T00:00:00",
          "2013-03-15T00:00:00",
          "2013-03-15T00:00:00",
          "2013-03-14T00:00:00",
          "2013-03-13T00:00:00",
          "2013-03-13T00:00:00",
          "2013-03-13T00:00:00",
          "2013-03-13T00:00:00",
          "2013-03-13T00:00:00",
          "2013-03-13T00:00:00",
          "2013-03-13T00:00:00",
          "2013-03-13T00:00:00",
          "2013-03-12T00:00:00",
          "2013-03-12T00:00:00",
          "2013-03-12T00:00:00",
          "2013-03-12T00:00:00",
          "2013-03-12T00:00:00",
          "2013-03-11T00:00:00",
          "2013-03-11T00:00:00",
          "2013-03-11T00:00:00",
          "2013-03-10T00:00:00",
          "2013-03-10T00:00:00",
          "2013-03-10T00:00:00",
          "2013-03-10T00:00:00",
          "2013-03-10T00:00:00",
          "2013-03-10T00:00:00",
          "2013-03-10T00:00:00",
          "2013-03-10T00:00:00",
          "2013-03-10T00:00:00",
          "2013-03-09T00:00:00",
          "2013-03-09T00:00:00",
          "2013-03-09T00:00:00",
          "2013-03-09T00:00:00",
          "2013-03-08T00:00:00",
          "2013-03-08T00:00:00",
          "2013-03-08T00:00:00",
          "2013-03-08T00:00:00",
          "2013-03-08T00:00:00",
          "2013-03-08T00:00:00",
          "2013-03-08T00:00:00",
          "2013-03-08T00:00:00",
          "2013-03-08T00:00:00",
          "2013-03-08T00:00:00",
          "2013-03-08T00:00:00",
          "2013-03-08T00:00:00",
          "2013-03-08T00:00:00",
          "2013-03-07T00:00:00",
          "2013-03-06T00:00:00",
          "2013-03-06T00:00:00",
          "2013-03-06T00:00:00",
          "2013-03-06T00:00:00",
          "2013-03-06T00:00:00",
          "2013-03-06T00:00:00",
          "2013-03-06T00:00:00",
          "2013-03-06T00:00:00",
          "2013-03-06T00:00:00",
          "2013-03-06T00:00:00",
          "2013-03-06T00:00:00",
          "2013-03-06T00:00:00",
          "2013-03-06T00:00:00",
          "2013-03-06T00:00:00",
          "2013-03-06T00:00:00",
          "2013-03-06T00:00:00",
          "2013-03-06T00:00:00",
          "2013-03-05T00:00:00",
          "2013-03-02T00:00:00",
          "2013-03-02T00:00:00",
          "2013-03-02T00:00:00",
          "2013-03-02T00:00:00",
          "2013-03-02T00:00:00",
          "2013-03-02T00:00:00",
          "2013-03-02T00:00:00",
          "2013-03-02T00:00:00",
          "2013-03-02T00:00:00",
          "2013-03-01T00:00:00",
          "2013-03-01T00:00:00",
          "2013-03-01T00:00:00",
          "2013-03-01T00:00:00",
          "2013-03-01T00:00:00",
          "2013-03-01T00:00:00",
          "2013-03-01T00:00:00",
          "2013-03-01T00:00:00",
          "2013-03-01T00:00:00",
          "2013-03-01T00:00:00",
          "2013-03-01T00:00:00",
          "2013-03-01T00:00:00",
          "2013-03-01T00:00:00",
          "2013-03-01T00:00:00",
          "2013-02-28T00:00:00",
          "2013-02-26T00:00:00",
          "2013-02-26T00:00:00",
          "2013-02-26T00:00:00",
          "2013-02-26T00:00:00",
          "2013-02-26T00:00:00",
          "2013-02-26T00:00:00",
          "2013-02-26T00:00:00",
          "2013-02-26T00:00:00",
          "2013-02-26T00:00:00",
          "2013-02-25T00:00:00",
          "2013-02-25T00:00:00",
          "2013-02-25T00:00:00",
          "2013-02-25T00:00:00",
          "2013-02-25T00:00:00",
          "2013-02-25T00:00:00",
          "2013-02-25T00:00:00",
          "2013-02-25T00:00:00",
          "2013-02-25T00:00:00",
          "2013-02-25T00:00:00",
          "2013-02-25T00:00:00",
          "2013-02-25T00:00:00",
          "2013-02-25T00:00:00",
          "2013-02-23T00:00:00",
          "2013-02-23T00:00:00",
          "2013-02-23T00:00:00",
          "2013-02-21T00:00:00",
          "2013-02-21T00:00:00",
          "2013-02-21T00:00:00",
          "2013-02-21T00:00:00",
          "2013-02-21T00:00:00",
          "2013-02-21T00:00:00",
          "2013-02-20T00:00:00",
          "2013-02-20T00:00:00",
          "2013-02-16T00:00:00",
          "2013-02-16T00:00:00",
          "2013-02-16T00:00:00",
          "2013-02-16T00:00:00",
          "2013-02-15T00:00:00",
          "2013-02-15T00:00:00",
          "2013-02-15T00:00:00",
          "2013-02-15T00:00:00",
          "2013-02-15T00:00:00",
          "2013-02-15T00:00:00",
          "2013-02-15T00:00:00",
          "2013-02-15T00:00:00",
          "2013-02-15T00:00:00",
          "2013-02-14T00:00:00",
          "2013-02-14T00:00:00",
          "2013-02-14T00:00:00",
          "2013-02-14T00:00:00",
          "2013-02-14T00:00:00",
          "2013-02-14T00:00:00",
          "2013-02-14T00:00:00",
          "2013-02-14T00:00:00",
          "2013-02-14T00:00:00",
          "2013-02-14T00:00:00",
          "2013-02-14T00:00:00",
          "2013-02-14T00:00:00",
          "2013-02-14T00:00:00",
          "2013-02-13T00:00:00",
          "2013-02-13T00:00:00",
          "2013-02-11T00:00:00",
          "2013-02-11T00:00:00",
          "2013-03-24T00:00:00",
          "2013-03-24T00:00:00",
          "2013-03-25T00:00:00",
          "2013-03-25T00:00:00",
          "2013-03-26T00:00:00",
          "2013-03-26T00:00:00",
          "2013-03-26T00:00:00",
          "2013-03-26T00:00:00",
          "2013-03-26T00:00:00",
          "2013-03-27T00:00:00",
          "2013-03-27T00:00:00",
          "2013-03-27T00:00:00",
          "2013-03-27T00:00:00",
          "2013-03-27T00:00:00",
          "2013-03-28T00:00:00",
          "2013-03-28T00:00:00",
          "2013-03-28T00:00:00",
          "2013-03-28T00:00:00",
          "2013-03-28T00:00:00",
          "2013-03-28T00:00:00",
          "2013-03-28T00:00:00",
          "2013-03-28T00:00:00",
          "2013-03-29T00:00:00",
          "2013-03-30T00:00:00",
          "2013-03-30T00:00:00",
          "2013-04-01T00:00:00",
          "2013-04-01T00:00:00",
          "2013-04-01T00:00:00",
          "2013-04-01T00:00:00",
          "2013-04-01T00:00:00",
          "2013-04-01T00:00:00",
          "2013-04-03T00:00:00",
          "2013-04-03T00:00:00",
          "2013-04-03T00:00:00",
          "2013-04-03T00:00:00",
          "2013-04-04T00:00:00",
          "2013-04-05T00:00:00",
          "2013-04-05T00:00:00",
          "2013-04-05T00:00:00",
          "2013-04-05T00:00:00",
          "2013-04-05T00:00:00",
          "2013-04-05T00:00:00",
          "2013-04-06T00:00:00",
          "2013-04-06T00:00:00",
          "2013-04-08T00:00:00",
          "2013-04-08T00:00:00",
          "2013-04-08T00:00:00",
          "2013-04-08T00:00:00",
          "2013-04-08T00:00:00",
          "2013-04-08T00:00:00",
          "2013-04-08T00:00:00",
          "2013-04-09T00:00:00",
          "2013-04-09T00:00:00",
          "2013-04-09T00:00:00",
          "2013-04-09T00:00:00",
          "2013-04-09T00:00:00",
          "2013-04-09T00:00:00",
          "2013-04-09T00:00:00",
          "2013-04-10T00:00:00",
          "2013-04-10T00:00:00",
          "2013-04-10T00:00:00",
          "2013-04-10T00:00:00",
          "2013-04-10T00:00:00",
          "2013-04-10T00:00:00",
          "2013-04-10T00:00:00",
          "2013-04-10T00:00:00",
          "2013-04-11T00:00:00",
          "2013-04-11T00:00:00",
          "2013-04-11T00:00:00",
          "2013-04-12T00:00:00",
          "2013-04-12T00:00:00",
          "2013-04-12T00:00:00",
          "2013-04-12T00:00:00",
          "2013-04-12T00:00:00",
          "2013-04-12T00:00:00",
          "2013-04-15T00:00:00",
          "2013-04-15T00:00:00",
          "2013-04-15T00:00:00",
          "2013-04-15T00:00:00",
          "2013-04-15T00:00:00",
          "2013-04-15T00:00:00",
          "2013-04-15T00:00:00",
          "2013-04-15T00:00:00",
          "2013-04-15T00:00:00",
          "2013-04-15T00:00:00",
          "2013-04-15T00:00:00",
          "2013-04-15T00:00:00",
          "2013-04-16T00:00:00",
          "2013-04-16T00:00:00",
          "2013-04-16T00:00:00",
          "2013-04-16T00:00:00",
          "2013-04-17T00:00:00",
          "2013-04-17T00:00:00",
          "2013-04-17T00:00:00",
          "2013-04-17T00:00:00",
          "2013-04-17T00:00:00",
          "2013-04-17T00:00:00",
          "2013-04-17T00:00:00",
          "2013-04-17T00:00:00",
          "2013-04-18T00:00:00",
          "2013-04-18T00:00:00",
          "2013-04-18T00:00:00",
          "2013-04-18T00:00:00",
          "2013-04-19T00:00:00",
          "2013-04-19T00:00:00",
          "2013-04-19T00:00:00",
          "2013-04-19T00:00:00",
          "2013-04-19T00:00:00",
          "2013-04-19T00:00:00",
          "2013-04-19T00:00:00",
          "2013-04-21T00:00:00",
          "2013-04-20T00:00:00",
          "2013-04-20T00:00:00",
          "2013-04-22T00:00:00",
          "2013-04-22T00:00:00",
          "2013-04-22T00:00:00",
          "2013-04-22T00:00:00",
          "2013-04-22T00:00:00",
          "2013-04-22T00:00:00",
          "2013-04-23T00:00:00",
          "2013-04-23T00:00:00",
          "2013-04-24T00:00:00",
          "2013-04-25T00:00:00",
          "2013-04-25T00:00:00",
          "2013-04-26T00:00:00",
          "2013-04-26T00:00:00",
          "2013-04-26T00:00:00",
          "2013-04-26T00:00:00",
          "2013-04-26T00:00:00",
          "2013-04-26T00:00:00",
          "2013-04-26T00:00:00",
          "2013-04-26T00:00:00",
          "2013-04-26T00:00:00",
          "2013-04-26T00:00:00",
          "2013-04-26T00:00:00",
          "2013-04-26T00:00:00",
          "2013-04-28T00:00:00",
          "2013-04-28T00:00:00",
          "2013-04-28T00:00:00",
          "2013-04-28T00:00:00",
          "2013-04-27T00:00:00",
          "2013-04-27T00:00:00",
          "2013-04-29T00:00:00",
          "2013-04-29T00:00:00",
          "2013-04-30T00:00:00",
          "2013-04-30T00:00:00",
          "2013-04-30T00:00:00",
          "2013-04-30T00:00:00",
          "2013-05-01T00:00:00",
          "2013-05-01T00:00:00",
          "2013-05-01T00:00:00",
          "2013-05-01T00:00:00",
          "2013-05-02T00:00:00",
          "2013-05-01T00:00:00",
          "2013-05-01T00:00:00",
          "2013-05-01T00:00:00",
          "2013-05-01T00:00:00",
          "2013-05-02T00:00:00",
          "2013-05-02T00:00:00",
          "2013-05-02T00:00:00",
          "2013-05-02T00:00:00",
          "2013-05-02T00:00:00",
          "2013-05-02T00:00:00",
          "2013-05-01T00:00:00",
          "2013-05-01T00:00:00",
          "2013-05-01T00:00:00",
          "2013-05-01T00:00:00",
          "2013-05-01T00:00:00",
          "2013-05-01T00:00:00",
          "2013-05-03T00:00:00",
          "2013-05-03T00:00:00",
          "2013-05-03T00:00:00",
          "2013-05-03T00:00:00",
          "2013-05-03T00:00:00",
          "2013-05-04T00:00:00",
          "2013-05-04T00:00:00",
          "2013-05-05T00:00:00",
          "2013-05-05T00:00:00",
          "2013-05-05T00:00:00",
          "2013-05-05T00:00:00",
          "2013-05-06T00:00:00",
          "2013-05-06T00:00:00",
          "2013-05-06T00:00:00",
          "2013-05-06T00:00:00",
          "2013-05-06T00:00:00",
          "2013-05-06T00:00:00",
          "2013-05-07T00:00:00",
          "2013-05-07T00:00:00",
          "2013-05-07T00:00:00",
          "2013-05-09T00:00:00",
          "2013-05-09T00:00:00",
          "2013-05-09T00:00:00",
          "2013-05-09T00:00:00",
          "2013-05-09T00:00:00",
          "2013-05-09T00:00:00",
          "2013-05-09T00:00:00",
          "2013-05-08T00:00:00",
          "2013-05-08T00:00:00",
          "2013-05-09T00:00:00",
          "2013-05-09T00:00:00",
          "2013-05-10T00:00:00",
          "2013-05-10T00:00:00",
          "2013-05-10T00:00:00",
          "2013-05-10T00:00:00",
          "2013-05-10T00:00:00",
          "2013-05-10T00:00:00",
          "2013-05-10T00:00:00",
          "2013-05-11T00:00:00",
          "2013-05-11T00:00:00",
          "2013-05-12T00:00:00",
          "2013-05-12T00:00:00",
          "2013-05-12T00:00:00",
          "2013-05-12T00:00:00",
          "2013-05-12T00:00:00",
          "2013-05-12T00:00:00",
          "2013-05-11T00:00:00",
          "2013-05-11T00:00:00",
          "2013-05-12T00:00:00",
          "2013-05-12T00:00:00",
          "2013-05-12T00:00:00",
          "2013-05-12T00:00:00",
          "2013-05-13T00:00:00",
          "2013-05-13T00:00:00",
          "2013-05-13T00:00:00",
          "2013-05-13T00:00:00",
          "2013-05-13T00:00:00",
          "2013-05-13T00:00:00",
          "2013-05-13T00:00:00",
          "2013-05-13T00:00:00",
          "2013-05-13T00:00:00",
          "2013-05-13T00:00:00",
          "2013-05-15T00:00:00",
          "2013-05-15T00:00:00",
          "2013-05-15T00:00:00",
          "2013-05-15T00:00:00",
          "2013-05-15T00:00:00",
          "2013-05-15T00:00:00",
          "2013-05-15T00:00:00",
          "2013-05-15T00:00:00",
          "2013-05-15T00:00:00",
          "2013-05-15T00:00:00",
          "2013-05-16T00:00:00",
          "2013-05-17T00:00:00",
          "2013-05-17T00:00:00",
          "2013-05-17T00:00:00",
          "2013-05-22T00:00:00",
          "2013-05-21T00:00:00",
          "2013-05-23T00:00:00",
          "2013-05-23T00:00:00",
          "2013-05-22T00:00:00",
          "2013-05-18T00:00:00",
          "2013-05-18T00:00:00",
          "2013-05-23T00:00:00",
          "2013-05-23T00:00:00",
          "2013-05-24T00:00:00",
          "2013-05-24T00:00:00",
          "2013-05-26T00:00:00",
          "2013-05-26T00:00:00",
          "2013-05-26T00:00:00",
          "2013-05-26T00:00:00",
          "2013-05-26T00:00:00",
          "2013-05-26T00:00:00",
          "2013-05-26T00:00:00",
          "2013-05-26T00:00:00",
          "2013-05-26T00:00:00",
          "2013-05-27T00:00:00",
          "2013-05-27T00:00:00",
          "2013-05-27T00:00:00",
          "2013-05-28T00:00:00",
          "2013-05-28T00:00:00",
          "2013-05-28T00:00:00",
          "2013-05-28T00:00:00",
          "2013-05-28T00:00:00",
          "2013-05-28T00:00:00",
          "2013-05-28T00:00:00",
          "2013-05-28T00:00:00",
          "2013-05-29T00:00:00",
          "2013-05-29T00:00:00",
          "2013-05-29T00:00:00",
          "2013-05-29T00:00:00",
          "2013-05-29T00:00:00",
          "2013-05-30T00:00:00",
          "2013-05-30T00:00:00",
          "2013-05-30T00:00:00",
          "2013-05-30T00:00:00",
          "2013-05-30T00:00:00",
          "2013-05-30T00:00:00",
          "2013-05-30T00:00:00",
          "2013-05-30T00:00:00",
          "2013-05-30T00:00:00",
          "2013-05-30T00:00:00",
          "2013-05-30T00:00:00",
          "2013-05-31T00:00:00",
          "2013-05-31T00:00:00",
          "2013-06-03T00:00:00",
          "2013-06-03T00:00:00",
          "2013-06-03T00:00:00",
          "2013-06-03T00:00:00",
          "2013-06-03T00:00:00",
          "2013-06-03T00:00:00",
          "2013-06-03T00:00:00",
          "2013-06-04T00:00:00",
          "2013-06-04T00:00:00",
          "2013-06-04T00:00:00",
          "2013-06-05T00:00:00",
          "2013-06-05T00:00:00",
          "2013-06-05T00:00:00",
          "2013-06-05T00:00:00",
          "2013-06-06T00:00:00",
          "2013-06-06T00:00:00",
          "2013-06-06T00:00:00",
          "2013-06-06T00:00:00",
          "2013-06-06T00:00:00",
          "2013-06-06T00:00:00",
          "2013-06-06T00:00:00",
          "2013-06-06T00:00:00",
          "2013-06-06T00:00:00",
          "2013-06-06T00:00:00",
          "2013-06-06T00:00:00",
          "2013-06-07T00:00:00",
          "2013-06-07T00:00:00",
          "2013-06-07T00:00:00",
          "2013-06-07T00:00:00",
          "2013-06-07T00:00:00",
          "2013-06-07T00:00:00",
          "2013-06-07T00:00:00",
          "2013-06-08T00:00:00",
          "2013-06-08T00:00:00",
          "2013-06-10T00:00:00",
          "2013-06-10T00:00:00",
          "2013-06-10T00:00:00",
          "2013-06-10T00:00:00",
          "2013-06-10T00:00:00",
          "2013-06-11T00:00:00",
          "2013-06-11T00:00:00",
          "2013-06-11T00:00:00",
          "2013-06-11T00:00:00",
          "2013-06-11T00:00:00",
          "2013-06-11T00:00:00",
          "2013-06-11T00:00:00",
          "2013-06-13T00:00:00",
          "2013-06-13T00:00:00",
          "2013-06-14T00:00:00",
          "2013-06-14T00:00:00",
          "2013-06-15T00:00:00",
          "2013-06-15T00:00:00",
          "2013-06-14T00:00:00",
          "2013-06-14T00:00:00",
          "2013-06-14T00:00:00",
          "2013-06-14T00:00:00",
          "2013-06-14T00:00:00",
          "2013-06-14T00:00:00",
          "2013-07-14T00:00:00",
          "2013-08-14T00:00:00",
          "2013-09-14T00:00:00",
          "2013-10-14T00:00:00",
          "2013-11-14T00:00:00",
          "2013-12-14T00:00:00",
          "2014-01-14T00:00:00",
          "2014-02-14T00:00:00",
          "2014-03-14T00:00:00",
          "2014-04-14T00:00:00",
          "2014-05-14T00:00:00",
          "2014-06-14T00:00:00"
         ],
         "y": [
          null,
          null,
          null,
          null,
          null,
          null,
          null,
          null,
          null,
          null,
          null,
          null,
          null,
          null,
          null,
          null,
          null,
          null,
          null,
          null,
          null,
          null,
          null,
          null,
          null,
          null,
          null,
          null,
          null,
          null,
          null,
          null,
          null,
          null,
          null,
          null,
          null,
          null,
          null,
          null,
          null,
          null,
          null,
          null,
          null,
          null,
          null,
          null,
          null,
          null,
          null,
          null,
          null,
          null,
          null,
          null,
          null,
          null,
          null,
          null,
          null,
          null,
          null,
          null,
          null,
          null,
          null,
          null,
          null,
          null,
          null,
          null,
          null,
          null,
          null,
          null,
          null,
          null,
          null,
          null,
          null,
          null,
          null,
          null,
          null,
          null,
          null,
          null,
          null,
          null,
          null,
          null,
          null,
          null,
          null,
          null,
          null,
          null,
          null,
          null,
          null,
          null,
          null,
          null,
          null,
          null,
          null,
          null,
          null,
          null,
          null,
          null,
          null,
          null,
          null,
          null,
          null,
          null,
          null,
          null,
          null,
          null,
          null,
          null,
          null,
          null,
          null,
          null,
          null,
          null,
          null,
          null,
          null,
          null,
          null,
          null,
          null,
          null,
          null,
          null,
          null,
          null,
          null,
          null,
          null,
          null,
          null,
          null,
          null,
          null,
          null,
          null,
          null,
          null,
          null,
          null,
          null,
          null,
          null,
          null,
          null,
          null,
          null,
          null,
          null,
          null,
          null,
          null,
          null,
          null,
          null,
          null,
          null,
          null,
          null,
          null,
          null,
          null,
          null,
          null,
          null,
          null,
          null,
          null,
          null,
          null,
          null,
          null,
          null,
          null,
          null,
          null,
          null,
          null,
          null,
          null,
          null,
          null,
          null,
          null,
          null,
          null,
          null,
          null,
          null,
          null,
          null,
          null,
          null,
          null,
          null,
          null,
          null,
          null,
          null,
          null,
          null,
          null,
          null,
          null,
          null,
          null,
          null,
          null,
          null,
          null,
          null,
          null,
          null,
          null,
          null,
          null,
          null,
          null,
          null,
          null,
          null,
          null,
          null,
          null,
          null,
          null,
          null,
          null,
          null,
          null,
          null,
          null,
          null,
          null,
          null,
          null,
          null,
          null,
          null,
          null,
          null,
          null,
          null,
          null,
          null,
          null,
          null,
          null,
          null,
          null,
          null,
          null,
          null,
          null,
          null,
          null,
          null,
          null,
          null,
          null,
          null,
          null,
          null,
          null,
          null,
          null,
          null,
          null,
          null,
          null,
          null,
          null,
          null,
          null,
          null,
          null,
          null,
          null,
          null,
          null,
          null,
          null,
          null,
          null,
          null,
          null,
          null,
          null,
          null,
          null,
          null,
          null,
          null,
          null,
          null,
          null,
          null,
          null,
          null,
          null,
          null,
          null,
          null,
          null,
          null,
          null,
          null,
          null,
          null,
          null,
          null,
          null,
          null,
          null,
          null,
          null,
          null,
          null,
          null,
          null,
          null,
          null,
          null,
          null,
          null,
          null,
          null,
          null,
          null,
          null,
          null,
          null,
          null,
          null,
          null,
          null,
          null,
          null,
          null,
          null,
          null,
          null,
          null,
          null,
          null,
          null,
          null,
          null,
          null,
          null,
          null,
          null,
          null,
          null,
          null,
          null,
          null,
          null,
          null,
          null,
          null,
          null,
          null,
          null,
          null,
          null,
          null,
          null,
          null,
          null,
          null,
          null,
          null,
          null,
          null,
          null,
          null,
          null,
          null,
          null,
          null,
          null,
          null,
          null,
          null,
          null,
          null,
          null,
          null,
          null,
          null,
          null,
          null,
          null,
          null,
          null,
          null,
          null,
          null,
          null,
          null,
          null,
          null,
          null,
          null,
          null,
          null,
          null,
          null,
          null,
          null,
          null,
          null,
          null,
          null,
          null,
          null,
          null,
          null,
          null,
          null,
          null,
          null,
          null,
          null,
          null,
          null,
          null,
          null,
          null,
          null,
          null,
          null,
          null,
          null,
          null,
          null,
          null,
          null,
          null,
          null,
          null,
          null,
          null,
          null,
          null,
          null,
          null,
          null,
          null,
          null,
          null,
          null,
          null,
          null,
          null,
          null,
          null,
          null,
          null,
          null,
          null,
          null,
          null,
          null,
          null,
          null,
          null,
          null,
          null,
          null,
          null,
          null,
          null,
          null,
          null,
          null,
          null,
          null,
          null,
          null,
          null,
          null,
          null,
          null,
          null,
          null,
          null,
          null,
          null,
          null,
          null,
          null,
          null,
          null,
          null,
          null,
          null,
          null,
          null,
          null,
          null,
          null,
          null,
          null,
          null,
          null,
          80.53996867313981,
          87.79111810773611,
          89.79091874882579,
          90.31149054318666,
          89.597437761724,
          88.83844523131847,
          88.28771051764488,
          87.97544200718403,
          87.8416685052216,
          87.82115371897817,
          87.85492673143744,
          87.90576811879873
         ]
        }
       ],
       "layout": {
        "template": {
         "data": {
          "bar": [
           {
            "error_x": {
             "color": "#2a3f5f"
            },
            "error_y": {
             "color": "#2a3f5f"
            },
            "marker": {
             "line": {
              "color": "#E5ECF6",
              "width": 0.5
             }
            },
            "type": "bar"
           }
          ],
          "barpolar": [
           {
            "marker": {
             "line": {
              "color": "#E5ECF6",
              "width": 0.5
             }
            },
            "type": "barpolar"
           }
          ],
          "carpet": [
           {
            "aaxis": {
             "endlinecolor": "#2a3f5f",
             "gridcolor": "white",
             "linecolor": "white",
             "minorgridcolor": "white",
             "startlinecolor": "#2a3f5f"
            },
            "baxis": {
             "endlinecolor": "#2a3f5f",
             "gridcolor": "white",
             "linecolor": "white",
             "minorgridcolor": "white",
             "startlinecolor": "#2a3f5f"
            },
            "type": "carpet"
           }
          ],
          "choropleth": [
           {
            "colorbar": {
             "outlinewidth": 0,
             "ticks": ""
            },
            "type": "choropleth"
           }
          ],
          "contour": [
           {
            "colorbar": {
             "outlinewidth": 0,
             "ticks": ""
            },
            "colorscale": [
             [
              0,
              "#0d0887"
             ],
             [
              0.1111111111111111,
              "#46039f"
             ],
             [
              0.2222222222222222,
              "#7201a8"
             ],
             [
              0.3333333333333333,
              "#9c179e"
             ],
             [
              0.4444444444444444,
              "#bd3786"
             ],
             [
              0.5555555555555556,
              "#d8576b"
             ],
             [
              0.6666666666666666,
              "#ed7953"
             ],
             [
              0.7777777777777778,
              "#fb9f3a"
             ],
             [
              0.8888888888888888,
              "#fdca26"
             ],
             [
              1,
              "#f0f921"
             ]
            ],
            "type": "contour"
           }
          ],
          "contourcarpet": [
           {
            "colorbar": {
             "outlinewidth": 0,
             "ticks": ""
            },
            "type": "contourcarpet"
           }
          ],
          "heatmap": [
           {
            "colorbar": {
             "outlinewidth": 0,
             "ticks": ""
            },
            "colorscale": [
             [
              0,
              "#0d0887"
             ],
             [
              0.1111111111111111,
              "#46039f"
             ],
             [
              0.2222222222222222,
              "#7201a8"
             ],
             [
              0.3333333333333333,
              "#9c179e"
             ],
             [
              0.4444444444444444,
              "#bd3786"
             ],
             [
              0.5555555555555556,
              "#d8576b"
             ],
             [
              0.6666666666666666,
              "#ed7953"
             ],
             [
              0.7777777777777778,
              "#fb9f3a"
             ],
             [
              0.8888888888888888,
              "#fdca26"
             ],
             [
              1,
              "#f0f921"
             ]
            ],
            "type": "heatmap"
           }
          ],
          "heatmapgl": [
           {
            "colorbar": {
             "outlinewidth": 0,
             "ticks": ""
            },
            "colorscale": [
             [
              0,
              "#0d0887"
             ],
             [
              0.1111111111111111,
              "#46039f"
             ],
             [
              0.2222222222222222,
              "#7201a8"
             ],
             [
              0.3333333333333333,
              "#9c179e"
             ],
             [
              0.4444444444444444,
              "#bd3786"
             ],
             [
              0.5555555555555556,
              "#d8576b"
             ],
             [
              0.6666666666666666,
              "#ed7953"
             ],
             [
              0.7777777777777778,
              "#fb9f3a"
             ],
             [
              0.8888888888888888,
              "#fdca26"
             ],
             [
              1,
              "#f0f921"
             ]
            ],
            "type": "heatmapgl"
           }
          ],
          "histogram": [
           {
            "marker": {
             "colorbar": {
              "outlinewidth": 0,
              "ticks": ""
             }
            },
            "type": "histogram"
           }
          ],
          "histogram2d": [
           {
            "colorbar": {
             "outlinewidth": 0,
             "ticks": ""
            },
            "colorscale": [
             [
              0,
              "#0d0887"
             ],
             [
              0.1111111111111111,
              "#46039f"
             ],
             [
              0.2222222222222222,
              "#7201a8"
             ],
             [
              0.3333333333333333,
              "#9c179e"
             ],
             [
              0.4444444444444444,
              "#bd3786"
             ],
             [
              0.5555555555555556,
              "#d8576b"
             ],
             [
              0.6666666666666666,
              "#ed7953"
             ],
             [
              0.7777777777777778,
              "#fb9f3a"
             ],
             [
              0.8888888888888888,
              "#fdca26"
             ],
             [
              1,
              "#f0f921"
             ]
            ],
            "type": "histogram2d"
           }
          ],
          "histogram2dcontour": [
           {
            "colorbar": {
             "outlinewidth": 0,
             "ticks": ""
            },
            "colorscale": [
             [
              0,
              "#0d0887"
             ],
             [
              0.1111111111111111,
              "#46039f"
             ],
             [
              0.2222222222222222,
              "#7201a8"
             ],
             [
              0.3333333333333333,
              "#9c179e"
             ],
             [
              0.4444444444444444,
              "#bd3786"
             ],
             [
              0.5555555555555556,
              "#d8576b"
             ],
             [
              0.6666666666666666,
              "#ed7953"
             ],
             [
              0.7777777777777778,
              "#fb9f3a"
             ],
             [
              0.8888888888888888,
              "#fdca26"
             ],
             [
              1,
              "#f0f921"
             ]
            ],
            "type": "histogram2dcontour"
           }
          ],
          "mesh3d": [
           {
            "colorbar": {
             "outlinewidth": 0,
             "ticks": ""
            },
            "type": "mesh3d"
           }
          ],
          "parcoords": [
           {
            "line": {
             "colorbar": {
              "outlinewidth": 0,
              "ticks": ""
             }
            },
            "type": "parcoords"
           }
          ],
          "pie": [
           {
            "automargin": true,
            "type": "pie"
           }
          ],
          "scatter": [
           {
            "marker": {
             "colorbar": {
              "outlinewidth": 0,
              "ticks": ""
             }
            },
            "type": "scatter"
           }
          ],
          "scatter3d": [
           {
            "line": {
             "colorbar": {
              "outlinewidth": 0,
              "ticks": ""
             }
            },
            "marker": {
             "colorbar": {
              "outlinewidth": 0,
              "ticks": ""
             }
            },
            "type": "scatter3d"
           }
          ],
          "scattercarpet": [
           {
            "marker": {
             "colorbar": {
              "outlinewidth": 0,
              "ticks": ""
             }
            },
            "type": "scattercarpet"
           }
          ],
          "scattergeo": [
           {
            "marker": {
             "colorbar": {
              "outlinewidth": 0,
              "ticks": ""
             }
            },
            "type": "scattergeo"
           }
          ],
          "scattergl": [
           {
            "marker": {
             "colorbar": {
              "outlinewidth": 0,
              "ticks": ""
             }
            },
            "type": "scattergl"
           }
          ],
          "scattermapbox": [
           {
            "marker": {
             "colorbar": {
              "outlinewidth": 0,
              "ticks": ""
             }
            },
            "type": "scattermapbox"
           }
          ],
          "scatterpolar": [
           {
            "marker": {
             "colorbar": {
              "outlinewidth": 0,
              "ticks": ""
             }
            },
            "type": "scatterpolar"
           }
          ],
          "scatterpolargl": [
           {
            "marker": {
             "colorbar": {
              "outlinewidth": 0,
              "ticks": ""
             }
            },
            "type": "scatterpolargl"
           }
          ],
          "scatterternary": [
           {
            "marker": {
             "colorbar": {
              "outlinewidth": 0,
              "ticks": ""
             }
            },
            "type": "scatterternary"
           }
          ],
          "surface": [
           {
            "colorbar": {
             "outlinewidth": 0,
             "ticks": ""
            },
            "colorscale": [
             [
              0,
              "#0d0887"
             ],
             [
              0.1111111111111111,
              "#46039f"
             ],
             [
              0.2222222222222222,
              "#7201a8"
             ],
             [
              0.3333333333333333,
              "#9c179e"
             ],
             [
              0.4444444444444444,
              "#bd3786"
             ],
             [
              0.5555555555555556,
              "#d8576b"
             ],
             [
              0.6666666666666666,
              "#ed7953"
             ],
             [
              0.7777777777777778,
              "#fb9f3a"
             ],
             [
              0.8888888888888888,
              "#fdca26"
             ],
             [
              1,
              "#f0f921"
             ]
            ],
            "type": "surface"
           }
          ],
          "table": [
           {
            "cells": {
             "fill": {
              "color": "#EBF0F8"
             },
             "line": {
              "color": "white"
             }
            },
            "header": {
             "fill": {
              "color": "#C8D4E3"
             },
             "line": {
              "color": "white"
             }
            },
            "type": "table"
           }
          ]
         },
         "layout": {
          "annotationdefaults": {
           "arrowcolor": "#2a3f5f",
           "arrowhead": 0,
           "arrowwidth": 1
          },
          "autotypenumbers": "strict",
          "coloraxis": {
           "colorbar": {
            "outlinewidth": 0,
            "ticks": ""
           }
          },
          "colorscale": {
           "diverging": [
            [
             0,
             "#8e0152"
            ],
            [
             0.1,
             "#c51b7d"
            ],
            [
             0.2,
             "#de77ae"
            ],
            [
             0.3,
             "#f1b6da"
            ],
            [
             0.4,
             "#fde0ef"
            ],
            [
             0.5,
             "#f7f7f7"
            ],
            [
             0.6,
             "#e6f5d0"
            ],
            [
             0.7,
             "#b8e186"
            ],
            [
             0.8,
             "#7fbc41"
            ],
            [
             0.9,
             "#4d9221"
            ],
            [
             1,
             "#276419"
            ]
           ],
           "sequential": [
            [
             0,
             "#0d0887"
            ],
            [
             0.1111111111111111,
             "#46039f"
            ],
            [
             0.2222222222222222,
             "#7201a8"
            ],
            [
             0.3333333333333333,
             "#9c179e"
            ],
            [
             0.4444444444444444,
             "#bd3786"
            ],
            [
             0.5555555555555556,
             "#d8576b"
            ],
            [
             0.6666666666666666,
             "#ed7953"
            ],
            [
             0.7777777777777778,
             "#fb9f3a"
            ],
            [
             0.8888888888888888,
             "#fdca26"
            ],
            [
             1,
             "#f0f921"
            ]
           ],
           "sequentialminus": [
            [
             0,
             "#0d0887"
            ],
            [
             0.1111111111111111,
             "#46039f"
            ],
            [
             0.2222222222222222,
             "#7201a8"
            ],
            [
             0.3333333333333333,
             "#9c179e"
            ],
            [
             0.4444444444444444,
             "#bd3786"
            ],
            [
             0.5555555555555556,
             "#d8576b"
            ],
            [
             0.6666666666666666,
             "#ed7953"
            ],
            [
             0.7777777777777778,
             "#fb9f3a"
            ],
            [
             0.8888888888888888,
             "#fdca26"
            ],
            [
             1,
             "#f0f921"
            ]
           ]
          },
          "colorway": [
           "#636efa",
           "#EF553B",
           "#00cc96",
           "#ab63fa",
           "#FFA15A",
           "#19d3f3",
           "#FF6692",
           "#B6E880",
           "#FF97FF",
           "#FECB52"
          ],
          "font": {
           "color": "#2a3f5f"
          },
          "geo": {
           "bgcolor": "white",
           "lakecolor": "white",
           "landcolor": "#E5ECF6",
           "showlakes": true,
           "showland": true,
           "subunitcolor": "white"
          },
          "hoverlabel": {
           "align": "left"
          },
          "hovermode": "closest",
          "mapbox": {
           "style": "light"
          },
          "paper_bgcolor": "white",
          "plot_bgcolor": "#E5ECF6",
          "polar": {
           "angularaxis": {
            "gridcolor": "white",
            "linecolor": "white",
            "ticks": ""
           },
           "bgcolor": "#E5ECF6",
           "radialaxis": {
            "gridcolor": "white",
            "linecolor": "white",
            "ticks": ""
           }
          },
          "scene": {
           "xaxis": {
            "backgroundcolor": "#E5ECF6",
            "gridcolor": "white",
            "gridwidth": 2,
            "linecolor": "white",
            "showbackground": true,
            "ticks": "",
            "zerolinecolor": "white"
           },
           "yaxis": {
            "backgroundcolor": "#E5ECF6",
            "gridcolor": "white",
            "gridwidth": 2,
            "linecolor": "white",
            "showbackground": true,
            "ticks": "",
            "zerolinecolor": "white"
           },
           "zaxis": {
            "backgroundcolor": "#E5ECF6",
            "gridcolor": "white",
            "gridwidth": 2,
            "linecolor": "white",
            "showbackground": true,
            "ticks": "",
            "zerolinecolor": "white"
           }
          },
          "shapedefaults": {
           "line": {
            "color": "#2a3f5f"
           }
          },
          "ternary": {
           "aaxis": {
            "gridcolor": "white",
            "linecolor": "white",
            "ticks": ""
           },
           "baxis": {
            "gridcolor": "white",
            "linecolor": "white",
            "ticks": ""
           },
           "bgcolor": "#E5ECF6",
           "caxis": {
            "gridcolor": "white",
            "linecolor": "white",
            "ticks": ""
           }
          },
          "title": {
           "x": 0.05
          },
          "xaxis": {
           "automargin": true,
           "gridcolor": "white",
           "linecolor": "white",
           "ticks": "",
           "title": {
            "standoff": 15
           },
           "zerolinecolor": "white",
           "zerolinewidth": 2
          },
          "yaxis": {
           "automargin": true,
           "gridcolor": "white",
           "linecolor": "white",
           "ticks": "",
           "title": {
            "standoff": 15
           },
           "zerolinecolor": "white",
           "zerolinewidth": 2
          }
         }
        },
        "title": {
         "text": "Shampoo sales prediction"
        }
       }
      },
      "text/html": [
       "<div>                            <div id=\"011d2008-c1c5-4302-b9df-6e4f3c94f1d7\" class=\"plotly-graph-div\" style=\"height:525px; width:100%;\"></div>            <script type=\"text/javascript\">                require([\"plotly\"], function(Plotly) {                    window.PLOTLYENV=window.PLOTLYENV || {};                                    if (document.getElementById(\"011d2008-c1c5-4302-b9df-6e4f3c94f1d7\")) {                    Plotly.newPlot(                        \"011d2008-c1c5-4302-b9df-6e4f3c94f1d7\",                        [{\"name\": \"actual\", \"type\": \"scatter\", \"x\": [\"2013-03-23T00:00:00\", \"2013-03-23T00:00:00\", \"2013-03-23T00:00:00\", \"2013-03-23T00:00:00\", \"2013-03-22T00:00:00\", \"2013-03-22T00:00:00\", \"2013-03-22T00:00:00\", \"2013-03-22T00:00:00\", \"2013-03-22T00:00:00\", \"2013-03-22T00:00:00\", \"2013-03-20T00:00:00\", \"2013-03-19T00:00:00\", \"2013-03-18T00:00:00\", \"2013-03-17T00:00:00\", \"2013-03-16T00:00:00\", \"2013-03-15T00:00:00\", \"2013-03-15T00:00:00\", \"2013-03-15T00:00:00\", \"2013-03-15T00:00:00\", \"2013-03-15T00:00:00\", \"2013-03-15T00:00:00\", \"2013-03-15T00:00:00\", \"2013-03-14T00:00:00\", \"2013-03-13T00:00:00\", \"2013-03-13T00:00:00\", \"2013-03-13T00:00:00\", \"2013-03-13T00:00:00\", \"2013-03-13T00:00:00\", \"2013-03-13T00:00:00\", \"2013-03-13T00:00:00\", \"2013-03-13T00:00:00\", \"2013-03-12T00:00:00\", \"2013-03-12T00:00:00\", \"2013-03-12T00:00:00\", \"2013-03-12T00:00:00\", \"2013-03-12T00:00:00\", \"2013-03-11T00:00:00\", \"2013-03-11T00:00:00\", \"2013-03-11T00:00:00\", \"2013-03-10T00:00:00\", \"2013-03-10T00:00:00\", \"2013-03-10T00:00:00\", \"2013-03-10T00:00:00\", \"2013-03-10T00:00:00\", \"2013-03-10T00:00:00\", \"2013-03-10T00:00:00\", \"2013-03-10T00:00:00\", \"2013-03-10T00:00:00\", \"2013-03-09T00:00:00\", \"2013-03-09T00:00:00\", \"2013-03-09T00:00:00\", \"2013-03-09T00:00:00\", \"2013-03-08T00:00:00\", \"2013-03-08T00:00:00\", \"2013-03-08T00:00:00\", \"2013-03-08T00:00:00\", \"2013-03-08T00:00:00\", \"2013-03-08T00:00:00\", \"2013-03-08T00:00:00\", \"2013-03-08T00:00:00\", \"2013-03-08T00:00:00\", \"2013-03-08T00:00:00\", \"2013-03-08T00:00:00\", \"2013-03-08T00:00:00\", \"2013-03-08T00:00:00\", \"2013-03-07T00:00:00\", \"2013-03-06T00:00:00\", \"2013-03-06T00:00:00\", \"2013-03-06T00:00:00\", \"2013-03-06T00:00:00\", \"2013-03-06T00:00:00\", \"2013-03-06T00:00:00\", \"2013-03-06T00:00:00\", \"2013-03-06T00:00:00\", \"2013-03-06T00:00:00\", \"2013-03-06T00:00:00\", \"2013-03-06T00:00:00\", \"2013-03-06T00:00:00\", \"2013-03-06T00:00:00\", \"2013-03-06T00:00:00\", \"2013-03-06T00:00:00\", \"2013-03-06T00:00:00\", \"2013-03-06T00:00:00\", \"2013-03-05T00:00:00\", \"2013-03-02T00:00:00\", \"2013-03-02T00:00:00\", \"2013-03-02T00:00:00\", \"2013-03-02T00:00:00\", \"2013-03-02T00:00:00\", \"2013-03-02T00:00:00\", \"2013-03-02T00:00:00\", \"2013-03-02T00:00:00\", \"2013-03-02T00:00:00\", \"2013-03-01T00:00:00\", \"2013-03-01T00:00:00\", \"2013-03-01T00:00:00\", \"2013-03-01T00:00:00\", \"2013-03-01T00:00:00\", \"2013-03-01T00:00:00\", \"2013-03-01T00:00:00\", \"2013-03-01T00:00:00\", \"2013-03-01T00:00:00\", \"2013-03-01T00:00:00\", \"2013-03-01T00:00:00\", \"2013-03-01T00:00:00\", \"2013-03-01T00:00:00\", \"2013-03-01T00:00:00\", \"2013-02-28T00:00:00\", \"2013-02-26T00:00:00\", \"2013-02-26T00:00:00\", \"2013-02-26T00:00:00\", \"2013-02-26T00:00:00\", \"2013-02-26T00:00:00\", \"2013-02-26T00:00:00\", \"2013-02-26T00:00:00\", \"2013-02-26T00:00:00\", \"2013-02-26T00:00:00\", \"2013-02-25T00:00:00\", \"2013-02-25T00:00:00\", \"2013-02-25T00:00:00\", \"2013-02-25T00:00:00\", \"2013-02-25T00:00:00\", \"2013-02-25T00:00:00\", \"2013-02-25T00:00:00\", \"2013-02-25T00:00:00\", \"2013-02-25T00:00:00\", \"2013-02-25T00:00:00\", \"2013-02-25T00:00:00\", \"2013-02-25T00:00:00\", \"2013-02-25T00:00:00\", \"2013-02-23T00:00:00\", \"2013-02-23T00:00:00\", \"2013-02-23T00:00:00\", \"2013-02-21T00:00:00\", \"2013-02-21T00:00:00\", \"2013-02-21T00:00:00\", \"2013-02-21T00:00:00\", \"2013-02-21T00:00:00\", \"2013-02-21T00:00:00\", \"2013-02-20T00:00:00\", \"2013-02-20T00:00:00\", \"2013-02-16T00:00:00\", \"2013-02-16T00:00:00\", \"2013-02-16T00:00:00\", \"2013-02-16T00:00:00\", \"2013-02-15T00:00:00\", \"2013-02-15T00:00:00\", \"2013-02-15T00:00:00\", \"2013-02-15T00:00:00\", \"2013-02-15T00:00:00\", \"2013-02-15T00:00:00\", \"2013-02-15T00:00:00\", \"2013-02-15T00:00:00\", \"2013-02-15T00:00:00\", \"2013-02-14T00:00:00\", \"2013-02-14T00:00:00\", \"2013-02-14T00:00:00\", \"2013-02-14T00:00:00\", \"2013-02-14T00:00:00\", \"2013-02-14T00:00:00\", \"2013-02-14T00:00:00\", \"2013-02-14T00:00:00\", \"2013-02-14T00:00:00\", \"2013-02-14T00:00:00\", \"2013-02-14T00:00:00\", \"2013-02-14T00:00:00\", \"2013-02-14T00:00:00\", \"2013-02-13T00:00:00\", \"2013-02-13T00:00:00\", \"2013-02-11T00:00:00\", \"2013-02-11T00:00:00\", \"2013-03-24T00:00:00\", \"2013-03-24T00:00:00\", \"2013-03-25T00:00:00\", \"2013-03-25T00:00:00\", \"2013-03-26T00:00:00\", \"2013-03-26T00:00:00\", \"2013-03-26T00:00:00\", \"2013-03-26T00:00:00\", \"2013-03-26T00:00:00\", \"2013-03-27T00:00:00\", \"2013-03-27T00:00:00\", \"2013-03-27T00:00:00\", \"2013-03-27T00:00:00\", \"2013-03-27T00:00:00\", \"2013-03-28T00:00:00\", \"2013-03-28T00:00:00\", \"2013-03-28T00:00:00\", \"2013-03-28T00:00:00\", \"2013-03-28T00:00:00\", \"2013-03-28T00:00:00\", \"2013-03-28T00:00:00\", \"2013-03-28T00:00:00\", \"2013-03-29T00:00:00\", \"2013-03-30T00:00:00\", \"2013-03-30T00:00:00\", \"2013-04-01T00:00:00\", \"2013-04-01T00:00:00\", \"2013-04-01T00:00:00\", \"2013-04-01T00:00:00\", \"2013-04-01T00:00:00\", \"2013-04-01T00:00:00\", \"2013-04-03T00:00:00\", \"2013-04-03T00:00:00\", \"2013-04-03T00:00:00\", \"2013-04-03T00:00:00\", \"2013-04-04T00:00:00\", \"2013-04-05T00:00:00\", \"2013-04-05T00:00:00\", \"2013-04-05T00:00:00\", \"2013-04-05T00:00:00\", \"2013-04-05T00:00:00\", \"2013-04-05T00:00:00\", \"2013-04-06T00:00:00\", \"2013-04-06T00:00:00\", \"2013-04-08T00:00:00\", \"2013-04-08T00:00:00\", \"2013-04-08T00:00:00\", \"2013-04-08T00:00:00\", \"2013-04-08T00:00:00\", \"2013-04-08T00:00:00\", \"2013-04-08T00:00:00\", \"2013-04-09T00:00:00\", \"2013-04-09T00:00:00\", \"2013-04-09T00:00:00\", \"2013-04-09T00:00:00\", \"2013-04-09T00:00:00\", \"2013-04-09T00:00:00\", \"2013-04-09T00:00:00\", \"2013-04-10T00:00:00\", \"2013-04-10T00:00:00\", \"2013-04-10T00:00:00\", \"2013-04-10T00:00:00\", \"2013-04-10T00:00:00\", \"2013-04-10T00:00:00\", \"2013-04-10T00:00:00\", \"2013-04-10T00:00:00\", \"2013-04-11T00:00:00\", \"2013-04-11T00:00:00\", \"2013-04-11T00:00:00\", \"2013-04-12T00:00:00\", \"2013-04-12T00:00:00\", \"2013-04-12T00:00:00\", \"2013-04-12T00:00:00\", \"2013-04-12T00:00:00\", \"2013-04-12T00:00:00\", \"2013-04-15T00:00:00\", \"2013-04-15T00:00:00\", \"2013-04-15T00:00:00\", \"2013-04-15T00:00:00\", \"2013-04-15T00:00:00\", \"2013-04-15T00:00:00\", \"2013-04-15T00:00:00\", \"2013-04-15T00:00:00\", \"2013-04-15T00:00:00\", \"2013-04-15T00:00:00\", \"2013-04-15T00:00:00\", \"2013-04-15T00:00:00\", \"2013-04-16T00:00:00\", \"2013-04-16T00:00:00\", \"2013-04-16T00:00:00\", \"2013-04-16T00:00:00\", \"2013-04-17T00:00:00\", \"2013-04-17T00:00:00\", \"2013-04-17T00:00:00\", \"2013-04-17T00:00:00\", \"2013-04-17T00:00:00\", \"2013-04-17T00:00:00\", \"2013-04-17T00:00:00\", \"2013-04-17T00:00:00\", \"2013-04-18T00:00:00\", \"2013-04-18T00:00:00\", \"2013-04-18T00:00:00\", \"2013-04-18T00:00:00\", \"2013-04-19T00:00:00\", \"2013-04-19T00:00:00\", \"2013-04-19T00:00:00\", \"2013-04-19T00:00:00\", \"2013-04-19T00:00:00\", \"2013-04-19T00:00:00\", \"2013-04-19T00:00:00\", \"2013-04-21T00:00:00\", \"2013-04-20T00:00:00\", \"2013-04-20T00:00:00\", \"2013-04-22T00:00:00\", \"2013-04-22T00:00:00\", \"2013-04-22T00:00:00\", \"2013-04-22T00:00:00\", \"2013-04-22T00:00:00\", \"2013-04-22T00:00:00\", \"2013-04-23T00:00:00\", \"2013-04-23T00:00:00\", \"2013-04-24T00:00:00\", \"2013-04-25T00:00:00\", \"2013-04-25T00:00:00\", \"2013-04-26T00:00:00\", \"2013-04-26T00:00:00\", \"2013-04-26T00:00:00\", \"2013-04-26T00:00:00\", \"2013-04-26T00:00:00\", \"2013-04-26T00:00:00\", \"2013-04-26T00:00:00\", \"2013-04-26T00:00:00\", \"2013-04-26T00:00:00\", \"2013-04-26T00:00:00\", \"2013-04-26T00:00:00\", \"2013-04-26T00:00:00\", \"2013-04-28T00:00:00\", \"2013-04-28T00:00:00\", \"2013-04-28T00:00:00\", \"2013-04-28T00:00:00\", \"2013-04-27T00:00:00\", \"2013-04-27T00:00:00\", \"2013-04-29T00:00:00\", \"2013-04-29T00:00:00\", \"2013-04-30T00:00:00\", \"2013-04-30T00:00:00\", \"2013-04-30T00:00:00\", \"2013-04-30T00:00:00\", \"2013-05-01T00:00:00\", \"2013-05-01T00:00:00\", \"2013-05-01T00:00:00\", \"2013-05-01T00:00:00\", \"2013-05-02T00:00:00\", \"2013-05-01T00:00:00\", \"2013-05-01T00:00:00\", \"2013-05-01T00:00:00\", \"2013-05-01T00:00:00\", \"2013-05-02T00:00:00\", \"2013-05-02T00:00:00\", \"2013-05-02T00:00:00\", \"2013-05-02T00:00:00\", \"2013-05-02T00:00:00\", \"2013-05-02T00:00:00\", \"2013-05-01T00:00:00\", \"2013-05-01T00:00:00\", \"2013-05-01T00:00:00\", \"2013-05-01T00:00:00\", \"2013-05-01T00:00:00\", \"2013-05-01T00:00:00\", \"2013-05-03T00:00:00\", \"2013-05-03T00:00:00\", \"2013-05-03T00:00:00\", \"2013-05-03T00:00:00\", \"2013-05-03T00:00:00\", \"2013-05-04T00:00:00\", \"2013-05-04T00:00:00\", \"2013-05-05T00:00:00\", \"2013-05-05T00:00:00\", \"2013-05-05T00:00:00\", \"2013-05-05T00:00:00\", \"2013-05-06T00:00:00\", \"2013-05-06T00:00:00\", \"2013-05-06T00:00:00\", \"2013-05-06T00:00:00\", \"2013-05-06T00:00:00\", \"2013-05-06T00:00:00\", \"2013-05-07T00:00:00\", \"2013-05-07T00:00:00\", \"2013-05-07T00:00:00\", \"2013-05-09T00:00:00\", \"2013-05-09T00:00:00\", \"2013-05-09T00:00:00\", \"2013-05-09T00:00:00\", \"2013-05-09T00:00:00\", \"2013-05-09T00:00:00\", \"2013-05-09T00:00:00\", \"2013-05-08T00:00:00\", \"2013-05-08T00:00:00\", \"2013-05-09T00:00:00\", \"2013-05-09T00:00:00\", \"2013-05-10T00:00:00\", \"2013-05-10T00:00:00\", \"2013-05-10T00:00:00\", \"2013-05-10T00:00:00\", \"2013-05-10T00:00:00\", \"2013-05-10T00:00:00\", \"2013-05-10T00:00:00\", \"2013-05-11T00:00:00\", \"2013-05-11T00:00:00\", \"2013-05-12T00:00:00\", \"2013-05-12T00:00:00\", \"2013-05-12T00:00:00\", \"2013-05-12T00:00:00\", \"2013-05-12T00:00:00\", \"2013-05-12T00:00:00\", \"2013-05-11T00:00:00\", \"2013-05-11T00:00:00\", \"2013-05-12T00:00:00\", \"2013-05-12T00:00:00\", \"2013-05-12T00:00:00\", \"2013-05-12T00:00:00\", \"2013-05-13T00:00:00\", \"2013-05-13T00:00:00\", \"2013-05-13T00:00:00\", \"2013-05-13T00:00:00\", \"2013-05-13T00:00:00\", \"2013-05-13T00:00:00\", \"2013-05-13T00:00:00\", \"2013-05-13T00:00:00\", \"2013-05-13T00:00:00\", \"2013-05-13T00:00:00\", \"2013-05-15T00:00:00\", \"2013-05-15T00:00:00\", \"2013-05-15T00:00:00\", \"2013-05-15T00:00:00\", \"2013-05-15T00:00:00\", \"2013-05-15T00:00:00\", \"2013-05-15T00:00:00\", \"2013-05-15T00:00:00\", \"2013-05-15T00:00:00\", \"2013-05-15T00:00:00\", \"2013-05-16T00:00:00\", \"2013-05-17T00:00:00\", \"2013-05-17T00:00:00\", \"2013-05-17T00:00:00\", \"2013-05-22T00:00:00\", \"2013-05-21T00:00:00\", \"2013-05-23T00:00:00\", \"2013-05-23T00:00:00\", \"2013-05-22T00:00:00\", \"2013-05-18T00:00:00\", \"2013-05-18T00:00:00\", \"2013-05-23T00:00:00\", \"2013-05-23T00:00:00\", \"2013-05-24T00:00:00\", \"2013-05-24T00:00:00\", \"2013-05-26T00:00:00\", \"2013-05-26T00:00:00\", \"2013-05-26T00:00:00\", \"2013-05-26T00:00:00\", \"2013-05-26T00:00:00\", \"2013-05-26T00:00:00\", \"2013-05-26T00:00:00\", \"2013-05-26T00:00:00\", \"2013-05-26T00:00:00\", \"2013-05-27T00:00:00\", \"2013-05-27T00:00:00\", \"2013-05-27T00:00:00\", \"2013-05-28T00:00:00\", \"2013-05-28T00:00:00\", \"2013-05-28T00:00:00\", \"2013-05-28T00:00:00\", \"2013-05-28T00:00:00\", \"2013-05-28T00:00:00\", \"2013-05-28T00:00:00\", \"2013-05-28T00:00:00\", \"2013-05-29T00:00:00\", \"2013-05-29T00:00:00\", \"2013-05-29T00:00:00\", \"2013-05-29T00:00:00\", \"2013-05-29T00:00:00\", \"2013-05-30T00:00:00\", \"2013-05-30T00:00:00\", \"2013-05-30T00:00:00\", \"2013-05-30T00:00:00\", \"2013-05-30T00:00:00\", \"2013-05-30T00:00:00\", \"2013-05-30T00:00:00\", \"2013-05-30T00:00:00\", \"2013-05-30T00:00:00\", \"2013-05-30T00:00:00\", \"2013-05-30T00:00:00\", \"2013-05-31T00:00:00\", \"2013-05-31T00:00:00\", \"2013-06-03T00:00:00\", \"2013-06-03T00:00:00\", \"2013-06-03T00:00:00\", \"2013-06-03T00:00:00\", \"2013-06-03T00:00:00\", \"2013-06-03T00:00:00\", \"2013-06-03T00:00:00\", \"2013-06-04T00:00:00\", \"2013-06-04T00:00:00\", \"2013-06-04T00:00:00\", \"2013-06-05T00:00:00\", \"2013-06-05T00:00:00\", \"2013-06-05T00:00:00\", \"2013-06-05T00:00:00\", \"2013-06-06T00:00:00\", \"2013-06-06T00:00:00\", \"2013-06-06T00:00:00\", \"2013-06-06T00:00:00\", \"2013-06-06T00:00:00\", \"2013-06-06T00:00:00\", \"2013-06-06T00:00:00\", \"2013-06-06T00:00:00\", \"2013-06-06T00:00:00\", \"2013-06-06T00:00:00\", \"2013-06-06T00:00:00\", \"2013-06-07T00:00:00\", \"2013-06-07T00:00:00\", \"2013-06-07T00:00:00\", \"2013-06-07T00:00:00\", \"2013-06-07T00:00:00\", \"2013-06-07T00:00:00\", \"2013-06-07T00:00:00\", \"2013-06-08T00:00:00\", \"2013-06-08T00:00:00\", \"2013-06-10T00:00:00\", \"2013-06-10T00:00:00\", \"2013-06-10T00:00:00\", \"2013-06-10T00:00:00\", \"2013-06-10T00:00:00\", \"2013-06-11T00:00:00\", \"2013-06-11T00:00:00\", \"2013-06-11T00:00:00\", \"2013-06-11T00:00:00\", \"2013-06-11T00:00:00\", \"2013-06-11T00:00:00\", \"2013-06-11T00:00:00\", \"2013-06-13T00:00:00\", \"2013-06-13T00:00:00\", \"2013-06-14T00:00:00\", \"2013-06-14T00:00:00\", \"2013-06-15T00:00:00\", \"2013-06-15T00:00:00\", \"2013-06-14T00:00:00\", \"2013-06-14T00:00:00\", \"2013-06-14T00:00:00\", \"2013-06-14T00:00:00\", \"2013-06-14T00:00:00\", \"2013-06-14T00:00:00\", \"2013-07-14T00:00:00\", \"2013-08-14T00:00:00\", \"2013-09-14T00:00:00\", \"2013-10-14T00:00:00\", \"2013-11-14T00:00:00\", \"2013-12-14T00:00:00\", \"2014-01-14T00:00:00\", \"2014-02-14T00:00:00\", \"2014-03-14T00:00:00\", \"2014-04-14T00:00:00\", \"2014-05-14T00:00:00\", \"2014-06-14T00:00:00\"], \"y\": [10.0, 13.0, 18.0, 438.0, 22.0, 68.0, 51.0, 0.0, 45.0, 13.0, 51.0, 34.0, 82.0, 46.0, 28.0, 22.0, 91.0, 235.0, 23.0, 183.0, 53.0, 102.0, 58.0, 0.0, 0.0, 68.0, 31.0, 19.0, 0.0, 0.0, 343.0, 59.0, 19.0, 41.0, 50.0, 34.0, 0.0, 0.0, 469.0, 416.0, 0.0, 67.0, 0.0, 338.0, 12.0, 0.0, 78.0, 38.0, 10.0, 21.0, 32.0, 0.0, 18.0, 0.0, 10.0, 0.0, 4.0, 72.0, 4.0, 4.0, 0.0, 20.0, 0.0, 13.0, 21.0, 14.0, 23.0, 21.0, 377.0, 18.0, 21.0, 21.0, 14.0, 0.0, 0.0, 5.0, 0.0, 0.0, 2.0, 3.0, 101.0, 2.0, 28.0, 263.0, 221.0, 2.0, 2.0, 3.0, 473.0, 3.0, 0.0, 257.0, 3.0, 65.0, 3.0, 0.0, 0.0, 55.0, 1.0, 3.0, 72.0, 0.0, 48.0, 332.0, 0.0, 1.0, 0.0, 13.0, 28.0, 205.0, 38.0, 0.0, 33.0, 0.0, 6.0, 18.0, 12.0, 40.0, 79.0, 3.0, 3.0, 0.0, 12.0, 142.0, 0.0, 2.0, 0.0, 240.0, 4.0, 1.0, 50.0, 23.0, 38.0, 68.0, 0.0, 5.0, 13.0, 110.0, 165.0, 406.0, 77.0, 16.0, 22.0, 0.0, 39.0, 174.0, 52.0, 1.0, 3.0, 387.0, 71.0, 0.0, 25.0, 206.0, 0.0, 0.0, 1.0, 1381.0, 793.0, 0.0, 0.0, 0.0, 0.0, 0.0, 0.0, 304.0, 82.0, 37.0, 124.0, 3.0, 0.0, 19.0, 20.0, 421.0, 91.0, 24.0, 159.0, 0.0, 40.0, 4.0, 624.0, 13.0, 0.0, 0.0, 26.0, 46.0, 1.0, 11.0, 0.0, 2.0, 10.0, 21.0, 12.0, 338.0, 0.0, 0.0, 98.0, 0.0, 4.0, 8.0, 16.0, 10.0, 0.0, 31.0, 0.0, 46.0, 692.0, 436.0, 82.0, 2.0, 0.0, 3.0, 14.0, 75.0, 13.0, 944.0, 146.0, 109.0, 0.0, 54.0, 616.0, 7.0, 74.0, 47.0, 0.0, 136.0, 4.0, 33.0, 0.0, 0.0, 0.0, 0.0, 199.0, 0.0, 0.0, 3.0, 0.0, 60.0, 0.0, 157.0, 793.0, 18.0, 14.0, 82.0, 27.0, 495.0, 551.0, 3.0, 0.0, 6.0, 46.0, 260.0, 21.0, 0.0, 58.0, 58.0, 835.0, 0.0, 0.0, 0.0, 0.0, 142.0, 1240.0, 147.0, 3.0, 40.0, 21.0, 7.0, 0.0, 1.0, 171.0, 75.0, 0.0, 0.0, 173.0, 43.0, 0.0, 0.0, 0.0, 11.0, 0.0, 0.0, 15.0, 1.0, 55.0, 0.0, 3.0, 229.0, 3.0, 94.0, 165.0, 0.0, 0.0, 54.0, 87.0, 4.0, 0.0, 0.0, 3.0, 3.0, 0.0, 0.0, 0.0, 0.0, 0.0, 2.0, 39.0, 0.0, 0.0, 0.0, 0.0, 372.0, 0.0, 0.0, 546.0, 23.0, 0.0, 24.0, 0.0, 14.0, 0.0, 0.0, 110.0, 0.0, 0.0, 30.0, 179.0, 672.0, 114.0, 0.0, 20.0, 128.0, 113.0, 110.0, 120.0, 4.0, 146.0, 0.0, 0.0, 0.0, 283.0, 229.0, 352.0, 105.0, 46.0, 85.0, 0.0, 269.0, 4.0, 2.0, 26.0, 24.0, 63.0, 207.0, 6.0, 0.0, 0.0, 471.0, 0.0, 0.0, 307.0, 107.0, 28.0, 0.0, 0.0, 13.0, 4.0, 53.0, 121.0, 293.0, 18.0, 268.0, 393.0, 148.0, 2.0, 17.0, 0.0, 3.0, 31.0, 0.0, 151.0, 3.0, 0.0, 0.0, 29.0, 0.0, 23.0, 0.0, 8.0, 5.0, 12.0, 33.0, 740.0, 59.0, 339.0, 0.0, 0.0, 0.0, 669.0, 0.0, 0.0, 16.0, 25.0, 36.0, 3.0, 13.0, 0.0, 220.0, 165.0, 0.0, 25.0, 0.0, 0.0, 26.0, 248.0, 5.0, 18.0, 15.0, 86.0, 4.0, 82.0, 284.0, 654.0, 13.0, 4.0, 129.0, 31.0, 17.0, 26.0, 82.0, 176.0, 0.0, 0.0, 32.0, 0.0, 0.0, 2.0, 16.0, 0.0, 57.0, 0.0, 16.0, 68.0, 10.0, 4.0, 4.0, 0.0, 0.0, 0.0, 155.0, 17.0, 16.0, 2441.0, 307.0, 0.0, 0.0, 157.0, 0.0, 3.0, 15.0, 19.0, 488.0, 755.0, 0.0, 0.0, 0.0, 31.0, 14.0, 35.0, 0.0, 14.0, 8.0, 0.0, 33.0, 15.0, 584.0, 30.0, 17.0, 3.0, 676.0, 88.0, 0.0, 127.0, 0.0, 0.0, 123.0, 0.0, 2.0, 8.0, 38.0, 21.0, 2.0, 3.0, 0.0, 3.0, 108.0, 0.0, 22.0, 0.0, 29.0, 139.0, 16.0, 0.0, 69.0, 72.0, 111.0, 0.0, 11.0, 70.0, 0.0, 0.0, 14.0, 46.0, 188.0, 19.0, 30.0, 44.0, 3.0, 8.0, 6.0, 0.0, 0.0, 0.0, null, null, null, null, null, null, null, null, null, null, null, null]}, {\"name\": \"prediction\", \"type\": \"scatter\", \"x\": [\"2013-03-23T00:00:00\", \"2013-03-23T00:00:00\", \"2013-03-23T00:00:00\", \"2013-03-23T00:00:00\", \"2013-03-22T00:00:00\", \"2013-03-22T00:00:00\", \"2013-03-22T00:00:00\", \"2013-03-22T00:00:00\", \"2013-03-22T00:00:00\", \"2013-03-22T00:00:00\", \"2013-03-20T00:00:00\", \"2013-03-19T00:00:00\", \"2013-03-18T00:00:00\", \"2013-03-17T00:00:00\", \"2013-03-16T00:00:00\", \"2013-03-15T00:00:00\", \"2013-03-15T00:00:00\", \"2013-03-15T00:00:00\", \"2013-03-15T00:00:00\", \"2013-03-15T00:00:00\", \"2013-03-15T00:00:00\", \"2013-03-15T00:00:00\", \"2013-03-14T00:00:00\", \"2013-03-13T00:00:00\", \"2013-03-13T00:00:00\", \"2013-03-13T00:00:00\", \"2013-03-13T00:00:00\", \"2013-03-13T00:00:00\", \"2013-03-13T00:00:00\", \"2013-03-13T00:00:00\", \"2013-03-13T00:00:00\", \"2013-03-12T00:00:00\", \"2013-03-12T00:00:00\", \"2013-03-12T00:00:00\", \"2013-03-12T00:00:00\", \"2013-03-12T00:00:00\", \"2013-03-11T00:00:00\", \"2013-03-11T00:00:00\", \"2013-03-11T00:00:00\", \"2013-03-10T00:00:00\", \"2013-03-10T00:00:00\", \"2013-03-10T00:00:00\", \"2013-03-10T00:00:00\", \"2013-03-10T00:00:00\", \"2013-03-10T00:00:00\", \"2013-03-10T00:00:00\", \"2013-03-10T00:00:00\", \"2013-03-10T00:00:00\", \"2013-03-09T00:00:00\", \"2013-03-09T00:00:00\", \"2013-03-09T00:00:00\", \"2013-03-09T00:00:00\", \"2013-03-08T00:00:00\", \"2013-03-08T00:00:00\", \"2013-03-08T00:00:00\", \"2013-03-08T00:00:00\", \"2013-03-08T00:00:00\", \"2013-03-08T00:00:00\", \"2013-03-08T00:00:00\", \"2013-03-08T00:00:00\", \"2013-03-08T00:00:00\", \"2013-03-08T00:00:00\", \"2013-03-08T00:00:00\", \"2013-03-08T00:00:00\", \"2013-03-08T00:00:00\", \"2013-03-07T00:00:00\", \"2013-03-06T00:00:00\", \"2013-03-06T00:00:00\", \"2013-03-06T00:00:00\", \"2013-03-06T00:00:00\", \"2013-03-06T00:00:00\", \"2013-03-06T00:00:00\", \"2013-03-06T00:00:00\", \"2013-03-06T00:00:00\", \"2013-03-06T00:00:00\", \"2013-03-06T00:00:00\", \"2013-03-06T00:00:00\", \"2013-03-06T00:00:00\", \"2013-03-06T00:00:00\", \"2013-03-06T00:00:00\", \"2013-03-06T00:00:00\", \"2013-03-06T00:00:00\", \"2013-03-06T00:00:00\", \"2013-03-05T00:00:00\", \"2013-03-02T00:00:00\", \"2013-03-02T00:00:00\", \"2013-03-02T00:00:00\", \"2013-03-02T00:00:00\", \"2013-03-02T00:00:00\", \"2013-03-02T00:00:00\", \"2013-03-02T00:00:00\", \"2013-03-02T00:00:00\", \"2013-03-02T00:00:00\", \"2013-03-01T00:00:00\", \"2013-03-01T00:00:00\", \"2013-03-01T00:00:00\", \"2013-03-01T00:00:00\", \"2013-03-01T00:00:00\", \"2013-03-01T00:00:00\", \"2013-03-01T00:00:00\", \"2013-03-01T00:00:00\", \"2013-03-01T00:00:00\", \"2013-03-01T00:00:00\", \"2013-03-01T00:00:00\", \"2013-03-01T00:00:00\", \"2013-03-01T00:00:00\", \"2013-03-01T00:00:00\", \"2013-02-28T00:00:00\", \"2013-02-26T00:00:00\", \"2013-02-26T00:00:00\", \"2013-02-26T00:00:00\", \"2013-02-26T00:00:00\", \"2013-02-26T00:00:00\", \"2013-02-26T00:00:00\", \"2013-02-26T00:00:00\", \"2013-02-26T00:00:00\", \"2013-02-26T00:00:00\", \"2013-02-25T00:00:00\", \"2013-02-25T00:00:00\", \"2013-02-25T00:00:00\", \"2013-02-25T00:00:00\", \"2013-02-25T00:00:00\", \"2013-02-25T00:00:00\", \"2013-02-25T00:00:00\", \"2013-02-25T00:00:00\", \"2013-02-25T00:00:00\", \"2013-02-25T00:00:00\", \"2013-02-25T00:00:00\", \"2013-02-25T00:00:00\", \"2013-02-25T00:00:00\", \"2013-02-23T00:00:00\", \"2013-02-23T00:00:00\", \"2013-02-23T00:00:00\", \"2013-02-21T00:00:00\", \"2013-02-21T00:00:00\", \"2013-02-21T00:00:00\", \"2013-02-21T00:00:00\", \"2013-02-21T00:00:00\", \"2013-02-21T00:00:00\", \"2013-02-20T00:00:00\", \"2013-02-20T00:00:00\", \"2013-02-16T00:00:00\", \"2013-02-16T00:00:00\", \"2013-02-16T00:00:00\", \"2013-02-16T00:00:00\", \"2013-02-15T00:00:00\", \"2013-02-15T00:00:00\", \"2013-02-15T00:00:00\", \"2013-02-15T00:00:00\", \"2013-02-15T00:00:00\", \"2013-02-15T00:00:00\", \"2013-02-15T00:00:00\", \"2013-02-15T00:00:00\", \"2013-02-15T00:00:00\", \"2013-02-14T00:00:00\", \"2013-02-14T00:00:00\", \"2013-02-14T00:00:00\", \"2013-02-14T00:00:00\", \"2013-02-14T00:00:00\", \"2013-02-14T00:00:00\", \"2013-02-14T00:00:00\", \"2013-02-14T00:00:00\", \"2013-02-14T00:00:00\", \"2013-02-14T00:00:00\", \"2013-02-14T00:00:00\", \"2013-02-14T00:00:00\", \"2013-02-14T00:00:00\", \"2013-02-13T00:00:00\", \"2013-02-13T00:00:00\", \"2013-02-11T00:00:00\", \"2013-02-11T00:00:00\", \"2013-03-24T00:00:00\", \"2013-03-24T00:00:00\", \"2013-03-25T00:00:00\", \"2013-03-25T00:00:00\", \"2013-03-26T00:00:00\", \"2013-03-26T00:00:00\", \"2013-03-26T00:00:00\", \"2013-03-26T00:00:00\", \"2013-03-26T00:00:00\", \"2013-03-27T00:00:00\", \"2013-03-27T00:00:00\", \"2013-03-27T00:00:00\", \"2013-03-27T00:00:00\", \"2013-03-27T00:00:00\", \"2013-03-28T00:00:00\", \"2013-03-28T00:00:00\", \"2013-03-28T00:00:00\", \"2013-03-28T00:00:00\", \"2013-03-28T00:00:00\", \"2013-03-28T00:00:00\", \"2013-03-28T00:00:00\", \"2013-03-28T00:00:00\", \"2013-03-29T00:00:00\", \"2013-03-30T00:00:00\", \"2013-03-30T00:00:00\", \"2013-04-01T00:00:00\", \"2013-04-01T00:00:00\", \"2013-04-01T00:00:00\", \"2013-04-01T00:00:00\", \"2013-04-01T00:00:00\", \"2013-04-01T00:00:00\", \"2013-04-03T00:00:00\", \"2013-04-03T00:00:00\", \"2013-04-03T00:00:00\", \"2013-04-03T00:00:00\", \"2013-04-04T00:00:00\", \"2013-04-05T00:00:00\", \"2013-04-05T00:00:00\", \"2013-04-05T00:00:00\", \"2013-04-05T00:00:00\", \"2013-04-05T00:00:00\", \"2013-04-05T00:00:00\", \"2013-04-06T00:00:00\", \"2013-04-06T00:00:00\", \"2013-04-08T00:00:00\", \"2013-04-08T00:00:00\", \"2013-04-08T00:00:00\", \"2013-04-08T00:00:00\", \"2013-04-08T00:00:00\", \"2013-04-08T00:00:00\", \"2013-04-08T00:00:00\", \"2013-04-09T00:00:00\", \"2013-04-09T00:00:00\", \"2013-04-09T00:00:00\", \"2013-04-09T00:00:00\", \"2013-04-09T00:00:00\", \"2013-04-09T00:00:00\", \"2013-04-09T00:00:00\", \"2013-04-10T00:00:00\", \"2013-04-10T00:00:00\", \"2013-04-10T00:00:00\", \"2013-04-10T00:00:00\", \"2013-04-10T00:00:00\", \"2013-04-10T00:00:00\", \"2013-04-10T00:00:00\", \"2013-04-10T00:00:00\", \"2013-04-11T00:00:00\", \"2013-04-11T00:00:00\", \"2013-04-11T00:00:00\", \"2013-04-12T00:00:00\", \"2013-04-12T00:00:00\", \"2013-04-12T00:00:00\", \"2013-04-12T00:00:00\", \"2013-04-12T00:00:00\", \"2013-04-12T00:00:00\", \"2013-04-15T00:00:00\", \"2013-04-15T00:00:00\", \"2013-04-15T00:00:00\", \"2013-04-15T00:00:00\", \"2013-04-15T00:00:00\", \"2013-04-15T00:00:00\", \"2013-04-15T00:00:00\", \"2013-04-15T00:00:00\", \"2013-04-15T00:00:00\", \"2013-04-15T00:00:00\", \"2013-04-15T00:00:00\", \"2013-04-15T00:00:00\", \"2013-04-16T00:00:00\", \"2013-04-16T00:00:00\", \"2013-04-16T00:00:00\", \"2013-04-16T00:00:00\", \"2013-04-17T00:00:00\", \"2013-04-17T00:00:00\", \"2013-04-17T00:00:00\", \"2013-04-17T00:00:00\", \"2013-04-17T00:00:00\", \"2013-04-17T00:00:00\", \"2013-04-17T00:00:00\", \"2013-04-17T00:00:00\", \"2013-04-18T00:00:00\", \"2013-04-18T00:00:00\", \"2013-04-18T00:00:00\", \"2013-04-18T00:00:00\", \"2013-04-19T00:00:00\", \"2013-04-19T00:00:00\", \"2013-04-19T00:00:00\", \"2013-04-19T00:00:00\", \"2013-04-19T00:00:00\", \"2013-04-19T00:00:00\", \"2013-04-19T00:00:00\", \"2013-04-21T00:00:00\", \"2013-04-20T00:00:00\", \"2013-04-20T00:00:00\", \"2013-04-22T00:00:00\", \"2013-04-22T00:00:00\", \"2013-04-22T00:00:00\", \"2013-04-22T00:00:00\", \"2013-04-22T00:00:00\", \"2013-04-22T00:00:00\", \"2013-04-23T00:00:00\", \"2013-04-23T00:00:00\", \"2013-04-24T00:00:00\", \"2013-04-25T00:00:00\", \"2013-04-25T00:00:00\", \"2013-04-26T00:00:00\", \"2013-04-26T00:00:00\", \"2013-04-26T00:00:00\", \"2013-04-26T00:00:00\", \"2013-04-26T00:00:00\", \"2013-04-26T00:00:00\", \"2013-04-26T00:00:00\", \"2013-04-26T00:00:00\", \"2013-04-26T00:00:00\", \"2013-04-26T00:00:00\", \"2013-04-26T00:00:00\", \"2013-04-26T00:00:00\", \"2013-04-28T00:00:00\", \"2013-04-28T00:00:00\", \"2013-04-28T00:00:00\", \"2013-04-28T00:00:00\", \"2013-04-27T00:00:00\", \"2013-04-27T00:00:00\", \"2013-04-29T00:00:00\", \"2013-04-29T00:00:00\", \"2013-04-30T00:00:00\", \"2013-04-30T00:00:00\", \"2013-04-30T00:00:00\", \"2013-04-30T00:00:00\", \"2013-05-01T00:00:00\", \"2013-05-01T00:00:00\", \"2013-05-01T00:00:00\", \"2013-05-01T00:00:00\", \"2013-05-02T00:00:00\", \"2013-05-01T00:00:00\", \"2013-05-01T00:00:00\", \"2013-05-01T00:00:00\", \"2013-05-01T00:00:00\", \"2013-05-02T00:00:00\", \"2013-05-02T00:00:00\", \"2013-05-02T00:00:00\", \"2013-05-02T00:00:00\", \"2013-05-02T00:00:00\", \"2013-05-02T00:00:00\", \"2013-05-01T00:00:00\", \"2013-05-01T00:00:00\", \"2013-05-01T00:00:00\", \"2013-05-01T00:00:00\", \"2013-05-01T00:00:00\", \"2013-05-01T00:00:00\", \"2013-05-03T00:00:00\", \"2013-05-03T00:00:00\", \"2013-05-03T00:00:00\", \"2013-05-03T00:00:00\", \"2013-05-03T00:00:00\", \"2013-05-04T00:00:00\", \"2013-05-04T00:00:00\", \"2013-05-05T00:00:00\", \"2013-05-05T00:00:00\", \"2013-05-05T00:00:00\", \"2013-05-05T00:00:00\", \"2013-05-06T00:00:00\", \"2013-05-06T00:00:00\", \"2013-05-06T00:00:00\", \"2013-05-06T00:00:00\", \"2013-05-06T00:00:00\", \"2013-05-06T00:00:00\", \"2013-05-07T00:00:00\", \"2013-05-07T00:00:00\", \"2013-05-07T00:00:00\", \"2013-05-09T00:00:00\", \"2013-05-09T00:00:00\", \"2013-05-09T00:00:00\", \"2013-05-09T00:00:00\", \"2013-05-09T00:00:00\", \"2013-05-09T00:00:00\", \"2013-05-09T00:00:00\", \"2013-05-08T00:00:00\", \"2013-05-08T00:00:00\", \"2013-05-09T00:00:00\", \"2013-05-09T00:00:00\", \"2013-05-10T00:00:00\", \"2013-05-10T00:00:00\", \"2013-05-10T00:00:00\", \"2013-05-10T00:00:00\", \"2013-05-10T00:00:00\", \"2013-05-10T00:00:00\", \"2013-05-10T00:00:00\", \"2013-05-11T00:00:00\", \"2013-05-11T00:00:00\", \"2013-05-12T00:00:00\", \"2013-05-12T00:00:00\", \"2013-05-12T00:00:00\", \"2013-05-12T00:00:00\", \"2013-05-12T00:00:00\", \"2013-05-12T00:00:00\", \"2013-05-11T00:00:00\", \"2013-05-11T00:00:00\", \"2013-05-12T00:00:00\", \"2013-05-12T00:00:00\", \"2013-05-12T00:00:00\", \"2013-05-12T00:00:00\", \"2013-05-13T00:00:00\", \"2013-05-13T00:00:00\", \"2013-05-13T00:00:00\", \"2013-05-13T00:00:00\", \"2013-05-13T00:00:00\", \"2013-05-13T00:00:00\", \"2013-05-13T00:00:00\", \"2013-05-13T00:00:00\", \"2013-05-13T00:00:00\", \"2013-05-13T00:00:00\", \"2013-05-15T00:00:00\", \"2013-05-15T00:00:00\", \"2013-05-15T00:00:00\", \"2013-05-15T00:00:00\", \"2013-05-15T00:00:00\", \"2013-05-15T00:00:00\", \"2013-05-15T00:00:00\", \"2013-05-15T00:00:00\", \"2013-05-15T00:00:00\", \"2013-05-15T00:00:00\", \"2013-05-16T00:00:00\", \"2013-05-17T00:00:00\", \"2013-05-17T00:00:00\", \"2013-05-17T00:00:00\", \"2013-05-22T00:00:00\", \"2013-05-21T00:00:00\", \"2013-05-23T00:00:00\", \"2013-05-23T00:00:00\", \"2013-05-22T00:00:00\", \"2013-05-18T00:00:00\", \"2013-05-18T00:00:00\", \"2013-05-23T00:00:00\", \"2013-05-23T00:00:00\", \"2013-05-24T00:00:00\", \"2013-05-24T00:00:00\", \"2013-05-26T00:00:00\", \"2013-05-26T00:00:00\", \"2013-05-26T00:00:00\", \"2013-05-26T00:00:00\", \"2013-05-26T00:00:00\", \"2013-05-26T00:00:00\", \"2013-05-26T00:00:00\", \"2013-05-26T00:00:00\", \"2013-05-26T00:00:00\", \"2013-05-27T00:00:00\", \"2013-05-27T00:00:00\", \"2013-05-27T00:00:00\", \"2013-05-28T00:00:00\", \"2013-05-28T00:00:00\", \"2013-05-28T00:00:00\", \"2013-05-28T00:00:00\", \"2013-05-28T00:00:00\", \"2013-05-28T00:00:00\", \"2013-05-28T00:00:00\", \"2013-05-28T00:00:00\", \"2013-05-29T00:00:00\", \"2013-05-29T00:00:00\", \"2013-05-29T00:00:00\", \"2013-05-29T00:00:00\", \"2013-05-29T00:00:00\", \"2013-05-30T00:00:00\", \"2013-05-30T00:00:00\", \"2013-05-30T00:00:00\", \"2013-05-30T00:00:00\", \"2013-05-30T00:00:00\", \"2013-05-30T00:00:00\", \"2013-05-30T00:00:00\", \"2013-05-30T00:00:00\", \"2013-05-30T00:00:00\", \"2013-05-30T00:00:00\", \"2013-05-30T00:00:00\", \"2013-05-31T00:00:00\", \"2013-05-31T00:00:00\", \"2013-06-03T00:00:00\", \"2013-06-03T00:00:00\", \"2013-06-03T00:00:00\", \"2013-06-03T00:00:00\", \"2013-06-03T00:00:00\", \"2013-06-03T00:00:00\", \"2013-06-03T00:00:00\", \"2013-06-04T00:00:00\", \"2013-06-04T00:00:00\", \"2013-06-04T00:00:00\", \"2013-06-05T00:00:00\", \"2013-06-05T00:00:00\", \"2013-06-05T00:00:00\", \"2013-06-05T00:00:00\", \"2013-06-06T00:00:00\", \"2013-06-06T00:00:00\", \"2013-06-06T00:00:00\", \"2013-06-06T00:00:00\", \"2013-06-06T00:00:00\", \"2013-06-06T00:00:00\", \"2013-06-06T00:00:00\", \"2013-06-06T00:00:00\", \"2013-06-06T00:00:00\", \"2013-06-06T00:00:00\", \"2013-06-06T00:00:00\", \"2013-06-07T00:00:00\", \"2013-06-07T00:00:00\", \"2013-06-07T00:00:00\", \"2013-06-07T00:00:00\", \"2013-06-07T00:00:00\", \"2013-06-07T00:00:00\", \"2013-06-07T00:00:00\", \"2013-06-08T00:00:00\", \"2013-06-08T00:00:00\", \"2013-06-10T00:00:00\", \"2013-06-10T00:00:00\", \"2013-06-10T00:00:00\", \"2013-06-10T00:00:00\", \"2013-06-10T00:00:00\", \"2013-06-11T00:00:00\", \"2013-06-11T00:00:00\", \"2013-06-11T00:00:00\", \"2013-06-11T00:00:00\", \"2013-06-11T00:00:00\", \"2013-06-11T00:00:00\", \"2013-06-11T00:00:00\", \"2013-06-13T00:00:00\", \"2013-06-13T00:00:00\", \"2013-06-14T00:00:00\", \"2013-06-14T00:00:00\", \"2013-06-15T00:00:00\", \"2013-06-15T00:00:00\", \"2013-06-14T00:00:00\", \"2013-06-14T00:00:00\", \"2013-06-14T00:00:00\", \"2013-06-14T00:00:00\", \"2013-06-14T00:00:00\", \"2013-06-14T00:00:00\", \"2013-07-14T00:00:00\", \"2013-08-14T00:00:00\", \"2013-09-14T00:00:00\", \"2013-10-14T00:00:00\", \"2013-11-14T00:00:00\", \"2013-12-14T00:00:00\", \"2014-01-14T00:00:00\", \"2014-02-14T00:00:00\", \"2014-03-14T00:00:00\", \"2014-04-14T00:00:00\", \"2014-05-14T00:00:00\", \"2014-06-14T00:00:00\"], \"y\": [null, null, null, null, null, null, null, null, null, null, null, null, null, null, null, null, null, null, null, null, null, null, null, null, null, null, null, null, null, null, null, null, null, null, null, null, null, null, null, null, null, null, null, null, null, null, null, null, null, null, null, null, null, null, null, null, null, null, null, null, null, null, null, null, null, null, null, null, null, null, null, null, null, null, null, null, null, null, null, null, null, null, null, null, null, null, null, null, null, null, null, null, null, null, null, null, null, null, null, null, null, null, null, null, null, null, null, null, null, null, null, null, null, null, null, null, null, null, null, null, null, null, null, null, null, null, null, null, null, null, null, null, null, null, null, null, null, null, null, null, null, null, null, null, null, null, null, null, null, null, null, null, null, null, null, null, null, null, null, null, null, null, null, null, null, null, null, null, null, null, null, null, null, null, null, null, null, null, null, null, null, null, null, null, null, null, null, null, null, null, null, null, null, null, null, null, null, null, null, null, null, null, null, null, null, null, null, null, null, null, null, null, null, null, null, null, null, null, null, null, null, null, null, null, null, null, null, null, null, null, null, null, null, null, null, null, null, null, null, null, null, null, null, null, null, null, null, null, null, null, null, null, null, null, null, null, null, null, null, null, null, null, null, null, null, null, null, null, null, null, null, null, null, null, null, null, null, null, null, null, null, null, null, null, null, null, null, null, null, null, null, null, null, null, null, null, null, null, null, null, null, null, null, null, null, null, null, null, null, null, null, null, null, null, null, null, null, null, null, null, null, null, null, null, null, null, null, null, null, null, null, null, null, null, null, null, null, null, null, null, null, null, null, null, null, null, null, null, null, null, null, null, null, null, null, null, null, null, null, null, null, null, null, null, null, null, null, null, null, null, null, null, null, null, null, null, null, null, null, null, null, null, null, null, null, null, null, null, null, null, null, null, null, null, null, null, null, null, null, null, null, null, null, null, null, null, null, null, null, null, null, null, null, null, null, null, null, null, null, null, null, null, null, null, null, null, null, null, null, null, null, null, null, null, null, null, null, null, null, null, null, null, null, null, null, null, null, null, null, null, null, null, null, null, null, null, null, null, null, null, null, null, null, null, null, null, null, null, null, null, null, null, null, null, null, null, null, null, null, null, null, null, null, null, null, null, null, null, null, null, null, null, null, null, null, null, null, null, null, null, null, null, null, null, null, null, null, null, null, null, null, null, null, null, null, null, null, null, null, null, null, null, null, 80.53996867313981, 87.79111810773611, 89.79091874882579, 90.31149054318666, 89.597437761724, 88.83844523131847, 88.28771051764488, 87.97544200718403, 87.8416685052216, 87.82115371897817, 87.85492673143744, 87.90576811879873]}],                        {\"template\": {\"data\": {\"bar\": [{\"error_x\": {\"color\": \"#2a3f5f\"}, \"error_y\": {\"color\": \"#2a3f5f\"}, \"marker\": {\"line\": {\"color\": \"#E5ECF6\", \"width\": 0.5}}, \"type\": \"bar\"}], \"barpolar\": [{\"marker\": {\"line\": {\"color\": \"#E5ECF6\", \"width\": 0.5}}, \"type\": \"barpolar\"}], \"carpet\": [{\"aaxis\": {\"endlinecolor\": \"#2a3f5f\", \"gridcolor\": \"white\", \"linecolor\": \"white\", \"minorgridcolor\": \"white\", \"startlinecolor\": \"#2a3f5f\"}, \"baxis\": {\"endlinecolor\": \"#2a3f5f\", \"gridcolor\": \"white\", \"linecolor\": \"white\", \"minorgridcolor\": \"white\", \"startlinecolor\": \"#2a3f5f\"}, \"type\": \"carpet\"}], \"choropleth\": [{\"colorbar\": {\"outlinewidth\": 0, \"ticks\": \"\"}, \"type\": \"choropleth\"}], \"contour\": [{\"colorbar\": {\"outlinewidth\": 0, \"ticks\": \"\"}, \"colorscale\": [[0.0, \"#0d0887\"], [0.1111111111111111, \"#46039f\"], [0.2222222222222222, \"#7201a8\"], [0.3333333333333333, \"#9c179e\"], [0.4444444444444444, \"#bd3786\"], [0.5555555555555556, \"#d8576b\"], [0.6666666666666666, \"#ed7953\"], [0.7777777777777778, \"#fb9f3a\"], [0.8888888888888888, \"#fdca26\"], [1.0, \"#f0f921\"]], \"type\": \"contour\"}], \"contourcarpet\": [{\"colorbar\": {\"outlinewidth\": 0, \"ticks\": \"\"}, \"type\": \"contourcarpet\"}], \"heatmap\": [{\"colorbar\": {\"outlinewidth\": 0, \"ticks\": \"\"}, \"colorscale\": [[0.0, \"#0d0887\"], [0.1111111111111111, \"#46039f\"], [0.2222222222222222, \"#7201a8\"], [0.3333333333333333, \"#9c179e\"], [0.4444444444444444, \"#bd3786\"], [0.5555555555555556, \"#d8576b\"], [0.6666666666666666, \"#ed7953\"], [0.7777777777777778, \"#fb9f3a\"], [0.8888888888888888, \"#fdca26\"], [1.0, \"#f0f921\"]], \"type\": \"heatmap\"}], \"heatmapgl\": [{\"colorbar\": {\"outlinewidth\": 0, \"ticks\": \"\"}, \"colorscale\": [[0.0, \"#0d0887\"], [0.1111111111111111, \"#46039f\"], [0.2222222222222222, \"#7201a8\"], [0.3333333333333333, \"#9c179e\"], [0.4444444444444444, \"#bd3786\"], [0.5555555555555556, \"#d8576b\"], [0.6666666666666666, \"#ed7953\"], [0.7777777777777778, \"#fb9f3a\"], [0.8888888888888888, \"#fdca26\"], [1.0, \"#f0f921\"]], \"type\": \"heatmapgl\"}], \"histogram\": [{\"marker\": {\"colorbar\": {\"outlinewidth\": 0, \"ticks\": \"\"}}, \"type\": \"histogram\"}], \"histogram2d\": [{\"colorbar\": {\"outlinewidth\": 0, \"ticks\": \"\"}, \"colorscale\": [[0.0, \"#0d0887\"], [0.1111111111111111, \"#46039f\"], [0.2222222222222222, \"#7201a8\"], [0.3333333333333333, \"#9c179e\"], [0.4444444444444444, \"#bd3786\"], [0.5555555555555556, \"#d8576b\"], [0.6666666666666666, \"#ed7953\"], [0.7777777777777778, \"#fb9f3a\"], [0.8888888888888888, \"#fdca26\"], [1.0, \"#f0f921\"]], \"type\": \"histogram2d\"}], \"histogram2dcontour\": [{\"colorbar\": {\"outlinewidth\": 0, \"ticks\": \"\"}, \"colorscale\": [[0.0, \"#0d0887\"], [0.1111111111111111, \"#46039f\"], [0.2222222222222222, \"#7201a8\"], [0.3333333333333333, \"#9c179e\"], [0.4444444444444444, \"#bd3786\"], [0.5555555555555556, \"#d8576b\"], [0.6666666666666666, \"#ed7953\"], [0.7777777777777778, \"#fb9f3a\"], [0.8888888888888888, \"#fdca26\"], [1.0, \"#f0f921\"]], \"type\": \"histogram2dcontour\"}], \"mesh3d\": [{\"colorbar\": {\"outlinewidth\": 0, \"ticks\": \"\"}, \"type\": \"mesh3d\"}], \"parcoords\": [{\"line\": {\"colorbar\": {\"outlinewidth\": 0, \"ticks\": \"\"}}, \"type\": \"parcoords\"}], \"pie\": [{\"automargin\": true, \"type\": \"pie\"}], \"scatter\": [{\"marker\": {\"colorbar\": {\"outlinewidth\": 0, \"ticks\": \"\"}}, \"type\": \"scatter\"}], \"scatter3d\": [{\"line\": {\"colorbar\": {\"outlinewidth\": 0, \"ticks\": \"\"}}, \"marker\": {\"colorbar\": {\"outlinewidth\": 0, \"ticks\": \"\"}}, \"type\": \"scatter3d\"}], \"scattercarpet\": [{\"marker\": {\"colorbar\": {\"outlinewidth\": 0, \"ticks\": \"\"}}, \"type\": \"scattercarpet\"}], \"scattergeo\": [{\"marker\": {\"colorbar\": {\"outlinewidth\": 0, \"ticks\": \"\"}}, \"type\": \"scattergeo\"}], \"scattergl\": [{\"marker\": {\"colorbar\": {\"outlinewidth\": 0, \"ticks\": \"\"}}, \"type\": \"scattergl\"}], \"scattermapbox\": [{\"marker\": {\"colorbar\": {\"outlinewidth\": 0, \"ticks\": \"\"}}, \"type\": \"scattermapbox\"}], \"scatterpolar\": [{\"marker\": {\"colorbar\": {\"outlinewidth\": 0, \"ticks\": \"\"}}, \"type\": \"scatterpolar\"}], \"scatterpolargl\": [{\"marker\": {\"colorbar\": {\"outlinewidth\": 0, \"ticks\": \"\"}}, \"type\": \"scatterpolargl\"}], \"scatterternary\": [{\"marker\": {\"colorbar\": {\"outlinewidth\": 0, \"ticks\": \"\"}}, \"type\": \"scatterternary\"}], \"surface\": [{\"colorbar\": {\"outlinewidth\": 0, \"ticks\": \"\"}, \"colorscale\": [[0.0, \"#0d0887\"], [0.1111111111111111, \"#46039f\"], [0.2222222222222222, \"#7201a8\"], [0.3333333333333333, \"#9c179e\"], [0.4444444444444444, \"#bd3786\"], [0.5555555555555556, \"#d8576b\"], [0.6666666666666666, \"#ed7953\"], [0.7777777777777778, \"#fb9f3a\"], [0.8888888888888888, \"#fdca26\"], [1.0, \"#f0f921\"]], \"type\": \"surface\"}], \"table\": [{\"cells\": {\"fill\": {\"color\": \"#EBF0F8\"}, \"line\": {\"color\": \"white\"}}, \"header\": {\"fill\": {\"color\": \"#C8D4E3\"}, \"line\": {\"color\": \"white\"}}, \"type\": \"table\"}]}, \"layout\": {\"annotationdefaults\": {\"arrowcolor\": \"#2a3f5f\", \"arrowhead\": 0, \"arrowwidth\": 1}, \"autotypenumbers\": \"strict\", \"coloraxis\": {\"colorbar\": {\"outlinewidth\": 0, \"ticks\": \"\"}}, \"colorscale\": {\"diverging\": [[0, \"#8e0152\"], [0.1, \"#c51b7d\"], [0.2, \"#de77ae\"], [0.3, \"#f1b6da\"], [0.4, \"#fde0ef\"], [0.5, \"#f7f7f7\"], [0.6, \"#e6f5d0\"], [0.7, \"#b8e186\"], [0.8, \"#7fbc41\"], [0.9, \"#4d9221\"], [1, \"#276419\"]], \"sequential\": [[0.0, \"#0d0887\"], [0.1111111111111111, \"#46039f\"], [0.2222222222222222, \"#7201a8\"], [0.3333333333333333, \"#9c179e\"], [0.4444444444444444, \"#bd3786\"], [0.5555555555555556, \"#d8576b\"], [0.6666666666666666, \"#ed7953\"], [0.7777777777777778, \"#fb9f3a\"], [0.8888888888888888, \"#fdca26\"], [1.0, \"#f0f921\"]], \"sequentialminus\": [[0.0, \"#0d0887\"], [0.1111111111111111, \"#46039f\"], [0.2222222222222222, \"#7201a8\"], [0.3333333333333333, \"#9c179e\"], [0.4444444444444444, \"#bd3786\"], [0.5555555555555556, \"#d8576b\"], [0.6666666666666666, \"#ed7953\"], [0.7777777777777778, \"#fb9f3a\"], [0.8888888888888888, \"#fdca26\"], [1.0, \"#f0f921\"]]}, \"colorway\": [\"#636efa\", \"#EF553B\", \"#00cc96\", \"#ab63fa\", \"#FFA15A\", \"#19d3f3\", \"#FF6692\", \"#B6E880\", \"#FF97FF\", \"#FECB52\"], \"font\": {\"color\": \"#2a3f5f\"}, \"geo\": {\"bgcolor\": \"white\", \"lakecolor\": \"white\", \"landcolor\": \"#E5ECF6\", \"showlakes\": true, \"showland\": true, \"subunitcolor\": \"white\"}, \"hoverlabel\": {\"align\": \"left\"}, \"hovermode\": \"closest\", \"mapbox\": {\"style\": \"light\"}, \"paper_bgcolor\": \"white\", \"plot_bgcolor\": \"#E5ECF6\", \"polar\": {\"angularaxis\": {\"gridcolor\": \"white\", \"linecolor\": \"white\", \"ticks\": \"\"}, \"bgcolor\": \"#E5ECF6\", \"radialaxis\": {\"gridcolor\": \"white\", \"linecolor\": \"white\", \"ticks\": \"\"}}, \"scene\": {\"xaxis\": {\"backgroundcolor\": \"#E5ECF6\", \"gridcolor\": \"white\", \"gridwidth\": 2, \"linecolor\": \"white\", \"showbackground\": true, \"ticks\": \"\", \"zerolinecolor\": \"white\"}, \"yaxis\": {\"backgroundcolor\": \"#E5ECF6\", \"gridcolor\": \"white\", \"gridwidth\": 2, \"linecolor\": \"white\", \"showbackground\": true, \"ticks\": \"\", \"zerolinecolor\": \"white\"}, \"zaxis\": {\"backgroundcolor\": \"#E5ECF6\", \"gridcolor\": \"white\", \"gridwidth\": 2, \"linecolor\": \"white\", \"showbackground\": true, \"ticks\": \"\", \"zerolinecolor\": \"white\"}}, \"shapedefaults\": {\"line\": {\"color\": \"#2a3f5f\"}}, \"ternary\": {\"aaxis\": {\"gridcolor\": \"white\", \"linecolor\": \"white\", \"ticks\": \"\"}, \"baxis\": {\"gridcolor\": \"white\", \"linecolor\": \"white\", \"ticks\": \"\"}, \"bgcolor\": \"#E5ECF6\", \"caxis\": {\"gridcolor\": \"white\", \"linecolor\": \"white\", \"ticks\": \"\"}}, \"title\": {\"x\": 0.05}, \"xaxis\": {\"automargin\": true, \"gridcolor\": \"white\", \"linecolor\": \"white\", \"ticks\": \"\", \"title\": {\"standoff\": 15}, \"zerolinecolor\": \"white\", \"zerolinewidth\": 2}, \"yaxis\": {\"automargin\": true, \"gridcolor\": \"white\", \"linecolor\": \"white\", \"ticks\": \"\", \"title\": {\"standoff\": 15}, \"zerolinecolor\": \"white\", \"zerolinewidth\": 2}}}, \"title\": {\"text\": \"Shampoo sales prediction\"}},                        {\"responsive\": true}                    ).then(function(){\n",
       "                            \n",
       "var gd = document.getElementById('011d2008-c1c5-4302-b9df-6e4f3c94f1d7');\n",
       "var x = new MutationObserver(function (mutations, observer) {{\n",
       "        var display = window.getComputedStyle(gd).display;\n",
       "        if (!display || display === 'none') {{\n",
       "            console.log([gd, 'removed!']);\n",
       "            Plotly.purge(gd);\n",
       "            observer.disconnect();\n",
       "        }}\n",
       "}});\n",
       "\n",
       "// Listen for the removal of the full notebook cells\n",
       "var notebookContainer = gd.closest('#notebook-container');\n",
       "if (notebookContainer) {{\n",
       "    x.observe(notebookContainer, {childList: true});\n",
       "}}\n",
       "\n",
       "// Listen for the clearing of the current output cell\n",
       "var outputEl = gd.closest('.output');\n",
       "if (outputEl) {{\n",
       "    x.observe(outputEl, {childList: true});\n",
       "}}\n",
       "\n",
       "                        })                };                });            </script>        </div>"
      ]
     },
     "metadata": {},
     "output_type": "display_data"
    }
   ],
   "source": [
    "plot_data = [\n",
    "    go.Scatter(\n",
    "        x=df_proj.index,\n",
    "        y=df_proj['CALLS_duration'],\n",
    "        name='actual'\n",
    "    ),\n",
    "    go.Scatter(\n",
    "        x=df_proj.index,\n",
    "        y=df_proj['Prediction'],\n",
    "        name='prediction'\n",
    "    )\n",
    "]\n",
    "\n",
    "plot_layout = go.Layout(\n",
    "        title='Shampoo sales prediction'\n",
    "    )\n",
    "fig = go.Figure(data=plot_data, layout=plot_layout)\n",
    "pyoff.iplot(fig)"
   ]
  },
  {
   "cell_type": "code",
   "execution_count": null,
   "metadata": {},
   "outputs": [],
   "source": []
  }
 ],
 "metadata": {
  "kernelspec": {
   "display_name": "Python 3",
   "language": "python",
   "name": "python3"
  },
  "language_info": {
   "codemirror_mode": {
    "name": "ipython",
    "version": 3
   },
   "file_extension": ".py",
   "mimetype": "text/x-python",
   "name": "python",
   "nbconvert_exporter": "python",
   "pygments_lexer": "ipython3",
   "version": "3.8.5"
  }
 },
 "nbformat": 4,
 "nbformat_minor": 4
}
